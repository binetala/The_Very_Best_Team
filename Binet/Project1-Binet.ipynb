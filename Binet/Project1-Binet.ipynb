{
 "cells": [
  {
   "cell_type": "code",
   "execution_count": 1,
   "metadata": {},
   "outputs": [],
   "source": [
    "#Dependencies\n",
    "import pandas as pd\n",
    "import numpy as np\n",
    "import matplotlib.pyplot as plt\n",
    "import scipy.stats as st\n",
    "from scipy.stats import linregress\n",
    "import time\n",
    "import datetime as dt\n",
    "#import json\n",
    "#import requests\n",
    "import quandl"
   ]
  },
  {
   "cell_type": "code",
   "execution_count": 2,
   "metadata": {},
   "outputs": [
    {
     "data": {
      "text/html": [
       "<div>\n",
       "<style scoped>\n",
       "    .dataframe tbody tr th:only-of-type {\n",
       "        vertical-align: middle;\n",
       "    }\n",
       "\n",
       "    .dataframe tbody tr th {\n",
       "        vertical-align: top;\n",
       "    }\n",
       "\n",
       "    .dataframe thead th {\n",
       "        text-align: right;\n",
       "    }\n",
       "</style>\n",
       "<table border=\"1\" class=\"dataframe\">\n",
       "  <thead>\n",
       "    <tr style=\"text-align: right;\">\n",
       "      <th></th>\n",
       "      <th>Year</th>\n",
       "      <th>Month</th>\n",
       "      <th>Year-Month</th>\n",
       "      <th>Date Zillow</th>\n",
       "      <th>Date Interest</th>\n",
       "      <th>Indicator ID</th>\n",
       "      <th>Indicator Name</th>\n",
       "      <th>Region ID</th>\n",
       "      <th>Region Type</th>\n",
       "      <th>Region Name</th>\n",
       "      <th>Value</th>\n",
       "      <th>County Population</th>\n",
       "      <th>Unemployment Rate</th>\n",
       "      <th>Wells Fargo Rate</th>\n",
       "      <th>Freddie Mac Rate</th>\n",
       "    </tr>\n",
       "  </thead>\n",
       "  <tbody>\n",
       "    <tr>\n",
       "      <th>0</th>\n",
       "      <td>2016</td>\n",
       "      <td>Apr</td>\n",
       "      <td>2016-4</td>\n",
       "      <td>4/30/2016</td>\n",
       "      <td>4/28/2016</td>\n",
       "      <td>Z2BR</td>\n",
       "      <td>ZHVI 2-Bedroom Time Series ($)</td>\n",
       "      <td>753871</td>\n",
       "      <td>metro</td>\n",
       "      <td>Breckenridge, CO; CO</td>\n",
       "      <td>384884.0</td>\n",
       "      <td>30566.0</td>\n",
       "      <td>3.5</td>\n",
       "      <td>3.88</td>\n",
       "      <td>3.66</td>\n",
       "    </tr>\n",
       "    <tr>\n",
       "      <th>1</th>\n",
       "      <td>2016</td>\n",
       "      <td>Apr</td>\n",
       "      <td>2016-4</td>\n",
       "      <td>4/30/2016</td>\n",
       "      <td>4/28/2016</td>\n",
       "      <td>Z4BR</td>\n",
       "      <td>ZHVI 4-Bedroom Time Series ($)</td>\n",
       "      <td>753871</td>\n",
       "      <td>metro</td>\n",
       "      <td>Breckenridge, CO; CO</td>\n",
       "      <td>881951.0</td>\n",
       "      <td>30566.0</td>\n",
       "      <td>3.5</td>\n",
       "      <td>3.88</td>\n",
       "      <td>3.66</td>\n",
       "    </tr>\n",
       "  </tbody>\n",
       "</table>\n",
       "</div>"
      ],
      "text/plain": [
       "   Year Month Year-Month Date Zillow Date Interest Indicator ID  \\\n",
       "0  2016   Apr     2016-4   4/30/2016     4/28/2016         Z2BR   \n",
       "1  2016   Apr     2016-4   4/30/2016     4/28/2016         Z4BR   \n",
       "\n",
       "                   Indicator Name  Region ID Region Type  \\\n",
       "0  ZHVI 2-Bedroom Time Series ($)     753871       metro   \n",
       "1  ZHVI 4-Bedroom Time Series ($)     753871       metro   \n",
       "\n",
       "            Region Name     Value  County Population  Unemployment Rate  \\\n",
       "0  Breckenridge, CO; CO  384884.0            30566.0                3.5   \n",
       "1  Breckenridge, CO; CO  881951.0            30566.0                3.5   \n",
       "\n",
       "   Wells Fargo Rate  Freddie Mac Rate  \n",
       "0              3.88              3.66  \n",
       "1              3.88              3.66  "
      ]
     },
     "execution_count": 2,
     "metadata": {},
     "output_type": "execute_result"
    }
   ],
   "source": [
    "df = \"master_data_cleaned.csv\"\n",
    "masterdata = pd.read_csv(df)\n",
    "masterdata.head(2)"
   ]
  },
  {
   "cell_type": "code",
   "execution_count": 3,
   "metadata": {},
   "outputs": [],
   "source": [
    "zall_df = masterdata[masterdata[\"Indicator ID\"] == \"ZALL\"]\n",
    "zall_df_dropped = zall_df.dropna(how=\"any\")\n",
    "# zall_df"
   ]
  },
  {
   "cell_type": "code",
   "execution_count": 4,
   "metadata": {},
   "outputs": [
    {
     "name": "stderr",
     "output_type": "stream",
     "text": [
      "<ipython-input-4-96d1b83f08c4>:1: SettingWithCopyWarning: \n",
      "A value is trying to be set on a copy of a slice from a DataFrame.\n",
      "Try using .loc[row_indexer,col_indexer] = value instead\n",
      "\n",
      "See the caveats in the documentation: https://pandas.pydata.org/pandas-docs/stable/user_guide/indexing.html#returning-a-view-versus-a-copy\n",
      "  zall_df['Year-Month'] = zall_df['Year-Month'].apply(pd.to_datetime)\n",
      "<ipython-input-4-96d1b83f08c4>:2: SettingWithCopyWarning: \n",
      "A value is trying to be set on a copy of a slice from a DataFrame.\n",
      "Try using .loc[row_indexer,col_indexer] = value instead\n",
      "\n",
      "See the caveats in the documentation: https://pandas.pydata.org/pandas-docs/stable/user_guide/indexing.html#returning-a-view-versus-a-copy\n",
      "  zall_df['Year-Month'] = pd.to_datetime(zall_df['Year-Month'], format='%Y%B')\n"
     ]
    },
    {
     "data": {
      "text/plain": [
       "Year                          int64\n",
       "Month                        object\n",
       "Year-Month           datetime64[ns]\n",
       "Date Zillow                  object\n",
       "Date Interest                object\n",
       "Indicator ID                 object\n",
       "Indicator Name               object\n",
       "Region ID                     int64\n",
       "Region Type                  object\n",
       "Region Name                  object\n",
       "Value                       float64\n",
       "County Population           float64\n",
       "Unemployment Rate           float64\n",
       "Wells Fargo Rate            float64\n",
       "Freddie Mac Rate            float64\n",
       "dtype: object"
      ]
     },
     "execution_count": 4,
     "metadata": {},
     "output_type": "execute_result"
    }
   ],
   "source": [
    "zall_df['Year-Month'] = zall_df['Year-Month'].apply(pd.to_datetime)\n",
    "zall_df['Year-Month'] = pd.to_datetime(zall_df['Year-Month'], format='%Y%B')\n",
    "\n",
    "zall_df.dtypes"
   ]
  },
  {
   "cell_type": "code",
   "execution_count": 5,
   "metadata": {},
   "outputs": [
    {
     "data": {
      "text/html": [
       "<div>\n",
       "<style scoped>\n",
       "    .dataframe tbody tr th:only-of-type {\n",
       "        vertical-align: middle;\n",
       "    }\n",
       "\n",
       "    .dataframe tbody tr th {\n",
       "        vertical-align: top;\n",
       "    }\n",
       "\n",
       "    .dataframe thead th {\n",
       "        text-align: right;\n",
       "    }\n",
       "</style>\n",
       "<table border=\"1\" class=\"dataframe\">\n",
       "  <thead>\n",
       "    <tr style=\"text-align: right;\">\n",
       "      <th></th>\n",
       "      <th>Year</th>\n",
       "      <th>Month</th>\n",
       "      <th>Year-Month</th>\n",
       "      <th>Date Zillow</th>\n",
       "      <th>Date Interest</th>\n",
       "      <th>Indicator ID</th>\n",
       "      <th>Indicator Name</th>\n",
       "      <th>Region ID</th>\n",
       "      <th>Region Type</th>\n",
       "      <th>Region Name</th>\n",
       "      <th>Value</th>\n",
       "      <th>County Population</th>\n",
       "      <th>Unemployment Rate</th>\n",
       "      <th>Wells Fargo Rate</th>\n",
       "      <th>Freddie Mac Rate</th>\n",
       "    </tr>\n",
       "  </thead>\n",
       "  <tbody>\n",
       "    <tr>\n",
       "      <th>9</th>\n",
       "      <td>2016</td>\n",
       "      <td>Apr</td>\n",
       "      <td>2016-04-01</td>\n",
       "      <td>4/30/2016</td>\n",
       "      <td>4/28/2016</td>\n",
       "      <td>ZALL</td>\n",
       "      <td>ZHVI All Homes (SFR, Condo/Co-op) Time Series ($)</td>\n",
       "      <td>753871</td>\n",
       "      <td>metro</td>\n",
       "      <td>Breckenridge, CO; CO</td>\n",
       "      <td>468987.0</td>\n",
       "      <td>30566.0</td>\n",
       "      <td>3.5</td>\n",
       "      <td>3.88</td>\n",
       "      <td>3.66</td>\n",
       "    </tr>\n",
       "    <tr>\n",
       "      <th>416</th>\n",
       "      <td>2016</td>\n",
       "      <td>Apr</td>\n",
       "      <td>2016-04-01</td>\n",
       "      <td>4/30/2016</td>\n",
       "      <td>4/28/2016</td>\n",
       "      <td>ZALL</td>\n",
       "      <td>ZHVI All Homes (SFR, Condo/Co-op) Time Series ($)</td>\n",
       "      <td>394484</td>\n",
       "      <td>metro</td>\n",
       "      <td>Colorado Springs, CO</td>\n",
       "      <td>241753.0</td>\n",
       "      <td>689481.0</td>\n",
       "      <td>3.5</td>\n",
       "      <td>3.88</td>\n",
       "      <td>3.66</td>\n",
       "    </tr>\n",
       "  </tbody>\n",
       "</table>\n",
       "</div>"
      ],
      "text/plain": [
       "     Year Month Year-Month Date Zillow Date Interest Indicator ID  \\\n",
       "9    2016   Apr 2016-04-01   4/30/2016     4/28/2016         ZALL   \n",
       "416  2016   Apr 2016-04-01   4/30/2016     4/28/2016         ZALL   \n",
       "\n",
       "                                        Indicator Name  Region ID Region Type  \\\n",
       "9    ZHVI All Homes (SFR, Condo/Co-op) Time Series ($)     753871       metro   \n",
       "416  ZHVI All Homes (SFR, Condo/Co-op) Time Series ($)     394484       metro   \n",
       "\n",
       "              Region Name     Value  County Population  Unemployment Rate  \\\n",
       "9    Breckenridge, CO; CO  468987.0            30566.0                3.5   \n",
       "416  Colorado Springs, CO  241753.0           689481.0                3.5   \n",
       "\n",
       "     Wells Fargo Rate  Freddie Mac Rate  \n",
       "9                3.88              3.66  \n",
       "416              3.88              3.66  "
      ]
     },
     "execution_count": 5,
     "metadata": {},
     "output_type": "execute_result"
    }
   ],
   "source": [
    "zall_df = zall_df.sort_values(\"Year-Month\")\n",
    "zall_df.head(2)"
   ]
  },
  {
   "cell_type": "code",
   "execution_count": 6,
   "metadata": {},
   "outputs": [
    {
     "data": {
      "text/html": [
       "<div>\n",
       "<style scoped>\n",
       "    .dataframe tbody tr th:only-of-type {\n",
       "        vertical-align: middle;\n",
       "    }\n",
       "\n",
       "    .dataframe tbody tr th {\n",
       "        vertical-align: top;\n",
       "    }\n",
       "\n",
       "    .dataframe thead th {\n",
       "        text-align: right;\n",
       "    }\n",
       "</style>\n",
       "<table border=\"1\" class=\"dataframe\">\n",
       "  <thead>\n",
       "    <tr style=\"text-align: right;\">\n",
       "      <th></th>\n",
       "      <th>Year</th>\n",
       "      <th>Month</th>\n",
       "      <th>Year-Month</th>\n",
       "      <th>Date Zillow</th>\n",
       "      <th>Date Interest</th>\n",
       "      <th>Indicator ID</th>\n",
       "      <th>Indicator Name</th>\n",
       "      <th>Region ID</th>\n",
       "      <th>Region Type</th>\n",
       "      <th>Region Name</th>\n",
       "      <th>Value</th>\n",
       "      <th>County Population</th>\n",
       "      <th>Unemployment Rate</th>\n",
       "      <th>Wells Fargo Rate</th>\n",
       "      <th>Freddie Mac Rate</th>\n",
       "    </tr>\n",
       "  </thead>\n",
       "  <tbody>\n",
       "    <tr>\n",
       "      <th>417</th>\n",
       "      <td>2016</td>\n",
       "      <td>Apr</td>\n",
       "      <td>2016-4</td>\n",
       "      <td>4/30/2016</td>\n",
       "      <td>4/28/2016</td>\n",
       "      <td>SSAM</td>\n",
       "      <td>Median Sale Price (Smooth, All Homes, Monthly)</td>\n",
       "      <td>394484</td>\n",
       "      <td>metro</td>\n",
       "      <td>Colorado Springs, CO</td>\n",
       "      <td>246388.0</td>\n",
       "      <td>689481.0</td>\n",
       "      <td>3.5</td>\n",
       "      <td>3.88</td>\n",
       "      <td>3.66</td>\n",
       "    </tr>\n",
       "    <tr>\n",
       "      <th>582</th>\n",
       "      <td>2016</td>\n",
       "      <td>May</td>\n",
       "      <td>2016-5</td>\n",
       "      <td>5/31/2016</td>\n",
       "      <td>5/5/2016</td>\n",
       "      <td>SSAM</td>\n",
       "      <td>Median Sale Price (Smooth, All Homes, Monthly)</td>\n",
       "      <td>394484</td>\n",
       "      <td>metro</td>\n",
       "      <td>Colorado Springs, CO</td>\n",
       "      <td>251325.0</td>\n",
       "      <td>689481.0</td>\n",
       "      <td>3.4</td>\n",
       "      <td>3.75</td>\n",
       "      <td>3.61</td>\n",
       "    </tr>\n",
       "  </tbody>\n",
       "</table>\n",
       "</div>"
      ],
      "text/plain": [
       "     Year Month Year-Month Date Zillow Date Interest Indicator ID  \\\n",
       "417  2016   Apr     2016-4   4/30/2016     4/28/2016         SSAM   \n",
       "582  2016   May     2016-5   5/31/2016      5/5/2016         SSAM   \n",
       "\n",
       "                                     Indicator Name  Region ID Region Type  \\\n",
       "417  Median Sale Price (Smooth, All Homes, Monthly)     394484       metro   \n",
       "582  Median Sale Price (Smooth, All Homes, Monthly)     394484       metro   \n",
       "\n",
       "              Region Name     Value  County Population  Unemployment Rate  \\\n",
       "417  Colorado Springs, CO  246388.0           689481.0                3.5   \n",
       "582  Colorado Springs, CO  251325.0           689481.0                3.4   \n",
       "\n",
       "     Wells Fargo Rate  Freddie Mac Rate  \n",
       "417              3.88              3.66  \n",
       "582              3.75              3.61  "
      ]
     },
     "execution_count": 6,
     "metadata": {},
     "output_type": "execute_result"
    }
   ],
   "source": [
    "ssam_df = masterdata[masterdata[\"Indicator ID\"] == \"SSAM\"]\n",
    "ssam_df_dropped = ssam_df.dropna(how=\"any\")\n",
    "ssam_df.head(2)"
   ]
  },
  {
   "cell_type": "code",
   "execution_count": 7,
   "metadata": {},
   "outputs": [
    {
     "name": "stderr",
     "output_type": "stream",
     "text": [
      "<ipython-input-7-bfa8582edd15>:1: SettingWithCopyWarning: \n",
      "A value is trying to be set on a copy of a slice from a DataFrame.\n",
      "Try using .loc[row_indexer,col_indexer] = value instead\n",
      "\n",
      "See the caveats in the documentation: https://pandas.pydata.org/pandas-docs/stable/user_guide/indexing.html#returning-a-view-versus-a-copy\n",
      "  ssam_df['Year-Month'] = ssam_df['Year-Month'].apply(pd.to_datetime)\n",
      "<ipython-input-7-bfa8582edd15>:2: SettingWithCopyWarning: \n",
      "A value is trying to be set on a copy of a slice from a DataFrame.\n",
      "Try using .loc[row_indexer,col_indexer] = value instead\n",
      "\n",
      "See the caveats in the documentation: https://pandas.pydata.org/pandas-docs/stable/user_guide/indexing.html#returning-a-view-versus-a-copy\n",
      "  ssam_df['Year-Month'] = pd.to_datetime(ssam_df['Year-Month'], format='%Y%B')\n"
     ]
    }
   ],
   "source": [
    "ssam_df['Year-Month'] = ssam_df['Year-Month'].apply(pd.to_datetime)\n",
    "ssam_df['Year-Month'] = pd.to_datetime(ssam_df['Year-Month'], format='%Y%B')"
   ]
  },
  {
   "cell_type": "code",
   "execution_count": 8,
   "metadata": {},
   "outputs": [
    {
     "data": {
      "text/html": [
       "<div>\n",
       "<style scoped>\n",
       "    .dataframe tbody tr th:only-of-type {\n",
       "        vertical-align: middle;\n",
       "    }\n",
       "\n",
       "    .dataframe tbody tr th {\n",
       "        vertical-align: top;\n",
       "    }\n",
       "\n",
       "    .dataframe thead th {\n",
       "        text-align: right;\n",
       "    }\n",
       "</style>\n",
       "<table border=\"1\" class=\"dataframe\">\n",
       "  <thead>\n",
       "    <tr style=\"text-align: right;\">\n",
       "      <th></th>\n",
       "      <th>Year</th>\n",
       "      <th>Month</th>\n",
       "      <th>Year-Month</th>\n",
       "      <th>Date Zillow</th>\n",
       "      <th>Date Interest</th>\n",
       "      <th>Indicator ID</th>\n",
       "      <th>Indicator Name</th>\n",
       "      <th>Region ID</th>\n",
       "      <th>Region Type</th>\n",
       "      <th>Region Name</th>\n",
       "      <th>Value</th>\n",
       "      <th>County Population</th>\n",
       "      <th>Unemployment Rate</th>\n",
       "      <th>Wells Fargo Rate</th>\n",
       "      <th>Freddie Mac Rate</th>\n",
       "    </tr>\n",
       "  </thead>\n",
       "  <tbody>\n",
       "    <tr>\n",
       "      <th>417</th>\n",
       "      <td>2016</td>\n",
       "      <td>Apr</td>\n",
       "      <td>2016-04-01</td>\n",
       "      <td>4/30/2016</td>\n",
       "      <td>4/28/2016</td>\n",
       "      <td>SSAM</td>\n",
       "      <td>Median Sale Price (Smooth, All Homes, Monthly)</td>\n",
       "      <td>394484</td>\n",
       "      <td>metro</td>\n",
       "      <td>Colorado Springs, CO</td>\n",
       "      <td>246388.0</td>\n",
       "      <td>689481.0</td>\n",
       "      <td>3.5</td>\n",
       "      <td>3.88</td>\n",
       "      <td>3.66</td>\n",
       "    </tr>\n",
       "    <tr>\n",
       "      <th>3693</th>\n",
       "      <td>2016</td>\n",
       "      <td>Apr</td>\n",
       "      <td>2016-04-01</td>\n",
       "      <td>4/30/2016</td>\n",
       "      <td>4/28/2016</td>\n",
       "      <td>SSAM</td>\n",
       "      <td>Median Sale Price (Smooth, All Homes, Monthly)</td>\n",
       "      <td>394645</td>\n",
       "      <td>metro</td>\n",
       "      <td>Greeley, CO</td>\n",
       "      <td>272475.0</td>\n",
       "      <td>294867.0</td>\n",
       "      <td>3.5</td>\n",
       "      <td>3.88</td>\n",
       "      <td>3.66</td>\n",
       "    </tr>\n",
       "  </tbody>\n",
       "</table>\n",
       "</div>"
      ],
      "text/plain": [
       "      Year Month Year-Month Date Zillow Date Interest Indicator ID  \\\n",
       "417   2016   Apr 2016-04-01   4/30/2016     4/28/2016         SSAM   \n",
       "3693  2016   Apr 2016-04-01   4/30/2016     4/28/2016         SSAM   \n",
       "\n",
       "                                      Indicator Name  Region ID Region Type  \\\n",
       "417   Median Sale Price (Smooth, All Homes, Monthly)     394484       metro   \n",
       "3693  Median Sale Price (Smooth, All Homes, Monthly)     394645       metro   \n",
       "\n",
       "               Region Name     Value  County Population  Unemployment Rate  \\\n",
       "417   Colorado Springs, CO  246388.0           689481.0                3.5   \n",
       "3693           Greeley, CO  272475.0           294867.0                3.5   \n",
       "\n",
       "      Wells Fargo Rate  Freddie Mac Rate  \n",
       "417               3.88              3.66  \n",
       "3693              3.88              3.66  "
      ]
     },
     "execution_count": 8,
     "metadata": {},
     "output_type": "execute_result"
    }
   ],
   "source": [
    "ssam_df = ssam_df.sort_values(\"Year-Month\")\n",
    "ssam_df.head(2)"
   ]
  },
  {
   "cell_type": "code",
   "execution_count": 9,
   "metadata": {},
   "outputs": [
    {
     "data": {
      "text/html": [
       "<div>\n",
       "<style scoped>\n",
       "    .dataframe tbody tr th:only-of-type {\n",
       "        vertical-align: middle;\n",
       "    }\n",
       "\n",
       "    .dataframe tbody tr th {\n",
       "        vertical-align: top;\n",
       "    }\n",
       "\n",
       "    .dataframe thead th {\n",
       "        text-align: right;\n",
       "    }\n",
       "</style>\n",
       "<table border=\"1\" class=\"dataframe\">\n",
       "  <thead>\n",
       "    <tr style=\"text-align: right;\">\n",
       "      <th></th>\n",
       "      <th>Year</th>\n",
       "      <th>Month</th>\n",
       "      <th>Year-Month</th>\n",
       "      <th>Date Zillow</th>\n",
       "      <th>Date Interest</th>\n",
       "      <th>Indicator ID</th>\n",
       "      <th>Indicator Name</th>\n",
       "      <th>Region ID</th>\n",
       "      <th>Region Type</th>\n",
       "      <th>Region Name</th>\n",
       "      <th>Value</th>\n",
       "      <th>County Population</th>\n",
       "      <th>Unemployment Rate</th>\n",
       "      <th>Wells Fargo Rate</th>\n",
       "      <th>Freddie Mac Rate</th>\n",
       "    </tr>\n",
       "  </thead>\n",
       "  <tbody>\n",
       "    <tr>\n",
       "      <th>2055</th>\n",
       "      <td>2016</td>\n",
       "      <td>Apr</td>\n",
       "      <td>2016-04-01</td>\n",
       "      <td>4/30/2016</td>\n",
       "      <td>4/28/2016</td>\n",
       "      <td>SSAM</td>\n",
       "      <td>Median Sale Price (Smooth, All Homes, Monthly)</td>\n",
       "      <td>394530</td>\n",
       "      <td>metro</td>\n",
       "      <td>Denver, CO</td>\n",
       "      <td>340150.0</td>\n",
       "      <td>697744.0</td>\n",
       "      <td>3.5</td>\n",
       "      <td>3.88</td>\n",
       "      <td>3.66</td>\n",
       "    </tr>\n",
       "    <tr>\n",
       "      <th>2223</th>\n",
       "      <td>2016</td>\n",
       "      <td>May</td>\n",
       "      <td>2016-05-01</td>\n",
       "      <td>5/31/2016</td>\n",
       "      <td>5/26/2016</td>\n",
       "      <td>SSAM</td>\n",
       "      <td>Median Sale Price (Smooth, All Homes, Monthly)</td>\n",
       "      <td>394530</td>\n",
       "      <td>metro</td>\n",
       "      <td>Denver, CO</td>\n",
       "      <td>350150.0</td>\n",
       "      <td>697744.0</td>\n",
       "      <td>3.4</td>\n",
       "      <td>3.88</td>\n",
       "      <td>3.64</td>\n",
       "    </tr>\n",
       "  </tbody>\n",
       "</table>\n",
       "</div>"
      ],
      "text/plain": [
       "      Year Month Year-Month Date Zillow Date Interest Indicator ID  \\\n",
       "2055  2016   Apr 2016-04-01   4/30/2016     4/28/2016         SSAM   \n",
       "2223  2016   May 2016-05-01   5/31/2016     5/26/2016         SSAM   \n",
       "\n",
       "                                      Indicator Name  Region ID Region Type  \\\n",
       "2055  Median Sale Price (Smooth, All Homes, Monthly)     394530       metro   \n",
       "2223  Median Sale Price (Smooth, All Homes, Monthly)     394530       metro   \n",
       "\n",
       "     Region Name     Value  County Population  Unemployment Rate  \\\n",
       "2055  Denver, CO  340150.0           697744.0                3.5   \n",
       "2223  Denver, CO  350150.0           697744.0                3.4   \n",
       "\n",
       "      Wells Fargo Rate  Freddie Mac Rate  \n",
       "2055              3.88              3.66  \n",
       "2223              3.88              3.64  "
      ]
     },
     "execution_count": 9,
     "metadata": {},
     "output_type": "execute_result"
    }
   ],
   "source": [
    "Denver_data_ssam = ssam_df.loc[ssam_df['Region Name']=='Denver, CO']\n",
    "Denver_data_ssam.head(2)"
   ]
  },
  {
   "cell_type": "code",
   "execution_count": 10,
   "metadata": {},
   "outputs": [],
   "source": [
    "Denver_Value_SSAM = Denver_data_ssam.groupby('Year-Month')['Value'].mean()\n",
    "# Denver_Value_SSAM"
   ]
  },
  {
   "cell_type": "code",
   "execution_count": 11,
   "metadata": {},
   "outputs": [
    {
     "data": {
      "text/html": [
       "<div>\n",
       "<style scoped>\n",
       "    .dataframe tbody tr th:only-of-type {\n",
       "        vertical-align: middle;\n",
       "    }\n",
       "\n",
       "    .dataframe tbody tr th {\n",
       "        vertical-align: top;\n",
       "    }\n",
       "\n",
       "    .dataframe thead th {\n",
       "        text-align: right;\n",
       "    }\n",
       "</style>\n",
       "<table border=\"1\" class=\"dataframe\">\n",
       "  <thead>\n",
       "    <tr style=\"text-align: right;\">\n",
       "      <th></th>\n",
       "      <th>Population</th>\n",
       "      <th>Unemployment</th>\n",
       "      <th>Value</th>\n",
       "      <th>Wells Fargo Rate</th>\n",
       "      <th>Freddie Mac Rate</th>\n",
       "    </tr>\n",
       "    <tr>\n",
       "      <th>Year-Month</th>\n",
       "      <th></th>\n",
       "      <th></th>\n",
       "      <th></th>\n",
       "      <th></th>\n",
       "      <th></th>\n",
       "    </tr>\n",
       "  </thead>\n",
       "  <tbody>\n",
       "    <tr>\n",
       "      <th>2016-04-01</th>\n",
       "      <td>428164.5</td>\n",
       "      <td>3.5</td>\n",
       "      <td>339107.75</td>\n",
       "      <td>3.880</td>\n",
       "      <td>3.660</td>\n",
       "    </tr>\n",
       "    <tr>\n",
       "      <th>2016-05-01</th>\n",
       "      <td>428164.5</td>\n",
       "      <td>3.4</td>\n",
       "      <td>342075.00</td>\n",
       "      <td>3.815</td>\n",
       "      <td>3.600</td>\n",
       "    </tr>\n",
       "    <tr>\n",
       "      <th>2016-06-01</th>\n",
       "      <td>428164.5</td>\n",
       "      <td>3.4</td>\n",
       "      <td>344398.25</td>\n",
       "      <td>3.728</td>\n",
       "      <td>3.568</td>\n",
       "    </tr>\n",
       "    <tr>\n",
       "      <th>2016-07-01</th>\n",
       "      <td>428164.5</td>\n",
       "      <td>3.3</td>\n",
       "      <td>346862.75</td>\n",
       "      <td>3.630</td>\n",
       "      <td>3.440</td>\n",
       "    </tr>\n",
       "    <tr>\n",
       "      <th>2016-08-01</th>\n",
       "      <td>428164.5</td>\n",
       "      <td>3.3</td>\n",
       "      <td>349311.50</td>\n",
       "      <td>3.630</td>\n",
       "      <td>3.434</td>\n",
       "    </tr>\n",
       "  </tbody>\n",
       "</table>\n",
       "</div>"
      ],
      "text/plain": [
       "            Population  Unemployment      Value  Wells Fargo Rate  \\\n",
       "Year-Month                                                          \n",
       "2016-04-01    428164.5           3.5  339107.75             3.880   \n",
       "2016-05-01    428164.5           3.4  342075.00             3.815   \n",
       "2016-06-01    428164.5           3.4  344398.25             3.728   \n",
       "2016-07-01    428164.5           3.3  346862.75             3.630   \n",
       "2016-08-01    428164.5           3.3  349311.50             3.630   \n",
       "\n",
       "            Freddie Mac Rate  \n",
       "Year-Month                    \n",
       "2016-04-01             3.660  \n",
       "2016-05-01             3.600  \n",
       "2016-06-01             3.568  \n",
       "2016-07-01             3.440  \n",
       "2016-08-01             3.434  "
      ]
     },
     "execution_count": 11,
     "metadata": {},
     "output_type": "execute_result"
    }
   ],
   "source": [
    "#CO Data\n",
    "Population = zall_df.groupby('Year-Month')['County Population'].mean()\n",
    "Unemployment = zall_df.groupby('Year-Month')['Unemployment Rate'].mean()\n",
    "Value = zall_df.groupby('Year-Month')['Value'].mean()\n",
    "Wells_Rate = zall_df.groupby('Year-Month')['Wells Fargo Rate'].mean()\n",
    "Freddie_Rate = zall_df.groupby('Year-Month')['Freddie Mac Rate'].mean()\n",
    "CO_df = pd.DataFrame({\n",
    "    \"Population\":Population,\n",
    "    \"Unemployment\":Unemployment,\n",
    "    \"Value\":Value,\n",
    "    \"Wells Fargo Rate\":Wells_Rate,\n",
    "    \"Freddie Mac Rate\":Freddie_Rate,\n",
    "})\n",
    "CO_df = CO_df.dropna(how=\"any\")\n",
    "CO_df.head()\n"
   ]
  },
  {
   "cell_type": "code",
   "execution_count": 12,
   "metadata": {},
   "outputs": [
    {
     "data": {
      "text/plain": [
       "<AxesSubplot:xlabel='Year-Month'>"
      ]
     },
     "execution_count": 12,
     "metadata": {},
     "output_type": "execute_result"
    },
    {
     "data": {
      "image/png": "[encoded data removed]",
      "text/plain": [
       "<Figure size 432x288 with 1 Axes>"
      ]
     },
     "metadata": {
      "needs_background": "light"
     },
     "output_type": "display_data"
    }
   ],
   "source": [
    "CO_df.plot()"
   ]
  },
  {
   "cell_type": "code",
   "execution_count": 13,
   "metadata": {},
   "outputs": [
    {
     "data": {
      "image/png": "[encoded data removed]",
      "text/plain": [
       "<Figure size 432x288 with 1 Axes>"
      ]
     },
     "metadata": {
      "needs_background": "light"
     },
     "output_type": "display_data"
    },
    {
     "name": "stdout",
     "output_type": "stream",
     "text": [
      "The correlation coefficiant is 0.96\n",
      "The line equation is: y = 3.5x + -1144000.52\n"
     ]
    }
   ],
   "source": [
    "#Relationship between Colorado Home Value and Population\n",
    "x_axis = CO_df[\"Population\"]\n",
    "y_axis = CO_df[\"Value\"]\n",
    "plt.title(\"CO Population vs Home Value\")\n",
    "plt.xlabel(\"CO Population\")\n",
    "plt.ylabel(\"CO Home Value\")\n",
    "plt.scatter(x_axis,y_axis, marker=\"o\",color=\"black\")\n",
    "(slope, intercept, rvalue, pvalue, stderr)=linregress(x_axis, y_axis)\n",
    "regress_values=x_axis*slope+intercept \n",
    "line_eq = \"y = \" +str(round(slope,2)) + \"x + \" +str(round(intercept,2))\n",
    "plt.plot(x_axis,regress_values,\"b-\")\n",
    "plt.show()\n",
    "print(\"The correlation coefficiant is \" +str(round(st.pearsonr(x_axis,y_axis)[0],2)))\n",
    "print(\"The line equation is: \" +str(line_eq))"
   ]
  },
  {
   "cell_type": "code",
   "execution_count": 14,
   "metadata": {},
   "outputs": [
    {
     "data": {
      "image/png": "[encoded data removed]",
      "text/plain": [
       "<Figure size 432x288 with 1 Axes>"
      ]
     },
     "metadata": {
      "needs_background": "light"
     },
     "output_type": "display_data"
    },
    {
     "name": "stdout",
     "output_type": "stream",
     "text": [
      "The correlation coefficiant is -0.18\n",
      "The line equation is: y = -14573.65x + 468505.31\n"
     ]
    }
   ],
   "source": [
    "#Relationship between CO Home Value and Freddie Mac Interest Rates\n",
    "x_axis = CO_df[\"Wells Fargo Rate\"]\n",
    "y_axis = CO_df[\"Value\"]\n",
    "plt.title(\"Wells Fargo Interest Rates vs Home Value\")\n",
    "plt.xlabel(\"Wells Fargo Interest Rates\")\n",
    "plt.ylabel(\"CO Home Value\")\n",
    "plt.scatter(x_axis,y_axis, marker=\"o\",color=\"black\")\n",
    "(slope, intercept, rvalue, pvalue, stderr)=linregress(x_axis, y_axis)\n",
    "regress_values=x_axis*slope+intercept \n",
    "line_eq = \"y = \" +str(round(slope,2)) + \"x + \" +str(round(intercept,2))\n",
    "plt.plot(x_axis,regress_values,\"b-\")\n",
    "plt.show()\n",
    "print(\"The correlation coefficiant is \" +str(round(st.pearsonr(x_axis,y_axis)[0],2)))\n",
    "print(\"The line equation is: \" +str(line_eq))"
   ]
  },
  {
   "cell_type": "code",
   "execution_count": 15,
   "metadata": {},
   "outputs": [
    {
     "data": {
      "image/png": "[encoded data removed]",
      "text/plain": [
       "<Figure size 432x288 with 1 Axes>"
      ]
     },
     "metadata": {
      "needs_background": "light"
     },
     "output_type": "display_data"
    },
    {
     "name": "stdout",
     "output_type": "stream",
     "text": [
      "The correlation coefficiant is 0.35\n",
      "The line equation is: y = 6631.16x + 386012.89\n"
     ]
    }
   ],
   "source": [
    "#Relationship between CO Home Value and Unemployment\n",
    "x_axis = CO_df[\"Unemployment\"]\n",
    "y_axis = CO_df[\"Value\"]\n",
    "plt.title(\"Unemployment vs Home Value\")\n",
    "plt.xlabel(\"Unemployment\")\n",
    "plt.ylabel(\"CO Home Value\")\n",
    "plt.scatter(x_axis,y_axis, marker=\"o\",color=\"black\")\n",
    "(slope, intercept, rvalue, pvalue, stderr)=linregress(x_axis, y_axis)\n",
    "regress_values=x_axis*slope+intercept \n",
    "line_eq = \"y = \" +str(round(slope,2)) + \"x + \" +str(round(intercept,2))\n",
    "plt.plot(x_axis,regress_values,\"b-\")\n",
    "plt.show()\n",
    "print(\"The correlation coefficiant is \" +str(round(st.pearsonr(x_axis,y_axis)[0],2)))\n",
    "print(\"The line equation is: \" +str(line_eq))"
   ]
  },
  {
   "cell_type": "code",
   "execution_count": 16,
   "metadata": {},
   "outputs": [],
   "source": [
    "#create 3 different city dataframes\n",
    "Denver_data = zall_df.loc[zall_df['Region Name']=='Denver, CO']\n",
    "COS_data = zall_df.loc[zall_df['Region Name']=='Colorado Springs, CO']\n",
    "Greeley_data = zall_df.loc[zall_df['Region Name']=='Greeley, CO']\n"
   ]
  },
  {
   "cell_type": "code",
   "execution_count": 20,
   "metadata": {},
   "outputs": [],
   "source": [
    "#formatting the Year-Month column to datetime\n",
    "Denver_data['Year-Month'] = Denver_data['Year-Month'].apply(pd.to_datetime)\n",
    "COS_data['Year-Month'] = COS_data['Year-Month'].apply(pd.to_datetime)\n",
    "Greeley_data['Year-Month'] = Greeley_data['Year-Month'].apply(pd.to_datetime)\n",
    "# Denver_data.dtypes"
   ]
  },
  {
   "cell_type": "code",
   "execution_count": 21,
   "metadata": {},
   "outputs": [],
   "source": [
    "#formatting the Year-Month column to datetime\n",
    "Denver_data['Year-Month'] = pd.to_datetime(Denver_data['Year-Month'], format='%Y%B')\n",
    "COS_data['Year-Month'] = pd.to_datetime(COS_data['Year-Month'], format='%Y%B')\n",
    "Greeley_data['Year-Month'] = pd.to_datetime(Greeley_data['Year-Month'], format='%Y%B')\n",
    "# Denver_data.dtypes"
   ]
  },
  {
   "cell_type": "code",
   "execution_count": 22,
   "metadata": {},
   "outputs": [
    {
     "data": {
      "text/html": [
       "<div>\n",
       "<style scoped>\n",
       "    .dataframe tbody tr th:only-of-type {\n",
       "        vertical-align: middle;\n",
       "    }\n",
       "\n",
       "    .dataframe tbody tr th {\n",
       "        vertical-align: top;\n",
       "    }\n",
       "\n",
       "    .dataframe thead th {\n",
       "        text-align: right;\n",
       "    }\n",
       "</style>\n",
       "<table border=\"1\" class=\"dataframe\">\n",
       "  <thead>\n",
       "    <tr style=\"text-align: right;\">\n",
       "      <th></th>\n",
       "      <th>Year</th>\n",
       "      <th>Month</th>\n",
       "      <th>Year-Month</th>\n",
       "      <th>Date Zillow</th>\n",
       "      <th>Date Interest</th>\n",
       "      <th>Indicator ID</th>\n",
       "      <th>Indicator Name</th>\n",
       "      <th>Region ID</th>\n",
       "      <th>Region Type</th>\n",
       "      <th>Region Name</th>\n",
       "      <th>Value</th>\n",
       "      <th>County Population</th>\n",
       "      <th>Unemployment Rate</th>\n",
       "      <th>Wells Fargo Rate</th>\n",
       "      <th>Freddie Mac Rate</th>\n",
       "    </tr>\n",
       "  </thead>\n",
       "  <tbody>\n",
       "    <tr>\n",
       "      <th>2054</th>\n",
       "      <td>2016</td>\n",
       "      <td>Apr</td>\n",
       "      <td>2016-04-01</td>\n",
       "      <td>4/30/2016</td>\n",
       "      <td>4/28/2016</td>\n",
       "      <td>ZALL</td>\n",
       "      <td>ZHVI All Homes (SFR, Condo/Co-op) Time Series ($)</td>\n",
       "      <td>394530</td>\n",
       "      <td>metro</td>\n",
       "      <td>Denver, CO</td>\n",
       "      <td>357037.0</td>\n",
       "      <td>697744.0</td>\n",
       "      <td>3.5</td>\n",
       "      <td>3.88</td>\n",
       "      <td>3.66</td>\n",
       "    </tr>\n",
       "    <tr>\n",
       "      <th>2216</th>\n",
       "      <td>2016</td>\n",
       "      <td>May</td>\n",
       "      <td>2016-05-01</td>\n",
       "      <td>5/31/2016</td>\n",
       "      <td>5/5/2016</td>\n",
       "      <td>ZALL</td>\n",
       "      <td>ZHVI All Homes (SFR, Condo/Co-op) Time Series ($)</td>\n",
       "      <td>394530</td>\n",
       "      <td>metro</td>\n",
       "      <td>Denver, CO</td>\n",
       "      <td>359934.0</td>\n",
       "      <td>697744.0</td>\n",
       "      <td>3.4</td>\n",
       "      <td>3.75</td>\n",
       "      <td>3.61</td>\n",
       "    </tr>\n",
       "  </tbody>\n",
       "</table>\n",
       "</div>"
      ],
      "text/plain": [
       "      Year Month Year-Month Date Zillow Date Interest Indicator ID  \\\n",
       "2054  2016   Apr 2016-04-01   4/30/2016     4/28/2016         ZALL   \n",
       "2216  2016   May 2016-05-01   5/31/2016      5/5/2016         ZALL   \n",
       "\n",
       "                                         Indicator Name  Region ID  \\\n",
       "2054  ZHVI All Homes (SFR, Condo/Co-op) Time Series ($)     394530   \n",
       "2216  ZHVI All Homes (SFR, Condo/Co-op) Time Series ($)     394530   \n",
       "\n",
       "     Region Type Region Name     Value  County Population  Unemployment Rate  \\\n",
       "2054       metro  Denver, CO  357037.0           697744.0                3.5   \n",
       "2216       metro  Denver, CO  359934.0           697744.0                3.4   \n",
       "\n",
       "      Wells Fargo Rate  Freddie Mac Rate  \n",
       "2054              3.88              3.66  \n",
       "2216              3.75              3.61  "
      ]
     },
     "execution_count": 22,
     "metadata": {},
     "output_type": "execute_result"
    }
   ],
   "source": [
    "#Sorting the Year-Month column from oldest to most recent\n",
    "Denver_data = Denver_data.sort_values(\"Year-Month\")\n",
    "COS_data = COS_data.sort_values(\"Year-Month\")\n",
    "Greeley_data = Greeley_data.sort_values(\"Year-Month\")\n",
    "Denver_data.head(2)"
   ]
  },
  {
   "cell_type": "code",
   "execution_count": 23,
   "metadata": {},
   "outputs": [
    {
     "data": {
      "text/html": [
       "<div>\n",
       "<style scoped>\n",
       "    .dataframe tbody tr th:only-of-type {\n",
       "        vertical-align: middle;\n",
       "    }\n",
       "\n",
       "    .dataframe tbody tr th {\n",
       "        vertical-align: top;\n",
       "    }\n",
       "\n",
       "    .dataframe thead th {\n",
       "        text-align: right;\n",
       "    }\n",
       "</style>\n",
       "<table border=\"1\" class=\"dataframe\">\n",
       "  <thead>\n",
       "    <tr style=\"text-align: right;\">\n",
       "      <th></th>\n",
       "      <th>Population</th>\n",
       "      <th>Unemployment</th>\n",
       "      <th>Value</th>\n",
       "      <th>Wells Fargo Rate</th>\n",
       "      <th>Freddie Mac Rate</th>\n",
       "    </tr>\n",
       "    <tr>\n",
       "      <th>Year-Month</th>\n",
       "      <th></th>\n",
       "      <th></th>\n",
       "      <th></th>\n",
       "      <th></th>\n",
       "      <th></th>\n",
       "    </tr>\n",
       "  </thead>\n",
       "  <tbody>\n",
       "    <tr>\n",
       "      <th>2016-04-01</th>\n",
       "      <td>697744.0</td>\n",
       "      <td>3.5</td>\n",
       "      <td>357037.0</td>\n",
       "      <td>3.880</td>\n",
       "      <td>3.66</td>\n",
       "    </tr>\n",
       "    <tr>\n",
       "      <th>2016-05-01</th>\n",
       "      <td>697744.0</td>\n",
       "      <td>3.4</td>\n",
       "      <td>359934.0</td>\n",
       "      <td>3.815</td>\n",
       "      <td>3.60</td>\n",
       "    </tr>\n",
       "  </tbody>\n",
       "</table>\n",
       "</div>"
      ],
      "text/plain": [
       "            Population  Unemployment     Value  Wells Fargo Rate  \\\n",
       "Year-Month                                                         \n",
       "2016-04-01    697744.0           3.5  357037.0             3.880   \n",
       "2016-05-01    697744.0           3.4  359934.0             3.815   \n",
       "\n",
       "            Freddie Mac Rate  \n",
       "Year-Month                    \n",
       "2016-04-01              3.66  \n",
       "2016-05-01              3.60  "
      ]
     },
     "execution_count": 23,
     "metadata": {},
     "output_type": "execute_result"
    }
   ],
   "source": [
    "#Need to groupby Year-Month column, \n",
    "#grab the first values of population and unemployment (b/c these don't change throughout the month)\n",
    "#and take the average of columns \"value\" and interest rates (these have different values throughout the month)\n",
    "#Denver_Year_Month = Denver_data.groupby('Year-Month')['Values']\n",
    "\n",
    "\n",
    "#Denver Data\n",
    "Denver_Population = Denver_data.groupby('Year-Month')['County Population'].first()\n",
    "Denver_Unemployment = Denver_data.groupby('Year-Month')['Unemployment Rate'].first()\n",
    "Denver_Value = Denver_data.groupby('Year-Month')['Value'].mean()\n",
    "Denver_Wells_Rate = Denver_data.groupby('Year-Month')['Wells Fargo Rate'].mean()\n",
    "Denver_Freddie_Rate = Denver_data.groupby('Year-Month')['Freddie Mac Rate'].mean()\n",
    "Denver_df = pd.DataFrame({\n",
    "    \"Population\":Denver_Population,\n",
    "    \"Unemployment\":Denver_Unemployment,\n",
    "    \"Value\":Denver_Value,\n",
    "    \"Wells Fargo Rate\":Denver_Wells_Rate,\n",
    "    \"Freddie Mac Rate\":Denver_Freddie_Rate,\n",
    "})\n",
    "Denver_df = Denver_df.dropna(how=\"any\")\n",
    "Denver_df.head(2)\n"
   ]
  },
  {
   "cell_type": "code",
   "execution_count": 24,
   "metadata": {},
   "outputs": [
    {
     "data": {
      "text/plain": [
       "<AxesSubplot:xlabel='Year-Month'>"
      ]
     },
     "execution_count": 24,
     "metadata": {},
     "output_type": "execute_result"
    },
    {
     "data": {
      "image/png": "[encoded data removed]",
      "text/plain": [
       "<Figure size 432x288 with 1 Axes>"
      ]
     },
     "metadata": {
      "needs_background": "light"
     },
     "output_type": "display_data"
    }
   ],
   "source": [
    "Denver_df.plot()"
   ]
  },
  {
   "cell_type": "code",
   "execution_count": 25,
   "metadata": {},
   "outputs": [
    {
     "data": {
      "text/html": [
       "<div>\n",
       "<style scoped>\n",
       "    .dataframe tbody tr th:only-of-type {\n",
       "        vertical-align: middle;\n",
       "    }\n",
       "\n",
       "    .dataframe tbody tr th {\n",
       "        vertical-align: top;\n",
       "    }\n",
       "\n",
       "    .dataframe thead th {\n",
       "        text-align: right;\n",
       "    }\n",
       "</style>\n",
       "<table border=\"1\" class=\"dataframe\">\n",
       "  <thead>\n",
       "    <tr style=\"text-align: right;\">\n",
       "      <th></th>\n",
       "      <th>Population</th>\n",
       "      <th>Unemployment</th>\n",
       "      <th>Value</th>\n",
       "      <th>Wells Fargo Rate</th>\n",
       "      <th>Freddie Mac Rate</th>\n",
       "    </tr>\n",
       "    <tr>\n",
       "      <th>Year-Month</th>\n",
       "      <th></th>\n",
       "      <th></th>\n",
       "      <th></th>\n",
       "      <th></th>\n",
       "      <th></th>\n",
       "    </tr>\n",
       "  </thead>\n",
       "  <tbody>\n",
       "    <tr>\n",
       "      <th>2016-04-01</th>\n",
       "      <td>689481.0</td>\n",
       "      <td>3.5</td>\n",
       "      <td>241753.0</td>\n",
       "      <td>3.880</td>\n",
       "      <td>3.66</td>\n",
       "    </tr>\n",
       "    <tr>\n",
       "      <th>2016-05-01</th>\n",
       "      <td>689481.0</td>\n",
       "      <td>3.4</td>\n",
       "      <td>243141.0</td>\n",
       "      <td>3.815</td>\n",
       "      <td>3.60</td>\n",
       "    </tr>\n",
       "  </tbody>\n",
       "</table>\n",
       "</div>"
      ],
      "text/plain": [
       "            Population  Unemployment     Value  Wells Fargo Rate  \\\n",
       "Year-Month                                                         \n",
       "2016-04-01    689481.0           3.5  241753.0             3.880   \n",
       "2016-05-01    689481.0           3.4  243141.0             3.815   \n",
       "\n",
       "            Freddie Mac Rate  \n",
       "Year-Month                    \n",
       "2016-04-01              3.66  \n",
       "2016-05-01              3.60  "
      ]
     },
     "execution_count": 25,
     "metadata": {},
     "output_type": "execute_result"
    }
   ],
   "source": [
    "#Need to groupby Year-Month column, \n",
    "#grab the first values of population and unemployment (b/c these don't change throughout the month)\n",
    "#and take the average of columns \"value\" and interest rates (these have different values throughout the month)\n",
    "#Denver_Year_Month = Denver_data.groupby('Year-Month')['Values']\n",
    "\n",
    "\n",
    "#Colorado Springs Data\n",
    "COS_Population = COS_data.groupby('Year-Month')['County Population'].first()\n",
    "COS_Unemployment = COS_data.groupby('Year-Month')['Unemployment Rate'].first()\n",
    "COS_Value = COS_data.groupby('Year-Month')['Value'].mean()\n",
    "COS_Wells_Rate = COS_data.groupby('Year-Month')['Wells Fargo Rate'].mean()\n",
    "COS_Freddie_Rate = COS_data.groupby('Year-Month')['Freddie Mac Rate'].mean()\n",
    "COS_df = pd.DataFrame({\n",
    "    \"Population\":COS_Population,\n",
    "    \"Unemployment\":COS_Unemployment,\n",
    "    \"Value\":COS_Value,\n",
    "    \"Wells Fargo Rate\":COS_Wells_Rate,\n",
    "    \"Freddie Mac Rate\":COS_Freddie_Rate,\n",
    "})\n",
    "COS_df = COS_df.dropna(how=\"any\")\n",
    "COS_df.head(2)\n",
    "# COS_Value"
   ]
  },
  {
   "cell_type": "code",
   "execution_count": 26,
   "metadata": {},
   "outputs": [
    {
     "data": {
      "text/html": [
       "<div>\n",
       "<style scoped>\n",
       "    .dataframe tbody tr th:only-of-type {\n",
       "        vertical-align: middle;\n",
       "    }\n",
       "\n",
       "    .dataframe tbody tr th {\n",
       "        vertical-align: top;\n",
       "    }\n",
       "\n",
       "    .dataframe thead th {\n",
       "        text-align: right;\n",
       "    }\n",
       "</style>\n",
       "<table border=\"1\" class=\"dataframe\">\n",
       "  <thead>\n",
       "    <tr style=\"text-align: right;\">\n",
       "      <th></th>\n",
       "      <th>Population</th>\n",
       "      <th>Unemployment</th>\n",
       "      <th>Value</th>\n",
       "      <th>Wells Fargo Rate</th>\n",
       "      <th>Freddie Mac Rate</th>\n",
       "    </tr>\n",
       "    <tr>\n",
       "      <th>Year-Month</th>\n",
       "      <th></th>\n",
       "      <th></th>\n",
       "      <th></th>\n",
       "      <th></th>\n",
       "      <th></th>\n",
       "    </tr>\n",
       "  </thead>\n",
       "  <tbody>\n",
       "    <tr>\n",
       "      <th>2016-04-01</th>\n",
       "      <td>294867.0</td>\n",
       "      <td>3.5</td>\n",
       "      <td>288654.0</td>\n",
       "      <td>3.880</td>\n",
       "      <td>3.66</td>\n",
       "    </tr>\n",
       "    <tr>\n",
       "      <th>2016-05-01</th>\n",
       "      <td>294867.0</td>\n",
       "      <td>3.4</td>\n",
       "      <td>290891.0</td>\n",
       "      <td>3.815</td>\n",
       "      <td>3.60</td>\n",
       "    </tr>\n",
       "  </tbody>\n",
       "</table>\n",
       "</div>"
      ],
      "text/plain": [
       "            Population  Unemployment     Value  Wells Fargo Rate  \\\n",
       "Year-Month                                                         \n",
       "2016-04-01    294867.0           3.5  288654.0             3.880   \n",
       "2016-05-01    294867.0           3.4  290891.0             3.815   \n",
       "\n",
       "            Freddie Mac Rate  \n",
       "Year-Month                    \n",
       "2016-04-01              3.66  \n",
       "2016-05-01              3.60  "
      ]
     },
     "execution_count": 26,
     "metadata": {},
     "output_type": "execute_result"
    }
   ],
   "source": [
    "#Need to groupby Year-Month column, \n",
    "#grab the first values of population and unemployment (b/c these don't change throughout the month)\n",
    "#and take the average of columns \"value\" and interest rates (these have different values throughout the month)\n",
    "#Denver_Year_Month = Denver_data.groupby('Year-Month')['Values']\n",
    "\n",
    "\n",
    "#Greeley Data\n",
    "Greeley_Population = Greeley_data.groupby('Year-Month')['County Population'].first()\n",
    "Greeley_Unemployment = Greeley_data.groupby('Year-Month')['Unemployment Rate'].first()\n",
    "Greeley_Value = Greeley_data.groupby('Year-Month')['Value'].mean()\n",
    "Greeley_Wells_Rate = Greeley_data.groupby('Year-Month')['Wells Fargo Rate'].mean()\n",
    "Greeley_Freddie_Rate = Greeley_data.groupby('Year-Month')['Freddie Mac Rate'].mean()\n",
    "Greeley_df = pd.DataFrame({\n",
    "    \"Population\":Greeley_Population,\n",
    "    \"Unemployment\":Greeley_Unemployment,\n",
    "    \"Value\":Greeley_Value,\n",
    "    \"Wells Fargo Rate\":Greeley_Wells_Rate,\n",
    "    \"Freddie Mac Rate\":Greeley_Freddie_Rate,\n",
    "})\n",
    "Greeley_df = Greeley_df.dropna(how=\"any\")\n",
    "Greeley_df.head(2)\n",
    "# Greeley_Value"
   ]
  },
  {
   "cell_type": "code",
   "execution_count": 27,
   "metadata": {},
   "outputs": [
    {
     "data": {
      "image/png": "[encoded data removed]",
      "text/plain": [
       "<Figure size 432x288 with 1 Axes>"
      ]
     },
     "metadata": {
      "needs_background": "light"
     },
     "output_type": "display_data"
    },
    {
     "name": "stdout",
     "output_type": "stream",
     "text": [
      "The correlation coefficiant is 0.96\n",
      "The line equation is: y = 2.03x + -1039561.18\n"
     ]
    }
   ],
   "source": [
    "#Relationship between Denver Home Value and Population\n",
    "x_axis = Denver_df[\"Population\"]\n",
    "y_axis = Denver_df[\"Value\"]\n",
    "plt.title(\"Denver Population vs Home Value\")\n",
    "plt.xlabel(\"Denver Population\")\n",
    "plt.ylabel(\"Denver Home Value\")\n",
    "plt.scatter(x_axis,y_axis, marker=\"o\",color=\"red\")\n",
    "(slope, intercept, rvalue, pvalue, stderr)=linregress(x_axis, y_axis)\n",
    "regress_values=x_axis*slope+intercept \n",
    "line_eq = \"y = \" +str(round(slope,2)) + \"x + \" +str(round(intercept,2))\n",
    "plt.plot(x_axis,regress_values,\"r-\")\n",
    "plt.show()\n",
    "print(\"The correlation coefficiant is \" +str(round(st.pearsonr(x_axis,y_axis)[0],2)))\n",
    "print(\"The line equation is: \" +str(line_eq))\n",
    "\n"
   ]
  },
  {
   "cell_type": "code",
   "execution_count": 28,
   "metadata": {},
   "outputs": [
    {
     "data": {
      "image/png": "[encoded data removed]",
      "text/plain": [
       "<Figure size 432x288 with 1 Axes>"
      ]
     },
     "metadata": {
      "needs_background": "light"
     },
     "output_type": "display_data"
    },
    {
     "name": "stdout",
     "output_type": "stream",
     "text": [
      "The correlation coefficiant is 0.97\n",
      "The line equation is: y = 1.72x + -934853.39\n"
     ]
    }
   ],
   "source": [
    "#Relationship between Colorado Springs Home Value and Population\n",
    "x_axis = COS_df[\"Population\"]\n",
    "y_axis = COS_df[\"Value\"]\n",
    "plt.title(\"COS Population vs Home Value\")\n",
    "plt.xlabel(\"COS Population\")\n",
    "plt.ylabel(\"COS Home Value\")\n",
    "plt.scatter(x_axis,y_axis, marker=\"o\",color=\"red\")\n",
    "(slope, intercept, rvalue, pvalue, stderr)=linregress(x_axis, y_axis)\n",
    "regress_values=x_axis*slope+intercept \n",
    "line_eq = \"y = \" +str(round(slope,2)) + \"x + \" +str(round(intercept,2))\n",
    "plt.plot(x_axis,regress_values,\"r-\")\n",
    "plt.show()\n",
    "print(\"The correlation coefficiant is \" +str(round(st.pearsonr(x_axis,y_axis)[0],2)))\n",
    "print(\"The line equation is: \" +str(line_eq))\n"
   ]
  },
  {
   "cell_type": "code",
   "execution_count": 29,
   "metadata": {},
   "outputs": [
    {
     "data": {
      "image/png": "[encoded data removed]",
      "text/plain": [
       "<Figure size 432x288 with 1 Axes>"
      ]
     },
     "metadata": {
      "needs_background": "light"
     },
     "output_type": "display_data"
    },
    {
     "name": "stdout",
     "output_type": "stream",
     "text": [
      "The correlation coefficiant is 0.96\n",
      "The line equation is: y = 2.35x + -392456.42\n"
     ]
    }
   ],
   "source": [
    "#Relationship between Greeley Home Value and Population\n",
    "x_axis = Greeley_df[\"Population\"]\n",
    "y_axis = Greeley_df[\"Value\"]\n",
    "plt.title(\"Greeley Population vs Home Value\")\n",
    "plt.xlabel(\"Greeley Population\")\n",
    "plt.ylabel(\"Greeley Home Value\")\n",
    "plt.scatter(x_axis,y_axis, marker=\"o\",color=\"red\")\n",
    "(slope, intercept, rvalue, pvalue, stderr)=linregress(x_axis, y_axis)\n",
    "regress_values=x_axis*slope+intercept \n",
    "line_eq = \"y = \" +str(round(slope,2)) + \"x + \" +str(round(intercept,2))\n",
    "plt.plot(x_axis,regress_values,\"r-\")\n",
    "plt.show()\n",
    "print(\"The correlation coefficiant is \" +str(round(st.pearsonr(x_axis,y_axis)[0],2)))\n",
    "print(\"The line equation is: \" +str(line_eq))\n"
   ]
  },
  {
   "cell_type": "code",
   "execution_count": 30,
   "metadata": {},
   "outputs": [
    {
     "data": {
      "image/png": "[encoded data removed]",
      "text/plain": [
       "<Figure size 432x288 with 1 Axes>"
      ]
     },
     "metadata": {
      "needs_background": "light"
     },
     "output_type": "display_data"
    },
    {
     "name": "stdout",
     "output_type": "stream",
     "text": [
      "The correlation coefficiant is -0.16\n",
      "The line equation is: y = -9683.59x + 455045.88\n"
     ]
    }
   ],
   "source": [
    "#Relationship between Denver Home Value and Wells Fargo Interest Rates\n",
    "x_axis = Denver_df[\"Wells Fargo Rate\"]\n",
    "y_axis = Denver_df[\"Value\"]\n",
    "plt.title(\"Wells Fargo Interest Rates vs Home Value\")\n",
    "plt.xlabel(\"Wells Fargo Interest Rates\")\n",
    "plt.ylabel(\"Denver Home Value\")\n",
    "plt.scatter(x_axis,y_axis, marker=\"o\",color=\"red\")\n",
    "(slope, intercept, rvalue, pvalue, stderr)=linregress(x_axis, y_axis)\n",
    "regress_values=x_axis*slope+intercept \n",
    "line_eq = \"y = \" +str(round(slope,2)) + \"x + \" +str(round(intercept,2))\n",
    "plt.plot(x_axis,regress_values,\"r-\")\n",
    "plt.show()\n",
    "print(\"The correlation coefficiant is \" +str(round(st.pearsonr(x_axis,y_axis)[0],2)))\n",
    "print(\"The line equation is: \" +str(line_eq))\n",
    "#If interest rates rise, it has an effect on the cost of mortgages. This forces home buyers to sell.\n",
    "#The increase in sellers and decline in buyers will cause home value to fall"
   ]
  },
  {
   "cell_type": "code",
   "execution_count": 31,
   "metadata": {},
   "outputs": [
    {
     "data": {
      "image/png": "[encoded data removed]",
      "text/plain": [
       "<Figure size 432x288 with 1 Axes>"
      ]
     },
     "metadata": {
      "needs_background": "light"
     },
     "output_type": "display_data"
    },
    {
     "name": "stdout",
     "output_type": "stream",
     "text": [
      "The correlation coefficiant is -0.34\n",
      "The line equation is: y = -19832.07x + 368763.16\n"
     ]
    }
   ],
   "source": [
    "#Relationship between COS Home Value and Wells Fargo Interest Rates\n",
    "x_axis = COS_df[\"Wells Fargo Rate\"]\n",
    "y_axis = COS_df[\"Value\"]\n",
    "plt.title(\"Wells Fargo Interest Rates vs Home Value\")\n",
    "plt.xlabel(\"Wells Fargo Interest Rates\")\n",
    "plt.ylabel(\"COS Home Value\")\n",
    "plt.scatter(x_axis,y_axis, marker=\"o\",color=\"red\")\n",
    "(slope, intercept, rvalue, pvalue, stderr)=linregress(x_axis, y_axis)\n",
    "regress_values=x_axis*slope+intercept \n",
    "line_eq = \"y = \" +str(round(slope,2)) + \"x + \" +str(round(intercept,2))\n",
    "plt.plot(x_axis,regress_values,\"r-\")\n",
    "plt.show()\n",
    "print(\"The correlation coefficiant is \" +str(round(st.pearsonr(x_axis,y_axis)[0],2)))\n",
    "print(\"The line equation is: \" +str(line_eq))\n",
    "\n",
    "#If interest rates rise, it has an effect on the cost of mortgages. This forces home buyers to sell.\n",
    "#The increase in sellers and decline in buyers will cause home value to fall"
   ]
  },
  {
   "cell_type": "code",
   "execution_count": 32,
   "metadata": {},
   "outputs": [
    {
     "data": {
      "image/png": "[encoded data removed]",
      "text/plain": [
       "<Figure size 432x288 with 1 Axes>"
      ]
     },
     "metadata": {
      "needs_background": "light"
     },
     "output_type": "display_data"
    },
    {
     "name": "stdout",
     "output_type": "stream",
     "text": [
      "The correlation coefficiant is -0.21\n",
      "The line equation is: y = -13317.52x + 399600.64\n"
     ]
    }
   ],
   "source": [
    "#Relationship between Greeley Home Value and Wells Fargo Interest Rates\n",
    "x_axis = Greeley_df[\"Wells Fargo Rate\"]\n",
    "y_axis = Greeley_df[\"Value\"]\n",
    "plt.title(\"Wells Fargo Interest Rates vs Home Value\")\n",
    "plt.xlabel(\"Wells Fargo Interest Rates\")\n",
    "plt.ylabel(\"Greeley Home Value\")\n",
    "plt.scatter(x_axis,y_axis, marker=\"o\",color=\"red\")\n",
    "(slope, intercept, rvalue, pvalue, stderr)=linregress(x_axis, y_axis)\n",
    "regress_values=x_axis*slope+intercept \n",
    "line_eq = \"y = \" +str(round(slope,2)) + \"x + \" +str(round(intercept,2))\n",
    "plt.plot(x_axis,regress_values,\"r-\")\n",
    "plt.show()\n",
    "print(\"The correlation coefficiant is \" +str(round(st.pearsonr(x_axis,y_axis)[0],2)))\n",
    "print(\"The line equation is: \" +str(line_eq))\n",
    "\n",
    "#If interest rates rise, it has an effect on the cost of mortgages. This forces home buyers to sell.\n",
    "#The increase in sellers and decline in buyers will cause home value to fall"
   ]
  },
  {
   "cell_type": "code",
   "execution_count": 33,
   "metadata": {},
   "outputs": [
    {
     "data": {
      "text/plain": [
       "Text(0.5, 1.0, 'Home Value by City')"
      ]
     },
     "execution_count": 33,
     "metadata": {},
     "output_type": "execute_result"
    },
    {
     "data": {
      "image/png": "[encoded data removed]",
      "text/plain": [
       "<Figure size 432x288 with 1 Axes>"
      ]
     },
     "metadata": {
      "needs_background": "light"
     },
     "output_type": "display_data"
    }
   ],
   "source": [
    "#Home Values By City\n",
    "Denver_HV = zall_df.loc[(zall_df[\"Region Name\"] == \"Denver, CO\"),:]\n",
    "COS_HV = zall_df.loc[(zall_df[\"Region Name\"] == \"Colorado Springs, CO\"),:]\n",
    "Greeley_HV = zall_df.loc[(zall_df[\"Region Name\"] == \"Greeley, CO\"),:]\n",
    "Final_Denver = Denver_HV[\"Value\"]\n",
    "Final_COS = COS_HV[\"Value\"]\n",
    "Final_Greeley = Greeley_HV[\"Value\"]\n",
    "fig1, ax1 = plt.subplots()\n",
    "ax1.boxplot([Final_Denver,Final_COS,Final_Greeley])\n",
    "plt.xticks([1,2,3],['Denver', 'Colorado Springs', 'Greeley'])\n",
    "ax1.set_title(\"Home Value by City\")"
   ]
  },
  {
   "cell_type": "code",
   "execution_count": 34,
   "metadata": {},
   "outputs": [
    {
     "data": {
      "text/plain": [
       "Year-Month\n",
       "2016-04-01    357037.0\n",
       "2016-05-01    359934.0\n",
       "2016-06-01    362475.0\n",
       "2016-07-01    365470.0\n",
       "2016-08-01    368384.0\n",
       "Name: Value, dtype: float64"
      ]
     },
     "execution_count": 34,
     "metadata": {},
     "output_type": "execute_result"
    }
   ],
   "source": [
    "Denver_Value.head()"
   ]
  },
  {
   "cell_type": "code",
   "execution_count": 35,
   "metadata": {},
   "outputs": [
    {
     "data": {
      "text/plain": [
       "Year-Month\n",
       "2016-04-01    340150.0\n",
       "2016-05-01    350150.0\n",
       "2016-06-01    358000.0\n",
       "2016-07-01    360750.0\n",
       "2016-08-01    362000.0\n",
       "Name: Value, dtype: float64"
      ]
     },
     "execution_count": 35,
     "metadata": {},
     "output_type": "execute_result"
    }
   ],
   "source": [
    "Denver_Value_SSAM.head()"
   ]
  }
 ],
 "metadata": {
  "kernelspec": {
   "display_name": "Python [conda env:PythonData] *",
   "language": "python",
   "name": "conda-env-PythonData-py"
  },
  "language_info": {
   "codemirror_mode": {
    "name": "ipython",
    "version": 3
   },
   "file_extension": ".py",
   "mimetype": "text/x-python",
   "name": "python",
   "nbconvert_exporter": "python",
   "pygments_lexer": "ipython3",
   "version": "3.8.5"
  }
 },
 "nbformat": 4,
 "nbformat_minor": 4
}
