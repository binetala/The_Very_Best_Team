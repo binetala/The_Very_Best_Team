{
 "cells": [
  {
   "cell_type": "code",
   "execution_count": 1,
   "metadata": {},
   "outputs": [],
   "source": [
    "#Dependencies\n",
    "import pandas as pd\n",
    "import numpy as np\n",
    "import matplotlib.pyplot as plt\n",
    "import scipy.stats as st\n",
    "from scipy.stats import linregress\n",
    "import time\n",
    "import datetime as dt\n",
    "#import json\n",
    "#import requests\n",
    "import quandl"
   ]
  },
  {
   "cell_type": "code",
   "execution_count": 2,
   "metadata": {},
   "outputs": [
    {
     "data": {
      "text/html": [
       "<div>\n",
       "<style scoped>\n",
       "    .dataframe tbody tr th:only-of-type {\n",
       "        vertical-align: middle;\n",
       "    }\n",
       "\n",
       "    .dataframe tbody tr th {\n",
       "        vertical-align: top;\n",
       "    }\n",
       "\n",
       "    .dataframe thead th {\n",
       "        text-align: right;\n",
       "    }\n",
       "</style>\n",
       "<table border=\"1\" class=\"dataframe\">\n",
       "  <thead>\n",
       "    <tr style=\"text-align: right;\">\n",
       "      <th></th>\n",
       "      <th>Year</th>\n",
       "      <th>Month</th>\n",
       "      <th>Year-Month</th>\n",
       "      <th>Date Zillow</th>\n",
       "      <th>Date Interest</th>\n",
       "      <th>Indicator ID</th>\n",
       "      <th>Indicator Name</th>\n",
       "      <th>Region ID</th>\n",
       "      <th>Region Type</th>\n",
       "      <th>Region Name</th>\n",
       "      <th>Value</th>\n",
       "      <th>County Population</th>\n",
       "      <th>Unemployment Rate</th>\n",
       "      <th>Wells Fargo Rate</th>\n",
       "      <th>Freddie Mac Rate</th>\n",
       "    </tr>\n",
       "  </thead>\n",
       "  <tbody>\n",
       "    <tr>\n",
       "      <th>0</th>\n",
       "      <td>2016</td>\n",
       "      <td>Apr</td>\n",
       "      <td>2016-4</td>\n",
       "      <td>4/30/2016</td>\n",
       "      <td>4/28/2016</td>\n",
       "      <td>Z2BR</td>\n",
       "      <td>ZHVI 2-Bedroom Time Series ($)</td>\n",
       "      <td>753871</td>\n",
       "      <td>metro</td>\n",
       "      <td>Breckenridge, CO; CO</td>\n",
       "      <td>384884.0</td>\n",
       "      <td>30566.0</td>\n",
       "      <td>3.5</td>\n",
       "      <td>3.88</td>\n",
       "      <td>3.66</td>\n",
       "    </tr>\n",
       "    <tr>\n",
       "      <th>1</th>\n",
       "      <td>2016</td>\n",
       "      <td>Apr</td>\n",
       "      <td>2016-4</td>\n",
       "      <td>4/30/2016</td>\n",
       "      <td>4/28/2016</td>\n",
       "      <td>Z4BR</td>\n",
       "      <td>ZHVI 4-Bedroom Time Series ($)</td>\n",
       "      <td>753871</td>\n",
       "      <td>metro</td>\n",
       "      <td>Breckenridge, CO; CO</td>\n",
       "      <td>881951.0</td>\n",
       "      <td>30566.0</td>\n",
       "      <td>3.5</td>\n",
       "      <td>3.88</td>\n",
       "      <td>3.66</td>\n",
       "    </tr>\n",
       "    <tr>\n",
       "      <th>2</th>\n",
       "      <td>2016</td>\n",
       "      <td>Apr</td>\n",
       "      <td>2016-4</td>\n",
       "      <td>4/30/2016</td>\n",
       "      <td>4/28/2016</td>\n",
       "      <td>Z5BR</td>\n",
       "      <td>ZHVI 5+ Bedroom Time Series ($)</td>\n",
       "      <td>753871</td>\n",
       "      <td>metro</td>\n",
       "      <td>Breckenridge, CO; CO</td>\n",
       "      <td>1287769.0</td>\n",
       "      <td>30566.0</td>\n",
       "      <td>3.5</td>\n",
       "      <td>3.88</td>\n",
       "      <td>3.66</td>\n",
       "    </tr>\n",
       "    <tr>\n",
       "      <th>3</th>\n",
       "      <td>2016</td>\n",
       "      <td>Apr</td>\n",
       "      <td>2016-4</td>\n",
       "      <td>4/30/2016</td>\n",
       "      <td>4/28/2016</td>\n",
       "      <td>ZATT</td>\n",
       "      <td>ZHVI All Homes- Top Tier Time Series ($)</td>\n",
       "      <td>753871</td>\n",
       "      <td>metro</td>\n",
       "      <td>Breckenridge, CO; CO</td>\n",
       "      <td>842653.0</td>\n",
       "      <td>30566.0</td>\n",
       "      <td>3.5</td>\n",
       "      <td>3.88</td>\n",
       "      <td>3.66</td>\n",
       "    </tr>\n",
       "    <tr>\n",
       "      <th>4</th>\n",
       "      <td>2016</td>\n",
       "      <td>Apr</td>\n",
       "      <td>2016-4</td>\n",
       "      <td>4/30/2016</td>\n",
       "      <td>4/28/2016</td>\n",
       "      <td>Z1BR</td>\n",
       "      <td>ZHVI 1-Bedroom Time Series ($)</td>\n",
       "      <td>753871</td>\n",
       "      <td>metro</td>\n",
       "      <td>Breckenridge, CO; CO</td>\n",
       "      <td>243688.0</td>\n",
       "      <td>30566.0</td>\n",
       "      <td>3.5</td>\n",
       "      <td>3.88</td>\n",
       "      <td>3.66</td>\n",
       "    </tr>\n",
       "  </tbody>\n",
       "</table>\n",
       "</div>"
      ],
      "text/plain": [
       "   Year Month Year-Month Date Zillow Date Interest Indicator ID  \\\n",
       "0  2016   Apr     2016-4   4/30/2016     4/28/2016         Z2BR   \n",
       "1  2016   Apr     2016-4   4/30/2016     4/28/2016         Z4BR   \n",
       "2  2016   Apr     2016-4   4/30/2016     4/28/2016         Z5BR   \n",
       "3  2016   Apr     2016-4   4/30/2016     4/28/2016         ZATT   \n",
       "4  2016   Apr     2016-4   4/30/2016     4/28/2016         Z1BR   \n",
       "\n",
       "                             Indicator Name  Region ID Region Type  \\\n",
       "0            ZHVI 2-Bedroom Time Series ($)     753871       metro   \n",
       "1            ZHVI 4-Bedroom Time Series ($)     753871       metro   \n",
       "2           ZHVI 5+ Bedroom Time Series ($)     753871       metro   \n",
       "3  ZHVI All Homes- Top Tier Time Series ($)     753871       metro   \n",
       "4            ZHVI 1-Bedroom Time Series ($)     753871       metro   \n",
       "\n",
       "            Region Name      Value  County Population  Unemployment Rate  \\\n",
       "0  Breckenridge, CO; CO   384884.0            30566.0                3.5   \n",
       "1  Breckenridge, CO; CO   881951.0            30566.0                3.5   \n",
       "2  Breckenridge, CO; CO  1287769.0            30566.0                3.5   \n",
       "3  Breckenridge, CO; CO   842653.0            30566.0                3.5   \n",
       "4  Breckenridge, CO; CO   243688.0            30566.0                3.5   \n",
       "\n",
       "   Wells Fargo Rate  Freddie Mac Rate  \n",
       "0              3.88              3.66  \n",
       "1              3.88              3.66  \n",
       "2              3.88              3.66  \n",
       "3              3.88              3.66  \n",
       "4              3.88              3.66  "
      ]
     },
     "execution_count": 2,
     "metadata": {},
     "output_type": "execute_result"
    }
   ],
   "source": [
    "df = \"master_data_cleaned.csv\"\n",
    "masterdata = pd.read_csv(df)\n",
    "masterdata.head()"
   ]
  },
  {
   "cell_type": "code",
   "execution_count": 3,
   "metadata": {},
   "outputs": [],
   "source": [
    "zall_df = masterdata[masterdata[\"Indicator ID\"] == \"ZALL\"]\n",
    "zall_df_dropped = zall_df.dropna(how=\"any\")\n",
    "# zall_df"
   ]
  },
  {
   "cell_type": "code",
   "execution_count": 4,
   "metadata": {},
   "outputs": [
    {
     "name": "stderr",
     "output_type": "stream",
     "text": [
      "<ipython-input-4-e0bbb19b778b>:1: SettingWithCopyWarning: \n",
      "A value is trying to be set on a copy of a slice from a DataFrame.\n",
      "Try using .loc[row_indexer,col_indexer] = value instead\n",
      "\n",
      "See the caveats in the documentation: https://pandas.pydata.org/pandas-docs/stable/user_guide/indexing.html#returning-a-view-versus-a-copy\n",
      "  zall_df['Year-Month'] = zall_df['Year-Month'].apply(pd.to_datetime)\n",
      "<ipython-input-4-e0bbb19b778b>:2: SettingWithCopyWarning: \n",
      "A value is trying to be set on a copy of a slice from a DataFrame.\n",
      "Try using .loc[row_indexer,col_indexer] = value instead\n",
      "\n",
      "See the caveats in the documentation: https://pandas.pydata.org/pandas-docs/stable/user_guide/indexing.html#returning-a-view-versus-a-copy\n",
      "  zall_df['Year-Month'] = pd.to_datetime(zall_df['Year-Month'], format='%Y%B')\n"
     ]
    },
    {
     "data": {
      "text/plain": [
       "Year                          int64\n",
       "Month                        object\n",
       "Year-Month           datetime64[ns]\n",
       "Date Zillow                  object\n",
       "Date Interest                object\n",
       "Indicator ID                 object\n",
       "Indicator Name               object\n",
       "Region ID                     int64\n",
       "Region Type                  object\n",
       "Region Name                  object\n",
       "Value                       float64\n",
       "County Population           float64\n",
       "Unemployment Rate           float64\n",
       "Wells Fargo Rate            float64\n",
       "Freddie Mac Rate            float64\n",
       "dtype: object"
      ]
     },
     "execution_count": 4,
     "metadata": {},
     "output_type": "execute_result"
    }
   ],
   "source": [
    "zall_df['Year-Month'] = zall_df['Year-Month'].apply(pd.to_datetime)\n",
    "zall_df['Year-Month'] = pd.to_datetime(zall_df['Year-Month'], format='%Y%B')\n",
    "\n",
    "zall_df.dtypes\n",
    "\n"
   ]
  },
  {
   "cell_type": "code",
   "execution_count": 21,
   "metadata": {},
   "outputs": [
    {
     "data": {
      "text/html": [
       "<div>\n",
       "<style scoped>\n",
       "    .dataframe tbody tr th:only-of-type {\n",
       "        vertical-align: middle;\n",
       "    }\n",
       "\n",
       "    .dataframe tbody tr th {\n",
       "        vertical-align: top;\n",
       "    }\n",
       "\n",
       "    .dataframe thead th {\n",
       "        text-align: right;\n",
       "    }\n",
       "</style>\n",
       "<table border=\"1\" class=\"dataframe\">\n",
       "  <thead>\n",
       "    <tr style=\"text-align: right;\">\n",
       "      <th></th>\n",
       "      <th>Population</th>\n",
       "      <th>Unemployment</th>\n",
       "      <th>Value</th>\n",
       "      <th>Wells Fargo Rate</th>\n",
       "      <th>Freddie Mac Rate</th>\n",
       "    </tr>\n",
       "    <tr>\n",
       "      <th>Year-Month</th>\n",
       "      <th></th>\n",
       "      <th></th>\n",
       "      <th></th>\n",
       "      <th></th>\n",
       "      <th></th>\n",
       "    </tr>\n",
       "  </thead>\n",
       "  <tbody>\n",
       "    <tr>\n",
       "      <th>2016-10</th>\n",
       "      <td>30566.0</td>\n",
       "      <td>3.1</td>\n",
       "      <td>354541.50</td>\n",
       "      <td>3.7200</td>\n",
       "      <td>3.470</td>\n",
       "    </tr>\n",
       "    <tr>\n",
       "      <th>2016-11</th>\n",
       "      <td>30566.0</td>\n",
       "      <td>3.0</td>\n",
       "      <td>357955.25</td>\n",
       "      <td>4.0325</td>\n",
       "      <td>3.770</td>\n",
       "    </tr>\n",
       "    <tr>\n",
       "      <th>2016-12</th>\n",
       "      <td>30566.0</td>\n",
       "      <td>2.9</td>\n",
       "      <td>361369.75</td>\n",
       "      <td>4.4520</td>\n",
       "      <td>4.198</td>\n",
       "    </tr>\n",
       "    <tr>\n",
       "      <th>2016-4</th>\n",
       "      <td>30566.0</td>\n",
       "      <td>3.5</td>\n",
       "      <td>339107.75</td>\n",
       "      <td>3.8800</td>\n",
       "      <td>3.660</td>\n",
       "    </tr>\n",
       "    <tr>\n",
       "      <th>2016-5</th>\n",
       "      <td>30566.0</td>\n",
       "      <td>3.4</td>\n",
       "      <td>342075.00</td>\n",
       "      <td>3.8150</td>\n",
       "      <td>3.600</td>\n",
       "    </tr>\n",
       "  </tbody>\n",
       "</table>\n",
       "</div>"
      ],
      "text/plain": [
       "            Population  Unemployment      Value  Wells Fargo Rate  \\\n",
       "Year-Month                                                          \n",
       "2016-10        30566.0           3.1  354541.50            3.7200   \n",
       "2016-11        30566.0           3.0  357955.25            4.0325   \n",
       "2016-12        30566.0           2.9  361369.75            4.4520   \n",
       "2016-4         30566.0           3.5  339107.75            3.8800   \n",
       "2016-5         30566.0           3.4  342075.00            3.8150   \n",
       "\n",
       "            Freddie Mac Rate  \n",
       "Year-Month                    \n",
       "2016-10                3.470  \n",
       "2016-11                3.770  \n",
       "2016-12                4.198  \n",
       "2016-4                 3.660  \n",
       "2016-5                 3.600  "
      ]
     },
     "execution_count": 21,
     "metadata": {},
     "output_type": "execute_result"
    }
   ],
   "source": [
    "#CO Data\n",
    "Population = zall_df.groupby('Year-Month')['County Population'].first()\n",
    "Unemployment = zall_df.groupby('Year-Month')['Unemployment Rate'].first()\n",
    "Value = zall_df.groupby('Year-Month')['Value'].mean()\n",
    "Wells_Rate = zall_df.groupby('Year-Month')['Wells Fargo Rate'].mean()\n",
    "Freddie_Rate = zall_df.groupby('Year-Month')['Freddie Mac Rate'].mean()\n",
    "CO_df = pd.DataFrame({\n",
    "    \"Population\":Population,\n",
    "    \"Unemployment\":Unemployment,\n",
    "    \"Value\":Value,\n",
    "    \"Wells Fargo Rate\":Wells_Rate,\n",
    "    \"Freddie Mac Rate\":Freddie_Rate,\n",
    "})\n",
    "CO_df = CO_df.dropna(how=\"any\")\n",
    "CO_df.head()\n"
   ]
  },
  {
   "cell_type": "code",
   "execution_count": 22,
   "metadata": {},
   "outputs": [
    {
     "data": {
      "image/png": "[encoded data removed]",
      "text/plain": [
       "<Figure size 432x288 with 1 Axes>"
      ]
     },
     "metadata": {
      "needs_background": "light"
     },
     "output_type": "display_data"
    },
    {
     "name": "stdout",
     "output_type": "stream",
     "text": [
      "The correlation coefficiant is 0.9\n",
      "The line equation is: y = 232.42x + -6758659.49\n"
     ]
    }
   ],
   "source": [
    "#Relationship between Colorado Home Value and Population\n",
    "x_axis = CO_df[\"Population\"]\n",
    "y_axis = CO_df[\"Value\"]\n",
    "plt.title(\"CO Population vs Home Value\")\n",
    "plt.xlabel(\"CO Population\")\n",
    "plt.ylabel(\"CO Home Value\")\n",
    "plt.scatter(x_axis,y_axis, marker=\"o\",color=\"black\")\n",
    "(slope, intercept, rvalue, pvalue, stderr)=linregress(x_axis, y_axis)\n",
    "regress_values=x_axis*slope+intercept \n",
    "line_eq = \"y = \" +str(round(slope,2)) + \"x + \" +str(round(intercept,2))\n",
    "plt.plot(x_axis,regress_values,\"b-\")\n",
    "plt.show()\n",
    "print(\"The correlation coefficiant is \" +str(round(st.pearsonr(x_axis,y_axis)[0],2)))\n",
    "print(\"The line equation is: \" +str(line_eq))"
   ]
  },
  {
   "cell_type": "code",
   "execution_count": 23,
   "metadata": {},
   "outputs": [
    {
     "data": {
      "image/png": "[encoded data removed]",
      "text/plain": [
       "<Figure size 432x288 with 1 Axes>"
      ]
     },
     "metadata": {
      "needs_background": "light"
     },
     "output_type": "display_data"
    },
    {
     "name": "stdout",
     "output_type": "stream",
     "text": [
      "The correlation coefficiant is -0.18\n",
      "The line equation is: y = -14573.65x + 468505.31\n"
     ]
    }
   ],
   "source": [
    "#Relationship between CO Home Value and Freddie Mac Interest Rates\n",
    "x_axis = CO_df[\"Wells Fargo Rate\"]\n",
    "y_axis = CO_df[\"Value\"]\n",
    "plt.title(\"Wells Fargo Interest Rates vs Home Value\")\n",
    "plt.xlabel(\"Wells Fargo Interest Rates\")\n",
    "plt.ylabel(\"CO Home Value\")\n",
    "plt.scatter(x_axis,y_axis, marker=\"o\",color=\"black\")\n",
    "(slope, intercept, rvalue, pvalue, stderr)=linregress(x_axis, y_axis)\n",
    "regress_values=x_axis*slope+intercept \n",
    "line_eq = \"y = \" +str(round(slope,2)) + \"x + \" +str(round(intercept,2))\n",
    "plt.plot(x_axis,regress_values,\"b-\")\n",
    "plt.show()\n",
    "print(\"The correlation coefficiant is \" +str(round(st.pearsonr(x_axis,y_axis)[0],2)))\n",
    "print(\"The line equation is: \" +str(line_eq))"
   ]
  },
  {
   "cell_type": "code",
   "execution_count": 24,
   "metadata": {},
   "outputs": [
    {
     "data": {
      "image/png": "[encoded data removed]",
      "text/plain": [
       "<Figure size 432x288 with 1 Axes>"
      ]
     },
     "metadata": {
      "needs_background": "light"
     },
     "output_type": "display_data"
    },
    {
     "name": "stdout",
     "output_type": "stream",
     "text": [
      "The correlation coefficiant is 0.35\n",
      "The line equation is: y = 6631.16x + 386012.89\n"
     ]
    }
   ],
   "source": [
    "#Relationship between CO Home Value and Unemployment\n",
    "x_axis = CO_df[\"Unemployment\"]\n",
    "y_axis = CO_df[\"Value\"]\n",
    "plt.title(\"Unemployment vs Home Value\")\n",
    "plt.xlabel(\"Unemployment\")\n",
    "plt.ylabel(\"CO Home Value\")\n",
    "plt.scatter(x_axis,y_axis, marker=\"o\",color=\"black\")\n",
    "(slope, intercept, rvalue, pvalue, stderr)=linregress(x_axis, y_axis)\n",
    "regress_values=x_axis*slope+intercept \n",
    "line_eq = \"y = \" +str(round(slope,2)) + \"x + \" +str(round(intercept,2))\n",
    "plt.plot(x_axis,regress_values,\"b-\")\n",
    "plt.show()\n",
    "print(\"The correlation coefficiant is \" +str(round(st.pearsonr(x_axis,y_axis)[0],2)))\n",
    "print(\"The line equation is: \" +str(line_eq))"
   ]
  },
  {
   "cell_type": "code",
   "execution_count": null,
   "metadata": {},
   "outputs": [],
   "source": []
  },
  {
   "cell_type": "code",
   "execution_count": 5,
   "metadata": {},
   "outputs": [],
   "source": [
    "#create 3 different city dataframes\n",
    "Denver_data = zall_df.loc[zall_df['Region Name']=='Denver, CO']\n",
    "COS_data = zall_df.loc[zall_df['Region Name']=='Colorado Springs, CO']\n",
    "Greeley_data = zall_df.loc[zall_df['Region Name']=='Greeley, CO']\n",
    "\n",
    "# Greeley_data\n"
   ]
  },
  {
   "cell_type": "code",
   "execution_count": 6,
   "metadata": {},
   "outputs": [],
   "source": [
    "zall_df = masterdata[masterdata[\"Indicator ID\"] == \"ZALL\"]\n",
    "# zall_df"
   ]
  },
  {
   "cell_type": "code",
   "execution_count": 7,
   "metadata": {},
   "outputs": [],
   "source": [
    "masterdata['Year-Month'] = masterdata['Year-Month'].apply(pd.to_datetime)\n",
    "# masterdata.dtypes"
   ]
  },
  {
   "cell_type": "code",
   "execution_count": 8,
   "metadata": {},
   "outputs": [],
   "source": [
    "masterdata['Year-Month'] = pd.to_datetime(masterdata['Year-Month'], format='%Y%B')\n",
    "# masterdata.dtypes\n",
    "# masterdata_dropped = masterdata.dropna(how=\"any\")\n",
    "# masterdata_dropped.head()"
   ]
  },
  {
   "cell_type": "code",
   "execution_count": 9,
   "metadata": {},
   "outputs": [],
   "source": [
    "#formatting the Year-Month column to datetime\n",
    "Denver_data['Year-Month'] = Denver_data['Year-Month'].apply(pd.to_datetime)\n",
    "COS_data['Year-Month'] = COS_data['Year-Month'].apply(pd.to_datetime)\n",
    "Greeley_data['Year-Month'] = Greeley_data['Year-Month'].apply(pd.to_datetime)\n",
    "# Denver_data.dtypes"
   ]
  },
  {
   "cell_type": "code",
   "execution_count": 10,
   "metadata": {},
   "outputs": [],
   "source": [
    "#formatting the Year-Month column to datetime\n",
    "Denver_data['Year-Month'] = pd.to_datetime(Denver_data['Year-Month'], format='%Y%B')\n",
    "COS_data['Year-Month'] = pd.to_datetime(COS_data['Year-Month'], format='%Y%B')\n",
    "Greeley_data['Year-Month'] = pd.to_datetime(Greeley_data['Year-Month'], format='%Y%B')\n",
    "# Denver_data.dtypes"
   ]
  },
  {
   "cell_type": "code",
   "execution_count": 11,
   "metadata": {},
   "outputs": [
    {
     "data": {
      "text/html": [
       "<div>\n",
       "<style scoped>\n",
       "    .dataframe tbody tr th:only-of-type {\n",
       "        vertical-align: middle;\n",
       "    }\n",
       "\n",
       "    .dataframe tbody tr th {\n",
       "        vertical-align: top;\n",
       "    }\n",
       "\n",
       "    .dataframe thead th {\n",
       "        text-align: right;\n",
       "    }\n",
       "</style>\n",
       "<table border=\"1\" class=\"dataframe\">\n",
       "  <thead>\n",
       "    <tr style=\"text-align: right;\">\n",
       "      <th></th>\n",
       "      <th>Year</th>\n",
       "      <th>Month</th>\n",
       "      <th>Year-Month</th>\n",
       "      <th>Date Zillow</th>\n",
       "      <th>Date Interest</th>\n",
       "      <th>Indicator ID</th>\n",
       "      <th>Indicator Name</th>\n",
       "      <th>Region ID</th>\n",
       "      <th>Region Type</th>\n",
       "      <th>Region Name</th>\n",
       "      <th>Value</th>\n",
       "      <th>County Population</th>\n",
       "      <th>Unemployment Rate</th>\n",
       "      <th>Wells Fargo Rate</th>\n",
       "      <th>Freddie Mac Rate</th>\n",
       "    </tr>\n",
       "  </thead>\n",
       "  <tbody>\n",
       "    <tr>\n",
       "      <th>2054</th>\n",
       "      <td>2016</td>\n",
       "      <td>Apr</td>\n",
       "      <td>2016-04-01</td>\n",
       "      <td>4/30/2016</td>\n",
       "      <td>4/28/2016</td>\n",
       "      <td>ZALL</td>\n",
       "      <td>ZHVI All Homes (SFR, Condo/Co-op) Time Series ($)</td>\n",
       "      <td>394530</td>\n",
       "      <td>metro</td>\n",
       "      <td>Denver, CO</td>\n",
       "      <td>357037.0</td>\n",
       "      <td>697744.0</td>\n",
       "      <td>3.5</td>\n",
       "      <td>3.88</td>\n",
       "      <td>3.66</td>\n",
       "    </tr>\n",
       "    <tr>\n",
       "      <th>2216</th>\n",
       "      <td>2016</td>\n",
       "      <td>May</td>\n",
       "      <td>2016-05-01</td>\n",
       "      <td>5/31/2016</td>\n",
       "      <td>5/5/2016</td>\n",
       "      <td>ZALL</td>\n",
       "      <td>ZHVI All Homes (SFR, Condo/Co-op) Time Series ($)</td>\n",
       "      <td>394530</td>\n",
       "      <td>metro</td>\n",
       "      <td>Denver, CO</td>\n",
       "      <td>359934.0</td>\n",
       "      <td>697744.0</td>\n",
       "      <td>3.4</td>\n",
       "      <td>3.75</td>\n",
       "      <td>3.61</td>\n",
       "    </tr>\n",
       "    <tr>\n",
       "      <th>2217</th>\n",
       "      <td>2016</td>\n",
       "      <td>May</td>\n",
       "      <td>2016-05-01</td>\n",
       "      <td>5/31/2016</td>\n",
       "      <td>5/12/2016</td>\n",
       "      <td>ZALL</td>\n",
       "      <td>ZHVI All Homes (SFR, Condo/Co-op) Time Series ($)</td>\n",
       "      <td>394530</td>\n",
       "      <td>metro</td>\n",
       "      <td>Denver, CO</td>\n",
       "      <td>359934.0</td>\n",
       "      <td>697744.0</td>\n",
       "      <td>3.4</td>\n",
       "      <td>3.75</td>\n",
       "      <td>3.57</td>\n",
       "    </tr>\n",
       "    <tr>\n",
       "      <th>2218</th>\n",
       "      <td>2016</td>\n",
       "      <td>May</td>\n",
       "      <td>2016-05-01</td>\n",
       "      <td>5/31/2016</td>\n",
       "      <td>5/19/2016</td>\n",
       "      <td>ZALL</td>\n",
       "      <td>ZHVI All Homes (SFR, Condo/Co-op) Time Series ($)</td>\n",
       "      <td>394530</td>\n",
       "      <td>metro</td>\n",
       "      <td>Denver, CO</td>\n",
       "      <td>359934.0</td>\n",
       "      <td>697744.0</td>\n",
       "      <td>3.4</td>\n",
       "      <td>3.88</td>\n",
       "      <td>3.58</td>\n",
       "    </tr>\n",
       "    <tr>\n",
       "      <th>2219</th>\n",
       "      <td>2016</td>\n",
       "      <td>May</td>\n",
       "      <td>2016-05-01</td>\n",
       "      <td>5/31/2016</td>\n",
       "      <td>5/26/2016</td>\n",
       "      <td>ZALL</td>\n",
       "      <td>ZHVI All Homes (SFR, Condo/Co-op) Time Series ($)</td>\n",
       "      <td>394530</td>\n",
       "      <td>metro</td>\n",
       "      <td>Denver, CO</td>\n",
       "      <td>359934.0</td>\n",
       "      <td>697744.0</td>\n",
       "      <td>3.4</td>\n",
       "      <td>3.88</td>\n",
       "      <td>3.64</td>\n",
       "    </tr>\n",
       "  </tbody>\n",
       "</table>\n",
       "</div>"
      ],
      "text/plain": [
       "      Year Month Year-Month Date Zillow Date Interest Indicator ID  \\\n",
       "2054  2016   Apr 2016-04-01   4/30/2016     4/28/2016         ZALL   \n",
       "2216  2016   May 2016-05-01   5/31/2016      5/5/2016         ZALL   \n",
       "2217  2016   May 2016-05-01   5/31/2016     5/12/2016         ZALL   \n",
       "2218  2016   May 2016-05-01   5/31/2016     5/19/2016         ZALL   \n",
       "2219  2016   May 2016-05-01   5/31/2016     5/26/2016         ZALL   \n",
       "\n",
       "                                         Indicator Name  Region ID  \\\n",
       "2054  ZHVI All Homes (SFR, Condo/Co-op) Time Series ($)     394530   \n",
       "2216  ZHVI All Homes (SFR, Condo/Co-op) Time Series ($)     394530   \n",
       "2217  ZHVI All Homes (SFR, Condo/Co-op) Time Series ($)     394530   \n",
       "2218  ZHVI All Homes (SFR, Condo/Co-op) Time Series ($)     394530   \n",
       "2219  ZHVI All Homes (SFR, Condo/Co-op) Time Series ($)     394530   \n",
       "\n",
       "     Region Type Region Name     Value  County Population  Unemployment Rate  \\\n",
       "2054       metro  Denver, CO  357037.0           697744.0                3.5   \n",
       "2216       metro  Denver, CO  359934.0           697744.0                3.4   \n",
       "2217       metro  Denver, CO  359934.0           697744.0                3.4   \n",
       "2218       metro  Denver, CO  359934.0           697744.0                3.4   \n",
       "2219       metro  Denver, CO  359934.0           697744.0                3.4   \n",
       "\n",
       "      Wells Fargo Rate  Freddie Mac Rate  \n",
       "2054              3.88              3.66  \n",
       "2216              3.75              3.61  \n",
       "2217              3.75              3.57  \n",
       "2218              3.88              3.58  \n",
       "2219              3.88              3.64  "
      ]
     },
     "execution_count": 11,
     "metadata": {},
     "output_type": "execute_result"
    }
   ],
   "source": [
    "#Sorting the Year-Month column from oldest to most recent\n",
    "Denver_data = Denver_data.sort_values(\"Year-Month\")\n",
    "COS_data = COS_data.sort_values(\"Year-Month\")\n",
    "Greeley_data = Greeley_data.sort_values(\"Year-Month\")\n",
    "Denver_data.head()"
   ]
  },
  {
   "cell_type": "code",
   "execution_count": 12,
   "metadata": {},
   "outputs": [
    {
     "data": {
      "text/html": [
       "<div>\n",
       "<style scoped>\n",
       "    .dataframe tbody tr th:only-of-type {\n",
       "        vertical-align: middle;\n",
       "    }\n",
       "\n",
       "    .dataframe tbody tr th {\n",
       "        vertical-align: top;\n",
       "    }\n",
       "\n",
       "    .dataframe thead th {\n",
       "        text-align: right;\n",
       "    }\n",
       "</style>\n",
       "<table border=\"1\" class=\"dataframe\">\n",
       "  <thead>\n",
       "    <tr style=\"text-align: right;\">\n",
       "      <th></th>\n",
       "      <th>Population</th>\n",
       "      <th>Unemployment</th>\n",
       "      <th>Value</th>\n",
       "      <th>Wells Fargo Rate</th>\n",
       "      <th>Freddie Mac Rate</th>\n",
       "    </tr>\n",
       "    <tr>\n",
       "      <th>Year-Month</th>\n",
       "      <th></th>\n",
       "      <th></th>\n",
       "      <th></th>\n",
       "      <th></th>\n",
       "      <th></th>\n",
       "    </tr>\n",
       "  </thead>\n",
       "  <tbody>\n",
       "    <tr>\n",
       "      <th>2016-04-01</th>\n",
       "      <td>697744.0</td>\n",
       "      <td>3.5</td>\n",
       "      <td>357037.0</td>\n",
       "      <td>3.880</td>\n",
       "      <td>3.660</td>\n",
       "    </tr>\n",
       "    <tr>\n",
       "      <th>2016-05-01</th>\n",
       "      <td>697744.0</td>\n",
       "      <td>3.4</td>\n",
       "      <td>359934.0</td>\n",
       "      <td>3.815</td>\n",
       "      <td>3.600</td>\n",
       "    </tr>\n",
       "    <tr>\n",
       "      <th>2016-06-01</th>\n",
       "      <td>697744.0</td>\n",
       "      <td>3.4</td>\n",
       "      <td>362475.0</td>\n",
       "      <td>3.728</td>\n",
       "      <td>3.568</td>\n",
       "    </tr>\n",
       "    <tr>\n",
       "      <th>2016-07-01</th>\n",
       "      <td>697744.0</td>\n",
       "      <td>3.3</td>\n",
       "      <td>365470.0</td>\n",
       "      <td>3.630</td>\n",
       "      <td>3.440</td>\n",
       "    </tr>\n",
       "    <tr>\n",
       "      <th>2016-08-01</th>\n",
       "      <td>697744.0</td>\n",
       "      <td>3.3</td>\n",
       "      <td>368384.0</td>\n",
       "      <td>3.630</td>\n",
       "      <td>3.434</td>\n",
       "    </tr>\n",
       "  </tbody>\n",
       "</table>\n",
       "</div>"
      ],
      "text/plain": [
       "            Population  Unemployment     Value  Wells Fargo Rate  \\\n",
       "Year-Month                                                         \n",
       "2016-04-01    697744.0           3.5  357037.0             3.880   \n",
       "2016-05-01    697744.0           3.4  359934.0             3.815   \n",
       "2016-06-01    697744.0           3.4  362475.0             3.728   \n",
       "2016-07-01    697744.0           3.3  365470.0             3.630   \n",
       "2016-08-01    697744.0           3.3  368384.0             3.630   \n",
       "\n",
       "            Freddie Mac Rate  \n",
       "Year-Month                    \n",
       "2016-04-01             3.660  \n",
       "2016-05-01             3.600  \n",
       "2016-06-01             3.568  \n",
       "2016-07-01             3.440  \n",
       "2016-08-01             3.434  "
      ]
     },
     "execution_count": 12,
     "metadata": {},
     "output_type": "execute_result"
    }
   ],
   "source": [
    "#Need to groupby Year-Month column, \n",
    "#grab the first values of population and unemployment (b/c these don't change throughout the month)\n",
    "#and take the average of columns \"value\" and interest rates (these have different values throughout the month)\n",
    "#Denver_Year_Month = Denver_data.groupby('Year-Month')['Values']\n",
    "\n",
    "\n",
    "#Denver Data\n",
    "Denver_Population = Denver_data.groupby('Year-Month')['County Population'].first()\n",
    "Denver_Unemployment = Denver_data.groupby('Year-Month')['Unemployment Rate'].first()\n",
    "Denver_Value = Denver_data.groupby('Year-Month')['Value'].mean()\n",
    "Denver_Wells_Rate = Denver_data.groupby('Year-Month')['Wells Fargo Rate'].mean()\n",
    "Denver_Freddie_Rate = Denver_data.groupby('Year-Month')['Freddie Mac Rate'].mean()\n",
    "Denver_df = pd.DataFrame({\n",
    "    \"Population\":Denver_Population,\n",
    "    \"Unemployment\":Denver_Unemployment,\n",
    "    \"Value\":Denver_Value,\n",
    "    \"Wells Fargo Rate\":Denver_Wells_Rate,\n",
    "    \"Freddie Mac Rate\":Denver_Freddie_Rate,\n",
    "})\n",
    "Denver_df = Denver_df.dropna(how=\"any\")\n",
    "Denver_df.head()"
   ]
  },
  {
   "cell_type": "code",
   "execution_count": 13,
   "metadata": {},
   "outputs": [
    {
     "data": {
      "text/html": [
       "<div>\n",
       "<style scoped>\n",
       "    .dataframe tbody tr th:only-of-type {\n",
       "        vertical-align: middle;\n",
       "    }\n",
       "\n",
       "    .dataframe tbody tr th {\n",
       "        vertical-align: top;\n",
       "    }\n",
       "\n",
       "    .dataframe thead th {\n",
       "        text-align: right;\n",
       "    }\n",
       "</style>\n",
       "<table border=\"1\" class=\"dataframe\">\n",
       "  <thead>\n",
       "    <tr style=\"text-align: right;\">\n",
       "      <th></th>\n",
       "      <th>Population</th>\n",
       "      <th>Unemployment</th>\n",
       "      <th>Value</th>\n",
       "      <th>Wells Fargo Rate</th>\n",
       "      <th>Freddie Mac Rate</th>\n",
       "    </tr>\n",
       "    <tr>\n",
       "      <th>Year-Month</th>\n",
       "      <th></th>\n",
       "      <th></th>\n",
       "      <th></th>\n",
       "      <th></th>\n",
       "      <th></th>\n",
       "    </tr>\n",
       "  </thead>\n",
       "  <tbody>\n",
       "    <tr>\n",
       "      <th>2016-04-01</th>\n",
       "      <td>689481.0</td>\n",
       "      <td>3.5</td>\n",
       "      <td>241753.0</td>\n",
       "      <td>3.880</td>\n",
       "      <td>3.660</td>\n",
       "    </tr>\n",
       "    <tr>\n",
       "      <th>2016-05-01</th>\n",
       "      <td>689481.0</td>\n",
       "      <td>3.4</td>\n",
       "      <td>243141.0</td>\n",
       "      <td>3.815</td>\n",
       "      <td>3.600</td>\n",
       "    </tr>\n",
       "    <tr>\n",
       "      <th>2016-06-01</th>\n",
       "      <td>689481.0</td>\n",
       "      <td>3.4</td>\n",
       "      <td>244820.0</td>\n",
       "      <td>3.728</td>\n",
       "      <td>3.568</td>\n",
       "    </tr>\n",
       "    <tr>\n",
       "      <th>2016-07-01</th>\n",
       "      <td>689481.0</td>\n",
       "      <td>3.3</td>\n",
       "      <td>246313.0</td>\n",
       "      <td>3.630</td>\n",
       "      <td>3.440</td>\n",
       "    </tr>\n",
       "    <tr>\n",
       "      <th>2016-08-01</th>\n",
       "      <td>689481.0</td>\n",
       "      <td>3.3</td>\n",
       "      <td>248101.0</td>\n",
       "      <td>3.630</td>\n",
       "      <td>3.434</td>\n",
       "    </tr>\n",
       "  </tbody>\n",
       "</table>\n",
       "</div>"
      ],
      "text/plain": [
       "            Population  Unemployment     Value  Wells Fargo Rate  \\\n",
       "Year-Month                                                         \n",
       "2016-04-01    689481.0           3.5  241753.0             3.880   \n",
       "2016-05-01    689481.0           3.4  243141.0             3.815   \n",
       "2016-06-01    689481.0           3.4  244820.0             3.728   \n",
       "2016-07-01    689481.0           3.3  246313.0             3.630   \n",
       "2016-08-01    689481.0           3.3  248101.0             3.630   \n",
       "\n",
       "            Freddie Mac Rate  \n",
       "Year-Month                    \n",
       "2016-04-01             3.660  \n",
       "2016-05-01             3.600  \n",
       "2016-06-01             3.568  \n",
       "2016-07-01             3.440  \n",
       "2016-08-01             3.434  "
      ]
     },
     "execution_count": 13,
     "metadata": {},
     "output_type": "execute_result"
    }
   ],
   "source": [
    "#Need to groupby Year-Month column, \n",
    "#grab the first values of population and unemployment (b/c these don't change throughout the month)\n",
    "#and take the average of columns \"value\" and interest rates (these have different values throughout the month)\n",
    "#Denver_Year_Month = Denver_data.groupby('Year-Month')['Values']\n",
    "\n",
    "\n",
    "#Colorado Springs Data\n",
    "COS_Population = COS_data.groupby('Year-Month')['County Population'].first()\n",
    "COS_Unemployment = COS_data.groupby('Year-Month')['Unemployment Rate'].first()\n",
    "COS_Value = COS_data.groupby('Year-Month')['Value'].mean()\n",
    "COS_Wells_Rate = COS_data.groupby('Year-Month')['Wells Fargo Rate'].mean()\n",
    "COS_Freddie_Rate = COS_data.groupby('Year-Month')['Freddie Mac Rate'].mean()\n",
    "COS_df = pd.DataFrame({\n",
    "    \"Population\":COS_Population,\n",
    "    \"Unemployment\":COS_Unemployment,\n",
    "    \"Value\":COS_Value,\n",
    "    \"Wells Fargo Rate\":COS_Wells_Rate,\n",
    "    \"Freddie Mac Rate\":COS_Freddie_Rate,\n",
    "})\n",
    "COS_df = COS_df.dropna(how=\"any\")\n",
    "COS_df.head()"
   ]
  },
  {
   "cell_type": "code",
   "execution_count": 14,
   "metadata": {},
   "outputs": [
    {
     "data": {
      "text/html": [
       "<div>\n",
       "<style scoped>\n",
       "    .dataframe tbody tr th:only-of-type {\n",
       "        vertical-align: middle;\n",
       "    }\n",
       "\n",
       "    .dataframe tbody tr th {\n",
       "        vertical-align: top;\n",
       "    }\n",
       "\n",
       "    .dataframe thead th {\n",
       "        text-align: right;\n",
       "    }\n",
       "</style>\n",
       "<table border=\"1\" class=\"dataframe\">\n",
       "  <thead>\n",
       "    <tr style=\"text-align: right;\">\n",
       "      <th></th>\n",
       "      <th>Population</th>\n",
       "      <th>Unemployment</th>\n",
       "      <th>Value</th>\n",
       "      <th>Wells Fargo Rate</th>\n",
       "      <th>Freddie Mac Rate</th>\n",
       "    </tr>\n",
       "    <tr>\n",
       "      <th>Year-Month</th>\n",
       "      <th></th>\n",
       "      <th></th>\n",
       "      <th></th>\n",
       "      <th></th>\n",
       "      <th></th>\n",
       "    </tr>\n",
       "  </thead>\n",
       "  <tbody>\n",
       "    <tr>\n",
       "      <th>2016-04-01</th>\n",
       "      <td>294867.0</td>\n",
       "      <td>3.5</td>\n",
       "      <td>288654.0</td>\n",
       "      <td>3.880</td>\n",
       "      <td>3.660</td>\n",
       "    </tr>\n",
       "    <tr>\n",
       "      <th>2016-05-01</th>\n",
       "      <td>294867.0</td>\n",
       "      <td>3.4</td>\n",
       "      <td>290891.0</td>\n",
       "      <td>3.815</td>\n",
       "      <td>3.600</td>\n",
       "    </tr>\n",
       "    <tr>\n",
       "      <th>2016-06-01</th>\n",
       "      <td>294867.0</td>\n",
       "      <td>3.4</td>\n",
       "      <td>292973.0</td>\n",
       "      <td>3.728</td>\n",
       "      <td>3.568</td>\n",
       "    </tr>\n",
       "    <tr>\n",
       "      <th>2016-07-01</th>\n",
       "      <td>294867.0</td>\n",
       "      <td>3.3</td>\n",
       "      <td>294950.0</td>\n",
       "      <td>3.630</td>\n",
       "      <td>3.440</td>\n",
       "    </tr>\n",
       "    <tr>\n",
       "      <th>2016-08-01</th>\n",
       "      <td>294867.0</td>\n",
       "      <td>3.3</td>\n",
       "      <td>297389.0</td>\n",
       "      <td>3.630</td>\n",
       "      <td>3.434</td>\n",
       "    </tr>\n",
       "  </tbody>\n",
       "</table>\n",
       "</div>"
      ],
      "text/plain": [
       "            Population  Unemployment     Value  Wells Fargo Rate  \\\n",
       "Year-Month                                                         \n",
       "2016-04-01    294867.0           3.5  288654.0             3.880   \n",
       "2016-05-01    294867.0           3.4  290891.0             3.815   \n",
       "2016-06-01    294867.0           3.4  292973.0             3.728   \n",
       "2016-07-01    294867.0           3.3  294950.0             3.630   \n",
       "2016-08-01    294867.0           3.3  297389.0             3.630   \n",
       "\n",
       "            Freddie Mac Rate  \n",
       "Year-Month                    \n",
       "2016-04-01             3.660  \n",
       "2016-05-01             3.600  \n",
       "2016-06-01             3.568  \n",
       "2016-07-01             3.440  \n",
       "2016-08-01             3.434  "
      ]
     },
     "execution_count": 14,
     "metadata": {},
     "output_type": "execute_result"
    }
   ],
   "source": [
    "#Need to groupby Year-Month column, \n",
    "#grab the first values of population and unemployment (b/c these don't change throughout the month)\n",
    "#and take the average of columns \"value\" and interest rates (these have different values throughout the month)\n",
    "#Denver_Year_Month = Denver_data.groupby('Year-Month')['Values']\n",
    "\n",
    "\n",
    "#Greeley Data\n",
    "Greeley_Population = Greeley_data.groupby('Year-Month')['County Population'].first()\n",
    "Greeley_Unemployment = Greeley_data.groupby('Year-Month')['Unemployment Rate'].first()\n",
    "Greeley_Value = Greeley_data.groupby('Year-Month')['Value'].mean()\n",
    "Greeley_Wells_Rate = Greeley_data.groupby('Year-Month')['Wells Fargo Rate'].mean()\n",
    "Greeley_Freddie_Rate = Greeley_data.groupby('Year-Month')['Freddie Mac Rate'].mean()\n",
    "Greeley_df = pd.DataFrame({\n",
    "    \"Population\":Greeley_Population,\n",
    "    \"Unemployment\":Greeley_Unemployment,\n",
    "    \"Value\":Greeley_Value,\n",
    "    \"Wells Fargo Rate\":Greeley_Wells_Rate,\n",
    "    \"Freddie Mac Rate\":Greeley_Freddie_Rate,\n",
    "})\n",
    "Greeley_df = Greeley_df.dropna(how=\"any\")\n",
    "Greeley_df.head()"
   ]
  },
  {
   "cell_type": "code",
   "execution_count": 15,
   "metadata": {},
   "outputs": [
    {
     "data": {
      "image/png": "[encoded data removed]",
      "text/plain": [
       "<Figure size 432x288 with 1 Axes>"
      ]
     },
     "metadata": {
      "needs_background": "light"
     },
     "output_type": "display_data"
    },
    {
     "name": "stdout",
     "output_type": "stream",
     "text": [
      "The correlation coefficiant is 0.96\n",
      "The line equation is: y = 2.03x + -1039561.18\n"
     ]
    }
   ],
   "source": [
    "#Relationship between Denver Home Value and Population\n",
    "x_axis = Denver_df[\"Population\"]\n",
    "y_axis = Denver_df[\"Value\"]\n",
    "plt.title(\"Denver Population vs Home Value\")\n",
    "plt.xlabel(\"Denver Population\")\n",
    "plt.ylabel(\"Denver Home Value\")\n",
    "plt.scatter(x_axis,y_axis, marker=\"o\",color=\"red\")\n",
    "(slope, intercept, rvalue, pvalue, stderr)=linregress(x_axis, y_axis)\n",
    "regress_values=x_axis*slope+intercept \n",
    "line_eq = \"y = \" +str(round(slope,2)) + \"x + \" +str(round(intercept,2))\n",
    "plt.plot(x_axis,regress_values,\"r-\")\n",
    "plt.show()\n",
    "print(\"The correlation coefficiant is \" +str(round(st.pearsonr(x_axis,y_axis)[0],2)))\n",
    "print(\"The line equation is: \" +str(line_eq))\n",
    "\n"
   ]
  },
  {
   "cell_type": "code",
   "execution_count": 16,
   "metadata": {},
   "outputs": [
    {
     "data": {
      "image/png": "[encoded data removed]",
      "text/plain": [
       "<Figure size 432x288 with 1 Axes>"
      ]
     },
     "metadata": {
      "needs_background": "light"
     },
     "output_type": "display_data"
    },
    {
     "name": "stdout",
     "output_type": "stream",
     "text": [
      "The correlation coefficiant is 0.97\n",
      "The line equation is: y = 1.72x + -934853.39\n"
     ]
    }
   ],
   "source": [
    "#Relationship between Colorado Springs Home Value and Population\n",
    "x_axis = COS_df[\"Population\"]\n",
    "y_axis = COS_df[\"Value\"]\n",
    "plt.title(\"COS Population vs Home Value\")\n",
    "plt.xlabel(\"COS Population\")\n",
    "plt.ylabel(\"COS Home Value\")\n",
    "plt.scatter(x_axis,y_axis, marker=\"o\",color=\"red\")\n",
    "(slope, intercept, rvalue, pvalue, stderr)=linregress(x_axis, y_axis)\n",
    "regress_values=x_axis*slope+intercept \n",
    "line_eq = \"y = \" +str(round(slope,2)) + \"x + \" +str(round(intercept,2))\n",
    "plt.plot(x_axis,regress_values,\"r-\")\n",
    "plt.show()\n",
    "print(\"The correlation coefficiant is \" +str(round(st.pearsonr(x_axis,y_axis)[0],2)))\n",
    "print(\"The line equation is: \" +str(line_eq))\n"
   ]
  },
  {
   "cell_type": "code",
   "execution_count": 17,
   "metadata": {},
   "outputs": [
    {
     "data": {
      "image/png": "[encoded data removed]",
      "text/plain": [
       "<Figure size 432x288 with 1 Axes>"
      ]
     },
     "metadata": {
      "needs_background": "light"
     },
     "output_type": "display_data"
    },
    {
     "name": "stdout",
     "output_type": "stream",
     "text": [
      "The correlation coefficiant is 0.96\n",
      "The line equation is: y = 2.35x + -392456.42\n"
     ]
    }
   ],
   "source": [
    "#Relationship between Greeley Home Value and Population\n",
    "x_axis = Greeley_df[\"Population\"]\n",
    "y_axis = Greeley_df[\"Value\"]\n",
    "plt.title(\"Greeley Population vs Home Value\")\n",
    "plt.xlabel(\"Greeley Population\")\n",
    "plt.ylabel(\"Greeley Home Value\")\n",
    "plt.scatter(x_axis,y_axis, marker=\"o\",color=\"red\")\n",
    "(slope, intercept, rvalue, pvalue, stderr)=linregress(x_axis, y_axis)\n",
    "regress_values=x_axis*slope+intercept \n",
    "line_eq = \"y = \" +str(round(slope,2)) + \"x + \" +str(round(intercept,2))\n",
    "plt.plot(x_axis,regress_values,\"r-\")\n",
    "plt.show()\n",
    "print(\"The correlation coefficiant is \" +str(round(st.pearsonr(x_axis,y_axis)[0],2)))\n",
    "print(\"The line equation is: \" +str(line_eq))\n"
   ]
  },
  {
   "cell_type": "code",
   "execution_count": 18,
   "metadata": {},
   "outputs": [
    {
     "data": {
      "image/png": "[encoded data removed]",
      "text/plain": [
       "<Figure size 432x288 with 1 Axes>"
      ]
     },
     "metadata": {
      "needs_background": "light"
     },
     "output_type": "display_data"
    },
    {
     "name": "stdout",
     "output_type": "stream",
     "text": [
      "The correlation coefficiant is -0.32\n",
      "The line equation is: y = -0.0x + 12.01\n"
     ]
    }
   ],
   "source": [
    "#Relationship between Denver Home Value and Wells Fargo Interest Rates\n",
    "x_axis = Denver_df[\"Population\"]\n",
    "y_axis = Denver_df[\"Wells Fargo Rate\"]\n",
    "plt.title(\"Wells Fargo Interest Rates vs Home Value\")\n",
    "plt.xlabel(\"Wells Fargo Interest Rates\")\n",
    "plt.ylabel(\"Denver Home Value\")\n",
    "plt.scatter(x_axis,y_axis, marker=\"o\",color=\"red\")\n",
    "(slope, intercept, rvalue, pvalue, stderr)=linregress(x_axis, y_axis)\n",
    "regress_values=x_axis*slope+intercept \n",
    "line_eq = \"y = \" +str(round(slope,2)) + \"x + \" +str(round(intercept,2))\n",
    "plt.plot(x_axis,regress_values,\"r-\")\n",
    "plt.show()\n",
    "print(\"The correlation coefficiant is \" +str(round(st.pearsonr(x_axis,y_axis)[0],2)))\n",
    "print(\"The line equation is: \" +str(line_eq))\n",
    "\n",
    "#If interest rates rise, it has an effect on the cost of mortgages. This forces home buyers to sell.\n",
    "#The increase in sellers and decline in buyers will cause home value to fall"
   ]
  },
  {
   "cell_type": "code",
   "execution_count": 19,
   "metadata": {},
   "outputs": [
    {
     "data": {
      "image/png": "[encoded data removed]",
      "text/plain": [
       "<Figure size 432x288 with 1 Axes>"
      ]
     },
     "metadata": {
      "needs_background": "light"
     },
     "output_type": "display_data"
    },
    {
     "name": "stdout",
     "output_type": "stream",
     "text": [
      "The correlation coefficiant is -0.33\n",
      "The line equation is: y = -0.0x + 11.13\n"
     ]
    }
   ],
   "source": [
    "#Relationship between COS Home Value and Wells Fargo Interest Rates\n",
    "x_axis = COS_df[\"Population\"]\n",
    "y_axis = COS_df[\"Wells Fargo Rate\"]\n",
    "plt.title(\"Wells Fargo Interest Rates vs Home Value\")\n",
    "plt.xlabel(\"Wells Fargo Interest Rates\")\n",
    "plt.ylabel(\"COS Home Value\")\n",
    "plt.scatter(x_axis,y_axis, marker=\"o\",color=\"red\")\n",
    "(slope, intercept, rvalue, pvalue, stderr)=linregress(x_axis, y_axis)\n",
    "regress_values=x_axis*slope+intercept \n",
    "line_eq = \"y = \" +str(round(slope,2)) + \"x + \" +str(round(intercept,2))\n",
    "plt.plot(x_axis,regress_values,\"r-\")\n",
    "plt.show()\n",
    "print(\"The correlation coefficiant is \" +str(round(st.pearsonr(x_axis,y_axis)[0],2)))\n",
    "print(\"The line equation is: \" +str(line_eq))\n",
    "\n",
    "#If interest rates rise, it has an effect on the cost of mortgages. This forces home buyers to sell.\n",
    "#The increase in sellers and decline in buyers will cause home value to fall"
   ]
  },
  {
   "cell_type": "code",
   "execution_count": 20,
   "metadata": {},
   "outputs": [
    {
     "data": {
      "image/png": "[encoded data removed]",
      "text/plain": [
       "<Figure size 432x288 with 1 Axes>"
      ]
     },
     "metadata": {
      "needs_background": "light"
     },
     "output_type": "display_data"
    },
    {
     "name": "stdout",
     "output_type": "stream",
     "text": [
      "The correlation coefficiant is -0.31\n",
      "The line equation is: y = -0.0x + 7.8\n"
     ]
    }
   ],
   "source": [
    "#Relationship between Greeley Home Value and Wells Fargo Interest Rates\n",
    "x_axis = Greeley_df[\"Population\"]\n",
    "y_axis = Greeley_df[\"Wells Fargo Rate\"]\n",
    "plt.title(\"Wells Fargo Interest Rates vs Home Value\")\n",
    "plt.xlabel(\"Wells Fargo Interest Rates\")\n",
    "plt.ylabel(\"Greeley Home Value\")\n",
    "plt.scatter(x_axis,y_axis, marker=\"o\",color=\"red\")\n",
    "(slope, intercept, rvalue, pvalue, stderr)=linregress(x_axis, y_axis)\n",
    "regress_values=x_axis*slope+intercept \n",
    "line_eq = \"y = \" +str(round(slope,2)) + \"x + \" +str(round(intercept,2))\n",
    "plt.plot(x_axis,regress_values,\"r-\")\n",
    "plt.show()\n",
    "print(\"The correlation coefficiant is \" +str(round(st.pearsonr(x_axis,y_axis)[0],2)))\n",
    "print(\"The line equation is: \" +str(line_eq))\n",
    "\n",
    "#If interest rates rise, it has an effect on the cost of mortgages. This forces home buyers to sell.\n",
    "#The increase in sellers and decline in buyers will cause home value to fall"
   ]
  },
  {
   "cell_type": "code",
   "execution_count": null,
   "metadata": {},
   "outputs": [],
   "source": []
  },
  {
   "cell_type": "code",
   "execution_count": null,
   "metadata": {},
   "outputs": [],
   "source": []
  },
  {
   "cell_type": "code",
   "execution_count": null,
   "metadata": {},
   "outputs": [],
   "source": []
  }
 ],
 "metadata": {
  "kernelspec": {
   "display_name": "Python [conda env:PythonData] *",
   "language": "python",
   "name": "conda-env-PythonData-py"
  },
  "language_info": {
   "codemirror_mode": {
    "name": "ipython",
    "version": 3
   },
   "file_extension": ".py",
   "mimetype": "text/x-python",
   "name": "python",
   "nbconvert_exporter": "python",
   "pygments_lexer": "ipython3",
   "version": "3.8.5"
  }
 },
 "nbformat": 4,
 "nbformat_minor": 4
}
