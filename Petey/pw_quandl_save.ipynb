{
 "cells": [
  {
   "cell_type": "code",
   "execution_count": 2,
   "metadata": {},
   "outputs": [],
   "source": [
    "import json\n",
    "import pandas as pd\n",
    "import requests\n",
    "import matplotlib.pyplot as plt\n",
    "import scipy as sp\n",
    "from pprint import pprint\n",
    "import quandl\n",
    "from config import api_key\n",
    "import numpy as np\n",
    "from matplotlib.pyplot import figure\n",
    "from scipy import stats\n",
    "from scipy.stats import linregress"
   ]
  },
  {
   "cell_type": "code",
   "execution_count": 3,
   "metadata": {},
   "outputs": [
    {
     "data": {
      "text/html": [
       "<div>\n",
       "<style scoped>\n",
       "    .dataframe tbody tr th:only-of-type {\n",
       "        vertical-align: middle;\n",
       "    }\n",
       "\n",
       "    .dataframe tbody tr th {\n",
       "        vertical-align: top;\n",
       "    }\n",
       "\n",
       "    .dataframe thead th {\n",
       "        text-align: right;\n",
       "    }\n",
       "</style>\n",
       "<table border=\"1\" class=\"dataframe\">\n",
       "  <thead>\n",
       "    <tr style=\"text-align: right;\">\n",
       "      <th></th>\n",
       "      <th>Year</th>\n",
       "      <th>Month</th>\n",
       "      <th>Year-Month</th>\n",
       "      <th>Date Zillow</th>\n",
       "      <th>Date Interest</th>\n",
       "      <th>Indicator ID</th>\n",
       "      <th>Indicator Name</th>\n",
       "      <th>Region ID</th>\n",
       "      <th>Region Type</th>\n",
       "      <th>Region Name</th>\n",
       "      <th>Value</th>\n",
       "      <th>County Population</th>\n",
       "      <th>Unemployment Rate</th>\n",
       "      <th>Wells Fargo Rate</th>\n",
       "      <th>Freddie Mac Rate</th>\n",
       "    </tr>\n",
       "  </thead>\n",
       "  <tbody>\n",
       "    <tr>\n",
       "      <th>0</th>\n",
       "      <td>2016</td>\n",
       "      <td>Apr</td>\n",
       "      <td>2016-4</td>\n",
       "      <td>4/30/2016</td>\n",
       "      <td>4/28/2016</td>\n",
       "      <td>Z2BR</td>\n",
       "      <td>ZHVI 2-Bedroom Time Series ($)</td>\n",
       "      <td>753871</td>\n",
       "      <td>metro</td>\n",
       "      <td>Breckenridge, CO; CO</td>\n",
       "      <td>384884.00</td>\n",
       "      <td>30566</td>\n",
       "      <td>3.5</td>\n",
       "      <td>3.88</td>\n",
       "      <td>3.66</td>\n",
       "    </tr>\n",
       "    <tr>\n",
       "      <th>1</th>\n",
       "      <td>2016</td>\n",
       "      <td>Apr</td>\n",
       "      <td>2016-4</td>\n",
       "      <td>4/30/2016</td>\n",
       "      <td>4/28/2016</td>\n",
       "      <td>Z4BR</td>\n",
       "      <td>ZHVI 4-Bedroom Time Series ($)</td>\n",
       "      <td>753871</td>\n",
       "      <td>metro</td>\n",
       "      <td>Breckenridge, CO; CO</td>\n",
       "      <td>881951.00</td>\n",
       "      <td>30566</td>\n",
       "      <td>3.5</td>\n",
       "      <td>3.88</td>\n",
       "      <td>3.66</td>\n",
       "    </tr>\n",
       "    <tr>\n",
       "      <th>2</th>\n",
       "      <td>2016</td>\n",
       "      <td>Apr</td>\n",
       "      <td>2016-4</td>\n",
       "      <td>4/30/2016</td>\n",
       "      <td>4/28/2016</td>\n",
       "      <td>Z5BR</td>\n",
       "      <td>ZHVI 5+ Bedroom Time Series ($)</td>\n",
       "      <td>753871</td>\n",
       "      <td>metro</td>\n",
       "      <td>Breckenridge, CO; CO</td>\n",
       "      <td>1287769.00</td>\n",
       "      <td>30566</td>\n",
       "      <td>3.5</td>\n",
       "      <td>3.88</td>\n",
       "      <td>3.66</td>\n",
       "    </tr>\n",
       "    <tr>\n",
       "      <th>3</th>\n",
       "      <td>2016</td>\n",
       "      <td>Apr</td>\n",
       "      <td>2016-4</td>\n",
       "      <td>4/30/2016</td>\n",
       "      <td>4/28/2016</td>\n",
       "      <td>ZATT</td>\n",
       "      <td>ZHVI All Homes- Top Tier Time Series ($)</td>\n",
       "      <td>753871</td>\n",
       "      <td>metro</td>\n",
       "      <td>Breckenridge, CO; CO</td>\n",
       "      <td>842653.00</td>\n",
       "      <td>30566</td>\n",
       "      <td>3.5</td>\n",
       "      <td>3.88</td>\n",
       "      <td>3.66</td>\n",
       "    </tr>\n",
       "    <tr>\n",
       "      <th>4</th>\n",
       "      <td>2016</td>\n",
       "      <td>Apr</td>\n",
       "      <td>2016-4</td>\n",
       "      <td>4/30/2016</td>\n",
       "      <td>4/28/2016</td>\n",
       "      <td>Z1BR</td>\n",
       "      <td>ZHVI 1-Bedroom Time Series ($)</td>\n",
       "      <td>753871</td>\n",
       "      <td>metro</td>\n",
       "      <td>Breckenridge, CO; CO</td>\n",
       "      <td>243688.00</td>\n",
       "      <td>30566</td>\n",
       "      <td>3.5</td>\n",
       "      <td>3.88</td>\n",
       "      <td>3.66</td>\n",
       "    </tr>\n",
       "    <tr>\n",
       "      <th>...</th>\n",
       "      <td>...</td>\n",
       "      <td>...</td>\n",
       "      <td>...</td>\n",
       "      <td>...</td>\n",
       "      <td>...</td>\n",
       "      <td>...</td>\n",
       "      <td>...</td>\n",
       "      <td>...</td>\n",
       "      <td>...</td>\n",
       "      <td>...</td>\n",
       "      <td>...</td>\n",
       "      <td>...</td>\n",
       "      <td>...</td>\n",
       "      <td>...</td>\n",
       "      <td>...</td>\n",
       "    </tr>\n",
       "    <tr>\n",
       "      <th>67019</th>\n",
       "      <td>2020</td>\n",
       "      <td>Sep</td>\n",
       "      <td>2020-9</td>\n",
       "      <td>9/26/2020</td>\n",
       "      <td>NaN</td>\n",
       "      <td>CRAW</td>\n",
       "      <td>Share of Listings With a Price Cut (Raw, All H...</td>\n",
       "      <td>394645</td>\n",
       "      <td>metro</td>\n",
       "      <td>Greeley, CO</td>\n",
       "      <td>0.05</td>\n",
       "      <td>332367</td>\n",
       "      <td>6.4</td>\n",
       "      <td>NaN</td>\n",
       "      <td>NaN</td>\n",
       "    </tr>\n",
       "    <tr>\n",
       "      <th>67020</th>\n",
       "      <td>2020</td>\n",
       "      <td>Sep</td>\n",
       "      <td>2020-9</td>\n",
       "      <td>9/19/2020</td>\n",
       "      <td>NaN</td>\n",
       "      <td>CRSW</td>\n",
       "      <td>Share of Listings With a Price Cut (Raw, SFR O...</td>\n",
       "      <td>394645</td>\n",
       "      <td>metro</td>\n",
       "      <td>Greeley, CO</td>\n",
       "      <td>0.04</td>\n",
       "      <td>332367</td>\n",
       "      <td>6.4</td>\n",
       "      <td>NaN</td>\n",
       "      <td>NaN</td>\n",
       "    </tr>\n",
       "    <tr>\n",
       "      <th>67021</th>\n",
       "      <td>2020</td>\n",
       "      <td>Sep</td>\n",
       "      <td>2020-9</td>\n",
       "      <td>9/26/2020</td>\n",
       "      <td>NaN</td>\n",
       "      <td>CRSW</td>\n",
       "      <td>Share of Listings With a Price Cut (Raw, SFR O...</td>\n",
       "      <td>394645</td>\n",
       "      <td>metro</td>\n",
       "      <td>Greeley, CO</td>\n",
       "      <td>0.05</td>\n",
       "      <td>332367</td>\n",
       "      <td>6.4</td>\n",
       "      <td>NaN</td>\n",
       "      <td>NaN</td>\n",
       "    </tr>\n",
       "    <tr>\n",
       "      <th>67022</th>\n",
       "      <td>2020</td>\n",
       "      <td>Sep</td>\n",
       "      <td>2020-9</td>\n",
       "      <td>9/30/2020</td>\n",
       "      <td>NaN</td>\n",
       "      <td>CRSM</td>\n",
       "      <td>Share of Listings With a Price Cut (Raw, SFR O...</td>\n",
       "      <td>394645</td>\n",
       "      <td>metro</td>\n",
       "      <td>Greeley, CO</td>\n",
       "      <td>0.13</td>\n",
       "      <td>332367</td>\n",
       "      <td>6.4</td>\n",
       "      <td>NaN</td>\n",
       "      <td>NaN</td>\n",
       "    </tr>\n",
       "    <tr>\n",
       "      <th>67023</th>\n",
       "      <td>2020</td>\n",
       "      <td>Sep</td>\n",
       "      <td>2020-9</td>\n",
       "      <td>9/30/2020</td>\n",
       "      <td>NaN</td>\n",
       "      <td>CRAM</td>\n",
       "      <td>Share of Listings With a Price Cut (Raw, All H...</td>\n",
       "      <td>394645</td>\n",
       "      <td>metro</td>\n",
       "      <td>Greeley, CO</td>\n",
       "      <td>0.13</td>\n",
       "      <td>332367</td>\n",
       "      <td>6.4</td>\n",
       "      <td>NaN</td>\n",
       "      <td>NaN</td>\n",
       "    </tr>\n",
       "  </tbody>\n",
       "</table>\n",
       "<p>67024 rows × 15 columns</p>\n",
       "</div>"
      ],
      "text/plain": [
       "       Year Month Year-Month Date Zillow Date Interest Indicator ID  \\\n",
       "0      2016   Apr     2016-4   4/30/2016     4/28/2016         Z2BR   \n",
       "1      2016   Apr     2016-4   4/30/2016     4/28/2016         Z4BR   \n",
       "2      2016   Apr     2016-4   4/30/2016     4/28/2016         Z5BR   \n",
       "3      2016   Apr     2016-4   4/30/2016     4/28/2016         ZATT   \n",
       "4      2016   Apr     2016-4   4/30/2016     4/28/2016         Z1BR   \n",
       "...     ...   ...        ...         ...           ...          ...   \n",
       "67019  2020   Sep     2020-9   9/26/2020           NaN         CRAW   \n",
       "67020  2020   Sep     2020-9   9/19/2020           NaN         CRSW   \n",
       "67021  2020   Sep     2020-9   9/26/2020           NaN         CRSW   \n",
       "67022  2020   Sep     2020-9   9/30/2020           NaN         CRSM   \n",
       "67023  2020   Sep     2020-9   9/30/2020           NaN         CRAM   \n",
       "\n",
       "                                          Indicator Name  Region ID  \\\n",
       "0                         ZHVI 2-Bedroom Time Series ($)     753871   \n",
       "1                         ZHVI 4-Bedroom Time Series ($)     753871   \n",
       "2                        ZHVI 5+ Bedroom Time Series ($)     753871   \n",
       "3               ZHVI All Homes- Top Tier Time Series ($)     753871   \n",
       "4                         ZHVI 1-Bedroom Time Series ($)     753871   \n",
       "...                                                  ...        ...   \n",
       "67019  Share of Listings With a Price Cut (Raw, All H...     394645   \n",
       "67020  Share of Listings With a Price Cut (Raw, SFR O...     394645   \n",
       "67021  Share of Listings With a Price Cut (Raw, SFR O...     394645   \n",
       "67022  Share of Listings With a Price Cut (Raw, SFR O...     394645   \n",
       "67023  Share of Listings With a Price Cut (Raw, All H...     394645   \n",
       "\n",
       "      Region Type           Region Name       Value  County Population  \\\n",
       "0           metro  Breckenridge, CO; CO   384884.00              30566   \n",
       "1           metro  Breckenridge, CO; CO   881951.00              30566   \n",
       "2           metro  Breckenridge, CO; CO  1287769.00              30566   \n",
       "3           metro  Breckenridge, CO; CO   842653.00              30566   \n",
       "4           metro  Breckenridge, CO; CO   243688.00              30566   \n",
       "...           ...                   ...         ...                ...   \n",
       "67019       metro           Greeley, CO        0.05             332367   \n",
       "67020       metro           Greeley, CO        0.04             332367   \n",
       "67021       metro           Greeley, CO        0.05             332367   \n",
       "67022       metro           Greeley, CO        0.13             332367   \n",
       "67023       metro           Greeley, CO        0.13             332367   \n",
       "\n",
       "       Unemployment Rate  Wells Fargo Rate  Freddie Mac Rate  \n",
       "0                    3.5              3.88              3.66  \n",
       "1                    3.5              3.88              3.66  \n",
       "2                    3.5              3.88              3.66  \n",
       "3                    3.5              3.88              3.66  \n",
       "4                    3.5              3.88              3.66  \n",
       "...                  ...               ...               ...  \n",
       "67019                6.4               NaN               NaN  \n",
       "67020                6.4               NaN               NaN  \n",
       "67021                6.4               NaN               NaN  \n",
       "67022                6.4               NaN               NaN  \n",
       "67023                6.4               NaN               NaN  \n",
       "\n",
       "[67024 rows x 15 columns]"
      ]
     },
     "execution_count": 3,
     "metadata": {},
     "output_type": "execute_result"
    }
   ],
   "source": [
    "master_csv = pd.read_csv(\"pw_master_data_cleaned.csv\")\n",
    "master_csv"
   ]
  },
  {
   "cell_type": "code",
   "execution_count": 4,
   "metadata": {},
   "outputs": [],
   "source": [
    "isam_df = master_csv.loc[master_csv['Indicator ID']=='ISAM']\n",
    "isam_df = isam_df.drop_duplicates(subset=['Indicator ID', 'Value', 'Region Name'])"
   ]
  },
  {
   "cell_type": "code",
   "execution_count": 5,
   "metadata": {},
   "outputs": [
    {
     "name": "stdout",
     "output_type": "stream",
     "text": [
      "The correlation coefficient is 0.0\n",
      "The line equation is as follows:  y = 7.92x + 5290.51\n"
     ]
    },
    {
     "data": {
      "image/png": "[encoded data removed]",
      "text/plain": [
       "<Figure size 432x288 with 1 Axes>"
      ]
     },
     "metadata": {
      "needs_background": "light"
     },
     "output_type": "display_data"
    }
   ],
   "source": [
    "#combined graph for presentation -- Unemployment Rate\n",
    "x_values = isam_df['Unemployment Rate']\n",
    "y_values = isam_df['Value']\n",
    "\n",
    "plt.xlabel('Unemployment Rate')\n",
    "plt.ylabel('For-Sale Inventory')\n",
    "plt.title(\"For-Sale Inventory vs. Unemployment Rate (2016-2020)\")\n",
    "\n",
    "#plt.xticks(rotation = 'vertical')\n",
    "#plt.rcParams[\"figure.figsize\"] = (15,8)\n",
    "\n",
    "plt.scatter(x_values, y_values, color=\"blue\")\n",
    "\n",
    "#invoke stats.linregress\n",
    "(slope, intercept, rvalue, pvalue, stderr) = stats.linregress(x_values, y_values)\n",
    "regress_values = x_values * slope + intercept\n",
    "\n",
    "#annotate\n",
    "line_eq = \"y = \" + str(round(slope,2)) + \"x + \" + str(round(intercept,2))\n",
    "plt.plot(x_values,regress_values,\"r-\")\n",
    "plt.annotate(line_eq,(2, 10),fontsize=15,color=\"red\",)\n",
    "plt.savefig(\"master_csv_isam_unemployment.png\")\n",
    "print(f\"The correlation coefficient is {round(stats.pearsonr(x_values,y_values)[0],2)}\")\n",
    "print(f\"The line equation is as follows:  {line_eq}\")"
   ]
  },
  {
   "cell_type": "code",
   "execution_count": 6,
   "metadata": {},
   "outputs": [
    {
     "name": "stdout",
     "output_type": "stream",
     "text": [
      "The correlation coefficient is 0.6\n",
      "The line equation is as follows:  y = 0.01x + -2681.51\n"
     ]
    },
    {
     "data": {
      "image/png": "[encoded data removed]",
      "text/plain": [
       "<Figure size 432x288 with 1 Axes>"
      ]
     },
     "metadata": {
      "needs_background": "light"
     },
     "output_type": "display_data"
    }
   ],
   "source": [
    "#combined graph for presentation -- Unemployment Rate\n",
    "x_values = isam_df['County Population']\n",
    "y_values = isam_df['Value']\n",
    "\n",
    "plt.xlabel('Population')\n",
    "plt.ylabel('For-Sale Inventory')\n",
    "plt.title(\"For-Sale Inventory vs. City Population (2016-2020)\")\n",
    "\n",
    "#plt.xticks(rotation = 'vertical')\n",
    "#plt.rcParams[\"figure.figsize\"] = (15,8)\n",
    "\n",
    "plt.scatter(x_values, y_values, color=\"blue\")\n",
    "\n",
    "#invoke stats.linregress\n",
    "(slope, intercept, rvalue, pvalue, stderr) = stats.linregress(x_values, y_values)\n",
    "regress_values = x_values * slope + intercept\n",
    "\n",
    "#annotate\n",
    "line_eq = \"y = \" + str(round(slope,2)) + \"x + \" + str(round(intercept,2))\n",
    "plt.plot(x_values,regress_values,\"r-\")\n",
    "plt.annotate(line_eq,(2, 10),fontsize=15,color=\"red\",)\n",
    "plt.savefig(\"master_csv_isam_population.png\")\n",
    "print(f\"The correlation coefficient is {round(stats.pearsonr(x_values,y_values)[0],2)}\")\n",
    "print(f\"The line equation is as follows:  {line_eq}\")"
   ]
  },
  {
   "cell_type": "code",
   "execution_count": 7,
   "metadata": {},
   "outputs": [
    {
     "name": "stdout",
     "output_type": "stream",
     "text": [
      "The correlation coefficient is -0.04\n",
      "The line equation is as follows:  y = -299.46x + 6501.29\n"
     ]
    },
    {
     "data": {
      "image/png": "[encoded data removed]",
      "text/plain": [
       "<Figure size 432x288 with 1 Axes>"
      ]
     },
     "metadata": {
      "needs_background": "light"
     },
     "output_type": "display_data"
    }
   ],
   "source": [
    "#combined graph for presentation -- Unemployment Rate\n",
    "fmac_df = isam_df.dropna(axis=0, how='any')\n",
    "x_values = fmac_df['Freddie Mac Rate']\n",
    "y_values = fmac_df['Value']\n",
    "\n",
    "plt.xlabel('Mortgage Rate')\n",
    "plt.ylabel('For-Sale Inventory')\n",
    "plt.title(\"For-Sale Inventory vs. Freddie Mac Rate (2016-2020)\")\n",
    "\n",
    "#plt.xticks(rotation = 'vertical')\n",
    "#plt.rcParams[\"figure.figsize\"] = (15,8)\n",
    "\n",
    "plt.scatter(x_values, y_values, color=\"blue\")\n",
    "\n",
    "#invoke stats.linregress\n",
    "(slope, intercept, rvalue, pvalue, stderr) = stats.linregress(x_values, y_values)\n",
    "regress_values = x_values * slope + intercept\n",
    "\n",
    "#annotate\n",
    "line_eq = \"y = \" + str(round(slope,2)) + \"x + \" + str(round(intercept,2))\n",
    "plt.plot(x_values,regress_values,\"r-\")\n",
    "plt.annotate(line_eq,(2, 10),fontsize=15,color=\"red\",)\n",
    "plt.savefig(\"master_csv_isam_freddiemac.png\")\n",
    "print(f\"The correlation coefficient is {round(stats.pearsonr(x_values,y_values)[0],2)}\")\n",
    "print(f\"The line equation is as follows:  {line_eq}\")"
   ]
  },
  {
   "cell_type": "code",
   "execution_count": 8,
   "metadata": {},
   "outputs": [],
   "source": [
    "#sort master into 4 based on region name\n",
    "denver_df = isam_df.loc[isam_df['Region Name']=='Denver, CO']\n",
    "greeley_df = master_csv.loc[master_csv['Region Name']=='Greeley, CO']\n",
    "csprings_df = master_csv.loc[master_csv['Region Name']=='Colorado Springs, CO']\n",
    "breck_df = master_csv.loc[master_csv['Region Name']=='Breckenridge, CO; CO']"
   ]
  },
  {
   "cell_type": "code",
   "execution_count": null,
   "metadata": {},
   "outputs": [],
   "source": [
    "#ISAM & IRSW for Denver\n",
    "denver_isam = denver_df.loc[denver_df['Indicator ID']=='ISAM']\n",
    "denver_isam"
   ]
  },
  {
   "cell_type": "code",
   "execution_count": null,
   "metadata": {},
   "outputs": [],
   "source": [
    "#ISAM for Colorado Springs\n",
    "csprings_isam = csprings_df.loc[csprings_df['Indicator ID']=='ISAM']\n",
    "csprings_isam_grouped = csprings_isam.groupby(\"Year-Month\").first()\n",
    "csprings_isam_grouped\n"
   ]
  },
  {
   "cell_type": "code",
   "execution_count": null,
   "metadata": {},
   "outputs": [],
   "source": [
    "#ISAM & ISRW for Greeley\n",
    "greeley_isam = greeley_df.loc[greeley_df['Indicator ID']=='ISAM']\n",
    "greeley_isam_grouped = greeley_isam.groupby(\"Year-Month\").first()\n",
    "greeley_isam_grouped"
   ]
  },
  {
   "cell_type": "code",
   "execution_count": null,
   "metadata": {},
   "outputs": [],
   "source": [
    "clean_greeley_df = greeley_isam.drop_duplicates(subset=['Indicator ID', 'Value', 'Region Name'])\n",
    "x_values = clean_greeley_df['Unemployment Rate']\n",
    "y_values = clean_greeley_df['Value']\n",
    "\n",
    "plt.xlabel('Unemployment Rate')\n",
    "plt.ylabel('For-Sale Inventory')\n",
    "plt.title(\"For-Sale Inventory vs. Unemployment Rate (Greeley 2016-2020)\")\n",
    "\n",
    "#plt.xticks(rotation = 'vertical')\n",
    "plt.rcParams[\"figure.figsize\"] = (5,5)\n",
    "\n",
    "plt.scatter(x_values, y_values, color=\"blue\")\n",
    "\n",
    "#invoke stats.linregress\n",
    "(slope, intercept, rvalue, pvalue, stderr) = stats.linregress(x_values, y_values)\n",
    "regress_values = x_values * slope + intercept\n",
    "\n",
    "#annotate\n",
    "line_eq = \"y = \" + str(round(slope,2)) + \"x + \" + str(round(intercept,2))\n",
    "plt.plot(x_values,regress_values,\"r-\")\n",
    "plt.annotate(line_eq,(2, 10),fontsize=15,color=\"red\",)\n",
    "plt.savefig(\"greeley_isam_unemployment.png\")\n",
    "print(f\"The correlation coefficient is {round(stats.pearsonr(x_values,y_values)[0],2)}\")\n",
    "print(f\"The line equation is as follows:  {line_eq}\")"
   ]
  },
  {
   "cell_type": "code",
   "execution_count": null,
   "metadata": {},
   "outputs": [],
   "source": [
    "plt.scatter(greeley_isam['Year-Month'], greeley_isam['Value'])\n",
    "#plt.figure(figsize=(20,20))\n",
    "plt.xticks(rotation = 'vertical')\n",
    "plt.rcParams[\"figure.figsize\"] = (15,8)\n",
    "plt.xlabel('Year-Month')\n",
    "plt.ylabel('Number of Listings in Greeley')\n",
    "plt.title(\"Number of listings in Greeley 2016-2020\")"
   ]
  },
  {
   "cell_type": "code",
   "execution_count": null,
   "metadata": {},
   "outputs": [],
   "source": [
    "clean_denver_df = denver_isam.drop_duplicates(subset=['Indicator ID', 'Value', 'Region Name'])\n",
    "x_values = clean_denver_df['Unemployment Rate']\n",
    "y_values = clean_denver_df['Value']\n",
    "\n",
    "plt.xlabel('Unemployment Rate')\n",
    "plt.ylabel('For-Sale Inventory')\n",
    "plt.title(\"For-Sale Inventory vs. Unemployment Rate (Denver 2016-2020)\")\n",
    "\n",
    "#plt.xticks(rotation = 'vertical')\n",
    "#plt.rcParams[\"figure.figsize\"] = (15,8)\n",
    "\n",
    "plt.scatter(x_values, y_values, color=\"blue\")\n",
    "\n",
    "#invoke stats.linregress\n",
    "(slope, intercept, rvalue, pvalue, stderr) = stats.linregress(x_values, y_values)\n",
    "regress_values = x_values * slope + intercept\n",
    "\n",
    "#annotate\n",
    "line_eq = \"y = \" + str(round(slope,2)) + \"x + \" + str(round(intercept,2))\n",
    "plt.plot(x_values,regress_values,\"r-\")\n",
    "plt.annotate(line_eq,(2, 10),fontsize=15,color=\"red\",)\n",
    "plt.savefig(\"denver_isam_unemployment.png\")\n",
    "print(f\"The correlation coefficient is {round(stats.pearsonr(x_values,y_values)[0],2)}\")\n",
    "print(f\"The line equation is as follows:  {line_eq}\")"
   ]
  },
  {
   "cell_type": "code",
   "execution_count": 22,
   "metadata": {},
   "outputs": [
    {
     "data": {
      "text/plain": [
       "Text(0.5, 1.0, 'For-Sale Inventory & Unemployment Rate (Denver 2016-2020)')"
      ]
     },
     "execution_count": 22,
     "metadata": {},
     "output_type": "execute_result"
    },
    {
     "data": {
      "image/png": "[encoded data removed]",
      "text/plain": [
       "<Figure size 1080x576 with 1 Axes>"
      ]
     },
     "metadata": {
      "needs_background": "light"
     },
     "output_type": "display_data"
    }
   ],
   "source": [
    "# Assign plots to tuples that stores result of plot\n",
    "x_axis = denver_df['Year-Month']\n",
    "inventory = denver_df['Value']\n",
    "unemployment = denver_df['Unemployment Rate']*1000\n",
    "# Each point on the sine chart is marked by a blue circle\n",
    "sine_handle, = plt.plot(x_axis, inventory, marker ='o', color='blue', label=\"Sine\")\n",
    "# Each apoint on the cosine chart is marked by a red triangle\n",
    "cosine_handle, = plt.plot(x_axis, unemployment, marker='^', color='red', label=\"Cosine\")\n",
    "\n",
    "plt.rcParams[\"figure.figsize\"] = (15,8)\n",
    "plt.xticks(rotation = 'vertical')\n",
    "plt.xlabel('Time')\n",
    "plt.ylabel('')\n",
    "plt.title(\"For-Sale Inventory & Unemployment Rate (Denver 2016-2020)\")"
   ]
  },
  {
   "cell_type": "code",
   "execution_count": null,
   "metadata": {},
   "outputs": [],
   "source": [
    "indicators_url = \"https://www.quandl.com/api/v3/datatables/ZILLOW/INDICATORS.json?&api_key=\"\n",
    "query_url = indicators_url + quandl_key\n",
    "response = requests.get(query_url).json()\n",
    "#pprint(json.dumps(response, indent=4, sort_keys=True))"
   ]
  },
  {
   "cell_type": "code",
   "execution_count": null,
   "metadata": {},
   "outputs": [],
   "source": [
    "regions_url = \"https://www.quandl.com/api/v3/datatables/ZILLOW/regions.json?region_type=city&api_key=\"\n",
    "rquery_url = regions_url + quandl_key\n",
    "r_response = requests.get(rquery_url).json()\n",
    "#print(json.dumps(r_response, indent=4, sort_keys=True))\n",
    "region_ids = pd.read_csv('data/zillow_region_ids.csv')\n",
    "#region_ids\n",
    "#region_ids[region_ids['Neighborhood'].str.contains('Denver')]\n",
    "region_ids[region_ids['State_abrv'].str.contains('CO')]\n"
   ]
  },
  {
   "cell_type": "code",
   "execution_count": null,
   "metadata": {},
   "outputs": [],
   "source": [
    "co_region_ids = [11093, 16846, 5519, 20793, 34781, 10181, 44515, 38992, 33334, 10574, 23984, 17545, 19055, 17163, 4592,\n",
    "                 26213, 119842, 50547, 45470, 24634, 119404,\n",
    "                 12834, 24367, 120381, 7811, 38807, 46297, 17755, 52003, 4548, 119221, 13759, 119157, 55662, 4197,\n",
    "                 16865, 120317, 37852, 36384, 7507, 44909, 119469, 8471, 39098, 52230, 38324, 120500, 13288, 16394,\n",
    "                 49882, 120020, 395432, 21854, 17754, 119632, 22800, 119114, 56787, 24366, 24665, 4960, 52196, 120107,\n",
    "                 8179, 119390, 36867, 16729, 46104, 46323, 24170, 120333, 11824, 50963, 24590, 11751, 31633, 12042,\n",
    "                 120074, 13856, 45936, 55580, 39666, 54425, 396043, 42203, 23185, 30476, 6510, 396035, 16589, 50328]"
   ]
  },
  {
   "cell_type": "code",
   "execution_count": null,
   "metadata": {},
   "outputs": [],
   "source": [
    "#data = quandl.get_table('ZACKS/FC', paginate=True, ticker=['AAPL', 'MSFT'],\n",
    "#per_end_date={'gte': '2015-01-01'}, qopts={'columns':['ticker', 'per_end_date']})\n",
    "isaw_data = quandl.get_table(\"ZILLOW/DATA\", api_key=quandl_key,\n",
    "                             indicator_id='ISAW', paginate=True)#, region_id = co_region_ids)\n",
    "isaw_data\n",
    "\n",
    "\n",
    "\n",
    "#np.where(data['region_id']==4592)\n",
    "#per_end_date={'gte': '2016-04-26'}"
   ]
  },
  {
   "cell_type": "code",
   "execution_count": null,
   "metadata": {},
   "outputs": [],
   "source": [
    "data3.loc[data3['region_id']=='753924']"
   ]
  },
  {
   "cell_type": "code",
   "execution_count": null,
   "metadata": {},
   "outputs": [],
   "source": [
    "data3"
   ]
  },
  {
   "cell_type": "code",
   "execution_count": null,
   "metadata": {},
   "outputs": [],
   "source": [
    "z1br= quandl.get_table('Zillow/Data', api_key=quandl_key, indicator_id = 'Z1BR', paginate=True, region_id = co_region_ids)\n",
    "z1br"
   ]
  },
  {
   "cell_type": "code",
   "execution_count": null,
   "metadata": {},
   "outputs": [],
   "source": [
    "isaw = quandl.get_table('Zillow/Data', api_key=quandl_key, indicator_id = 'ISAW', paginate=True, region_id = co_metro_ids)\n",
    "#isaw\n",
    "isaw[\"date\"]= pd.to_datetime(isaw[\"date\"])\n",
    "isaw_dated =isaw.loc[isaw[\"date\"] > \"2016-04-01\"]\n",
    "#isaw\n",
    "isaw_dated"
   ]
  },
  {
   "cell_type": "code",
   "execution_count": null,
   "metadata": {},
   "outputs": [],
   "source": [
    "#quandl.bulkdownload(\"ZILLOW/DATA\", quandl_key)\n",
    "#zillow_data = quandl.export_table('ZILLOW/DATA', api_key=quandl_key)"
   ]
  },
  {
   "cell_type": "code",
   "execution_count": null,
   "metadata": {
    "scrolled": true
   },
   "outputs": [],
   "source": [
    "data2 = quandl.get_table(\"ZILLOW/INDICATORS\", api_key=\"YOUR KEY HERE\")\n",
    "data2"
   ]
  },
  {
   "cell_type": "code",
   "execution_count": null,
   "metadata": {},
   "outputs": [],
   "source": [
    "#REGIONS TABLE\n",
    "data3 = quandl.get_table(\"ZILLOW/REGIONS\", api_key=quandl_key, paginate=True)\n",
    "data3\n",
    "#FOUND CO COUNTIES\n",
    "co_region = data3[data3['region'].str.contains('CO')]\n",
    "co_county = co_region[co_region['region_type']=='county']\n",
    "co_county_ids = co_county['region_id'].tolist()\n",
    "co_metros = co_region[co_region['region_type']=='metro']\n",
    "co_metro_ids = co_metros['region_id'].tolist()\n",
    "print(co_metro_ids)\n",
    "#print(co_county_ids)"
   ]
  },
  {
   "cell_type": "code",
   "execution_count": null,
   "metadata": {},
   "outputs": [],
   "source": []
  }
 ],
 "metadata": {
  "kernelspec": {
   "display_name": "Python [conda env:PythonData] *",
   "language": "python",
   "name": "conda-env-PythonData-py"
  },
  "language_info": {
   "codemirror_mode": {
    "name": "ipython",
    "version": 3
   },
   "file_extension": ".py",
   "mimetype": "text/x-python",
   "name": "python",
   "nbconvert_exporter": "python",
   "pygments_lexer": "ipython3",
   "version": "3.7.1"
  }
 },
 "nbformat": 4,
 "nbformat_minor": 4
}
