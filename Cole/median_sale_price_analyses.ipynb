{
 "cells": [
  {
   "cell_type": "code",
   "execution_count": 1,
   "metadata": {},
   "outputs": [],
   "source": [
    "import json\n",
    "import time\n",
    "import pandas as pd\n",
    "import requests\n",
    "import matplotlib.pyplot as plt\n",
    "import scipy.stats as st\n",
    "from scipy.stats import linregress\n",
    "from pprint import pprint\n",
    "import quandl\n",
    "from config import api_key\n",
    "import csv\n",
    "import os"
   ]
  },
  {
   "cell_type": "markdown",
   "metadata": {},
   "source": [
    "# Master Data - CSV"
   ]
  },
  {
   "cell_type": "code",
   "execution_count": 9,
   "metadata": {
    "scrolled": false
   },
   "outputs": [
    {
     "data": {
      "text/html": [
       "<div>\n",
       "<style scoped>\n",
       "    .dataframe tbody tr th:only-of-type {\n",
       "        vertical-align: middle;\n",
       "    }\n",
       "\n",
       "    .dataframe tbody tr th {\n",
       "        vertical-align: top;\n",
       "    }\n",
       "\n",
       "    .dataframe thead th {\n",
       "        text-align: right;\n",
       "    }\n",
       "</style>\n",
       "<table border=\"1\" class=\"dataframe\">\n",
       "  <thead>\n",
       "    <tr style=\"text-align: right;\">\n",
       "      <th></th>\n",
       "      <th>Year</th>\n",
       "      <th>Month</th>\n",
       "      <th>Year-Month</th>\n",
       "      <th>Date Zillow</th>\n",
       "      <th>Date Interest</th>\n",
       "      <th>Indicator ID</th>\n",
       "      <th>Indicator Name</th>\n",
       "      <th>Region ID</th>\n",
       "      <th>Region Type</th>\n",
       "      <th>Region Name</th>\n",
       "      <th>Value</th>\n",
       "      <th>County Population</th>\n",
       "      <th>Unemployment Rate</th>\n",
       "      <th>Wells Fargo Rate</th>\n",
       "      <th>Freddie Mac Rate</th>\n",
       "    </tr>\n",
       "  </thead>\n",
       "  <tbody>\n",
       "    <tr>\n",
       "      <th>0</th>\n",
       "      <td>2016</td>\n",
       "      <td>Apr</td>\n",
       "      <td>2016-4</td>\n",
       "      <td>4/30/2016</td>\n",
       "      <td>4/28/2016</td>\n",
       "      <td>Z2BR</td>\n",
       "      <td>ZHVI 2-Bedroom Time Series ($)</td>\n",
       "      <td>753871</td>\n",
       "      <td>metro</td>\n",
       "      <td>Breckenridge, CO; CO</td>\n",
       "      <td>384884.0</td>\n",
       "      <td>30566.0</td>\n",
       "      <td>3.5</td>\n",
       "      <td>3.88</td>\n",
       "      <td>3.66</td>\n",
       "    </tr>\n",
       "    <tr>\n",
       "      <th>1</th>\n",
       "      <td>2016</td>\n",
       "      <td>Apr</td>\n",
       "      <td>2016-4</td>\n",
       "      <td>4/30/2016</td>\n",
       "      <td>4/28/2016</td>\n",
       "      <td>Z4BR</td>\n",
       "      <td>ZHVI 4-Bedroom Time Series ($)</td>\n",
       "      <td>753871</td>\n",
       "      <td>metro</td>\n",
       "      <td>Breckenridge, CO; CO</td>\n",
       "      <td>881951.0</td>\n",
       "      <td>30566.0</td>\n",
       "      <td>3.5</td>\n",
       "      <td>3.88</td>\n",
       "      <td>3.66</td>\n",
       "    </tr>\n",
       "    <tr>\n",
       "      <th>2</th>\n",
       "      <td>2016</td>\n",
       "      <td>Apr</td>\n",
       "      <td>2016-4</td>\n",
       "      <td>4/30/2016</td>\n",
       "      <td>4/28/2016</td>\n",
       "      <td>Z5BR</td>\n",
       "      <td>ZHVI 5+ Bedroom Time Series ($)</td>\n",
       "      <td>753871</td>\n",
       "      <td>metro</td>\n",
       "      <td>Breckenridge, CO; CO</td>\n",
       "      <td>1287769.0</td>\n",
       "      <td>30566.0</td>\n",
       "      <td>3.5</td>\n",
       "      <td>3.88</td>\n",
       "      <td>3.66</td>\n",
       "    </tr>\n",
       "    <tr>\n",
       "      <th>3</th>\n",
       "      <td>2016</td>\n",
       "      <td>Apr</td>\n",
       "      <td>2016-4</td>\n",
       "      <td>4/30/2016</td>\n",
       "      <td>4/28/2016</td>\n",
       "      <td>ZATT</td>\n",
       "      <td>ZHVI All Homes- Top Tier Time Series ($)</td>\n",
       "      <td>753871</td>\n",
       "      <td>metro</td>\n",
       "      <td>Breckenridge, CO; CO</td>\n",
       "      <td>842653.0</td>\n",
       "      <td>30566.0</td>\n",
       "      <td>3.5</td>\n",
       "      <td>3.88</td>\n",
       "      <td>3.66</td>\n",
       "    </tr>\n",
       "    <tr>\n",
       "      <th>4</th>\n",
       "      <td>2016</td>\n",
       "      <td>Apr</td>\n",
       "      <td>2016-4</td>\n",
       "      <td>4/30/2016</td>\n",
       "      <td>4/28/2016</td>\n",
       "      <td>Z1BR</td>\n",
       "      <td>ZHVI 1-Bedroom Time Series ($)</td>\n",
       "      <td>753871</td>\n",
       "      <td>metro</td>\n",
       "      <td>Breckenridge, CO; CO</td>\n",
       "      <td>243688.0</td>\n",
       "      <td>30566.0</td>\n",
       "      <td>3.5</td>\n",
       "      <td>3.88</td>\n",
       "      <td>3.66</td>\n",
       "    </tr>\n",
       "  </tbody>\n",
       "</table>\n",
       "</div>"
      ],
      "text/plain": [
       "   Year Month Year-Month Date Zillow Date Interest Indicator ID  \\\n",
       "0  2016   Apr     2016-4   4/30/2016     4/28/2016         Z2BR   \n",
       "1  2016   Apr     2016-4   4/30/2016     4/28/2016         Z4BR   \n",
       "2  2016   Apr     2016-4   4/30/2016     4/28/2016         Z5BR   \n",
       "3  2016   Apr     2016-4   4/30/2016     4/28/2016         ZATT   \n",
       "4  2016   Apr     2016-4   4/30/2016     4/28/2016         Z1BR   \n",
       "\n",
       "                             Indicator Name  Region ID Region Type  \\\n",
       "0            ZHVI 2-Bedroom Time Series ($)     753871       metro   \n",
       "1            ZHVI 4-Bedroom Time Series ($)     753871       metro   \n",
       "2           ZHVI 5+ Bedroom Time Series ($)     753871       metro   \n",
       "3  ZHVI All Homes- Top Tier Time Series ($)     753871       metro   \n",
       "4            ZHVI 1-Bedroom Time Series ($)     753871       metro   \n",
       "\n",
       "            Region Name      Value  County Population  Unemployment Rate  \\\n",
       "0  Breckenridge, CO; CO   384884.0            30566.0                3.5   \n",
       "1  Breckenridge, CO; CO   881951.0            30566.0                3.5   \n",
       "2  Breckenridge, CO; CO  1287769.0            30566.0                3.5   \n",
       "3  Breckenridge, CO; CO   842653.0            30566.0                3.5   \n",
       "4  Breckenridge, CO; CO   243688.0            30566.0                3.5   \n",
       "\n",
       "   Wells Fargo Rate  Freddie Mac Rate  \n",
       "0              3.88              3.66  \n",
       "1              3.88              3.66  \n",
       "2              3.88              3.66  \n",
       "3              3.88              3.66  \n",
       "4              3.88              3.66  "
      ]
     },
     "execution_count": 9,
     "metadata": {},
     "output_type": "execute_result"
    }
   ],
   "source": [
    "master_data_path = os.path.join(\"..\", \"..\", \"data\", \"project_one_data\", \"master_data_cleaned.csv\")\n",
    "master_data_df = pd.read_csv(master_data_path)\n",
    "master_data_df.head()"
   ]
  },
  {
   "cell_type": "code",
   "execution_count": 10,
   "metadata": {},
   "outputs": [],
   "source": [
    "# Convert Year-Month to Datetime(ns) -- Shared by Binet Alagic\n",
    "master_data_df[\"Year-Month\"] = master_data_df[\"Year-Month\"].apply(pd.to_datetime)\n",
    "master_data_df[\"Year-Month\"] = pd.to_datetime(master_data_df[\"Year-Month\"], format=\"%Y%B\")"
   ]
  },
  {
   "cell_type": "code",
   "execution_count": 11,
   "metadata": {},
   "outputs": [],
   "source": [
    "master_data_cleaned = master_data_df.drop(columns={\"Date Zillow\", \"Date Interest\"})"
   ]
  },
  {
   "cell_type": "code",
   "execution_count": 14,
   "metadata": {},
   "outputs": [],
   "source": [
    "master_data_cleaned = master_data_cleaned.dropna(how=\"any\")"
   ]
  },
  {
   "cell_type": "code",
   "execution_count": 15,
   "metadata": {},
   "outputs": [
    {
     "data": {
      "text/html": [
       "<div>\n",
       "<style scoped>\n",
       "    .dataframe tbody tr th:only-of-type {\n",
       "        vertical-align: middle;\n",
       "    }\n",
       "\n",
       "    .dataframe tbody tr th {\n",
       "        vertical-align: top;\n",
       "    }\n",
       "\n",
       "    .dataframe thead th {\n",
       "        text-align: right;\n",
       "    }\n",
       "</style>\n",
       "<table border=\"1\" class=\"dataframe\">\n",
       "  <thead>\n",
       "    <tr style=\"text-align: right;\">\n",
       "      <th></th>\n",
       "      <th>Year</th>\n",
       "      <th>Month</th>\n",
       "      <th>Year-Month</th>\n",
       "      <th>Indicator ID</th>\n",
       "      <th>Indicator Name</th>\n",
       "      <th>Region ID</th>\n",
       "      <th>Region Type</th>\n",
       "      <th>Region Name</th>\n",
       "      <th>Value</th>\n",
       "      <th>County Population</th>\n",
       "      <th>Unemployment Rate</th>\n",
       "      <th>Wells Fargo Rate</th>\n",
       "      <th>Freddie Mac Rate</th>\n",
       "    </tr>\n",
       "  </thead>\n",
       "  <tbody>\n",
       "    <tr>\n",
       "      <th>0</th>\n",
       "      <td>2016</td>\n",
       "      <td>Apr</td>\n",
       "      <td>2016-04-01</td>\n",
       "      <td>Z2BR</td>\n",
       "      <td>ZHVI 2-Bedroom Time Series ($)</td>\n",
       "      <td>753871</td>\n",
       "      <td>metro</td>\n",
       "      <td>Breckenridge, CO; CO</td>\n",
       "      <td>384884.00</td>\n",
       "      <td>30566.0</td>\n",
       "      <td>3.5</td>\n",
       "      <td>3.88</td>\n",
       "      <td>3.66</td>\n",
       "    </tr>\n",
       "    <tr>\n",
       "      <th>1</th>\n",
       "      <td>2016</td>\n",
       "      <td>Apr</td>\n",
       "      <td>2016-04-01</td>\n",
       "      <td>Z4BR</td>\n",
       "      <td>ZHVI 4-Bedroom Time Series ($)</td>\n",
       "      <td>753871</td>\n",
       "      <td>metro</td>\n",
       "      <td>Breckenridge, CO; CO</td>\n",
       "      <td>881951.00</td>\n",
       "      <td>30566.0</td>\n",
       "      <td>3.5</td>\n",
       "      <td>3.88</td>\n",
       "      <td>3.66</td>\n",
       "    </tr>\n",
       "    <tr>\n",
       "      <th>2</th>\n",
       "      <td>2016</td>\n",
       "      <td>Apr</td>\n",
       "      <td>2016-04-01</td>\n",
       "      <td>Z5BR</td>\n",
       "      <td>ZHVI 5+ Bedroom Time Series ($)</td>\n",
       "      <td>753871</td>\n",
       "      <td>metro</td>\n",
       "      <td>Breckenridge, CO; CO</td>\n",
       "      <td>1287769.00</td>\n",
       "      <td>30566.0</td>\n",
       "      <td>3.5</td>\n",
       "      <td>3.88</td>\n",
       "      <td>3.66</td>\n",
       "    </tr>\n",
       "    <tr>\n",
       "      <th>3</th>\n",
       "      <td>2016</td>\n",
       "      <td>Apr</td>\n",
       "      <td>2016-04-01</td>\n",
       "      <td>ZATT</td>\n",
       "      <td>ZHVI All Homes- Top Tier Time Series ($)</td>\n",
       "      <td>753871</td>\n",
       "      <td>metro</td>\n",
       "      <td>Breckenridge, CO; CO</td>\n",
       "      <td>842653.00</td>\n",
       "      <td>30566.0</td>\n",
       "      <td>3.5</td>\n",
       "      <td>3.88</td>\n",
       "      <td>3.66</td>\n",
       "    </tr>\n",
       "    <tr>\n",
       "      <th>4</th>\n",
       "      <td>2016</td>\n",
       "      <td>Apr</td>\n",
       "      <td>2016-04-01</td>\n",
       "      <td>Z1BR</td>\n",
       "      <td>ZHVI 1-Bedroom Time Series ($)</td>\n",
       "      <td>753871</td>\n",
       "      <td>metro</td>\n",
       "      <td>Breckenridge, CO; CO</td>\n",
       "      <td>243688.00</td>\n",
       "      <td>30566.0</td>\n",
       "      <td>3.5</td>\n",
       "      <td>3.88</td>\n",
       "      <td>3.66</td>\n",
       "    </tr>\n",
       "    <tr>\n",
       "      <th>...</th>\n",
       "      <td>...</td>\n",
       "      <td>...</td>\n",
       "      <td>...</td>\n",
       "      <td>...</td>\n",
       "      <td>...</td>\n",
       "      <td>...</td>\n",
       "      <td>...</td>\n",
       "      <td>...</td>\n",
       "      <td>...</td>\n",
       "      <td>...</td>\n",
       "      <td>...</td>\n",
       "      <td>...</td>\n",
       "      <td>...</td>\n",
       "    </tr>\n",
       "    <tr>\n",
       "      <th>66959</th>\n",
       "      <td>2020</td>\n",
       "      <td>Aug</td>\n",
       "      <td>2020-08-01</td>\n",
       "      <td>CRSM</td>\n",
       "      <td>Share of Listings With a Price Cut (Raw, SFR O...</td>\n",
       "      <td>394645</td>\n",
       "      <td>metro</td>\n",
       "      <td>Greeley, CO</td>\n",
       "      <td>0.14</td>\n",
       "      <td>332367.0</td>\n",
       "      <td>6.7</td>\n",
       "      <td>2.88</td>\n",
       "      <td>2.91</td>\n",
       "    </tr>\n",
       "    <tr>\n",
       "      <th>66960</th>\n",
       "      <td>2020</td>\n",
       "      <td>Aug</td>\n",
       "      <td>2020-08-01</td>\n",
       "      <td>CRAM</td>\n",
       "      <td>Share of Listings With a Price Cut (Raw, All H...</td>\n",
       "      <td>394645</td>\n",
       "      <td>metro</td>\n",
       "      <td>Greeley, CO</td>\n",
       "      <td>0.14</td>\n",
       "      <td>332367.0</td>\n",
       "      <td>6.7</td>\n",
       "      <td>3.00</td>\n",
       "      <td>2.88</td>\n",
       "    </tr>\n",
       "    <tr>\n",
       "      <th>66961</th>\n",
       "      <td>2020</td>\n",
       "      <td>Aug</td>\n",
       "      <td>2020-08-01</td>\n",
       "      <td>CRAM</td>\n",
       "      <td>Share of Listings With a Price Cut (Raw, All H...</td>\n",
       "      <td>394645</td>\n",
       "      <td>metro</td>\n",
       "      <td>Greeley, CO</td>\n",
       "      <td>0.14</td>\n",
       "      <td>332367.0</td>\n",
       "      <td>6.7</td>\n",
       "      <td>3.00</td>\n",
       "      <td>2.96</td>\n",
       "    </tr>\n",
       "    <tr>\n",
       "      <th>66962</th>\n",
       "      <td>2020</td>\n",
       "      <td>Aug</td>\n",
       "      <td>2020-08-01</td>\n",
       "      <td>CRAM</td>\n",
       "      <td>Share of Listings With a Price Cut (Raw, All H...</td>\n",
       "      <td>394645</td>\n",
       "      <td>metro</td>\n",
       "      <td>Greeley, CO</td>\n",
       "      <td>0.14</td>\n",
       "      <td>332367.0</td>\n",
       "      <td>6.7</td>\n",
       "      <td>2.88</td>\n",
       "      <td>2.99</td>\n",
       "    </tr>\n",
       "    <tr>\n",
       "      <th>66963</th>\n",
       "      <td>2020</td>\n",
       "      <td>Aug</td>\n",
       "      <td>2020-08-01</td>\n",
       "      <td>CRAM</td>\n",
       "      <td>Share of Listings With a Price Cut (Raw, All H...</td>\n",
       "      <td>394645</td>\n",
       "      <td>metro</td>\n",
       "      <td>Greeley, CO</td>\n",
       "      <td>0.14</td>\n",
       "      <td>332367.0</td>\n",
       "      <td>6.7</td>\n",
       "      <td>2.88</td>\n",
       "      <td>2.91</td>\n",
       "    </tr>\n",
       "  </tbody>\n",
       "</table>\n",
       "<p>66834 rows × 13 columns</p>\n",
       "</div>"
      ],
      "text/plain": [
       "       Year Month Year-Month Indicator ID  \\\n",
       "0      2016   Apr 2016-04-01         Z2BR   \n",
       "1      2016   Apr 2016-04-01         Z4BR   \n",
       "2      2016   Apr 2016-04-01         Z5BR   \n",
       "3      2016   Apr 2016-04-01         ZATT   \n",
       "4      2016   Apr 2016-04-01         Z1BR   \n",
       "...     ...   ...        ...          ...   \n",
       "66959  2020   Aug 2020-08-01         CRSM   \n",
       "66960  2020   Aug 2020-08-01         CRAM   \n",
       "66961  2020   Aug 2020-08-01         CRAM   \n",
       "66962  2020   Aug 2020-08-01         CRAM   \n",
       "66963  2020   Aug 2020-08-01         CRAM   \n",
       "\n",
       "                                          Indicator Name  Region ID  \\\n",
       "0                         ZHVI 2-Bedroom Time Series ($)     753871   \n",
       "1                         ZHVI 4-Bedroom Time Series ($)     753871   \n",
       "2                        ZHVI 5+ Bedroom Time Series ($)     753871   \n",
       "3               ZHVI All Homes- Top Tier Time Series ($)     753871   \n",
       "4                         ZHVI 1-Bedroom Time Series ($)     753871   \n",
       "...                                                  ...        ...   \n",
       "66959  Share of Listings With a Price Cut (Raw, SFR O...     394645   \n",
       "66960  Share of Listings With a Price Cut (Raw, All H...     394645   \n",
       "66961  Share of Listings With a Price Cut (Raw, All H...     394645   \n",
       "66962  Share of Listings With a Price Cut (Raw, All H...     394645   \n",
       "66963  Share of Listings With a Price Cut (Raw, All H...     394645   \n",
       "\n",
       "      Region Type           Region Name       Value  County Population  \\\n",
       "0           metro  Breckenridge, CO; CO   384884.00            30566.0   \n",
       "1           metro  Breckenridge, CO; CO   881951.00            30566.0   \n",
       "2           metro  Breckenridge, CO; CO  1287769.00            30566.0   \n",
       "3           metro  Breckenridge, CO; CO   842653.00            30566.0   \n",
       "4           metro  Breckenridge, CO; CO   243688.00            30566.0   \n",
       "...           ...                   ...         ...                ...   \n",
       "66959       metro           Greeley, CO        0.14           332367.0   \n",
       "66960       metro           Greeley, CO        0.14           332367.0   \n",
       "66961       metro           Greeley, CO        0.14           332367.0   \n",
       "66962       metro           Greeley, CO        0.14           332367.0   \n",
       "66963       metro           Greeley, CO        0.14           332367.0   \n",
       "\n",
       "       Unemployment Rate  Wells Fargo Rate  Freddie Mac Rate  \n",
       "0                    3.5              3.88              3.66  \n",
       "1                    3.5              3.88              3.66  \n",
       "2                    3.5              3.88              3.66  \n",
       "3                    3.5              3.88              3.66  \n",
       "4                    3.5              3.88              3.66  \n",
       "...                  ...               ...               ...  \n",
       "66959                6.7              2.88              2.91  \n",
       "66960                6.7              3.00              2.88  \n",
       "66961                6.7              3.00              2.96  \n",
       "66962                6.7              2.88              2.99  \n",
       "66963                6.7              2.88              2.91  \n",
       "\n",
       "[66834 rows x 13 columns]"
      ]
     },
     "execution_count": 15,
     "metadata": {},
     "output_type": "execute_result"
    }
   ],
   "source": [
    "master_data_cleaned"
   ]
  },
  {
   "cell_type": "markdown",
   "metadata": {},
   "source": [
    "# SSAM - Median Prices, All Homes"
   ]
  },
  {
   "cell_type": "code",
   "execution_count": null,
   "metadata": {},
   "outputs": [],
   "source": [
    "# Look at SSAM - All Homes Monthly\n",
    "ssam_df = master_data_df[master_data_df[\"Indicator ID\"] == \"SSAM\"]"
   ]
  },
  {
   "cell_type": "code",
   "execution_count": null,
   "metadata": {},
   "outputs": [],
   "source": [
    "ssam_df.head()"
   ]
  },
  {
   "cell_type": "code",
   "execution_count": null,
   "metadata": {},
   "outputs": [],
   "source": [
    "denver_ssam_value = ssam_df[ssam_df[\"Region Name\"].str.contains(\"Denver\")].groupby(\"Year-Month\").first()\n",
    "denver_ssam_value.head()"
   ]
  },
  {
   "cell_type": "code",
   "execution_count": null,
   "metadata": {},
   "outputs": [],
   "source": []
  },
  {
   "cell_type": "code",
   "execution_count": null,
   "metadata": {},
   "outputs": [],
   "source": []
  },
  {
   "cell_type": "code",
   "execution_count": null,
   "metadata": {},
   "outputs": [],
   "source": []
  },
  {
   "cell_type": "markdown",
   "metadata": {},
   "source": [
    "# SSSM - Median Prices, Single Family Residence\n",
    "\n",
    "This section looks at all single family residence median prices over time from April 2016 to August 2020. "
   ]
  },
  {
   "cell_type": "markdown",
   "metadata": {},
   "source": [
    "## Master SSSM DataFrame"
   ]
  },
  {
   "cell_type": "code",
   "execution_count": null,
   "metadata": {},
   "outputs": [],
   "source": [
    "# Look at SSSM - SFR Only\n",
    "sssm_df = master_data_df[master_data_df[\"Indicator ID\"] == \"SSSM\"]\n",
    "sssm_df.head()"
   ]
  },
  {
   "cell_type": "code",
   "execution_count": null,
   "metadata": {
    "scrolled": false
   },
   "outputs": [],
   "source": [
    "sssm_all = master_data_df[(master_data_df[\"Indicator ID\"] ==\"SSSM\")]\n",
    "sssm_all = sssm_all.sort_values(\"Year-Month\")\n",
    "sssm_all = sssm_all.groupby(\"Year-Month\").first()\n",
    "sssm_all.head()"
   ]
  },
  {
   "cell_type": "code",
   "execution_count": null,
   "metadata": {},
   "outputs": [],
   "source": [
    "all_sssm_unemp_x = sssm_all[\"Unemployment Rate\"]\n",
    "all_sssm_value_y = sssm_all[\"Value\"]\n",
    "\n",
    "correlation = st.pearsonr(all_sssm_unemp_x,all_sssm_value_y)\n",
    "print(f\"The correlation between the unemployment rate and median sale price is: {correlation[0]}.\")\n",
    "print(f\"P-Value is: {correlation[1]}.\")"
   ]
  },
  {
   "cell_type": "code",
   "execution_count": null,
   "metadata": {},
   "outputs": [],
   "source": [
    "plt.scatter(all_sssm_unemp_x, all_sssm_value_y)\n",
    "plt.title(\"CO Spring, Greeley, Denver \\n % Unemployed vs. Median Sale Price ($)\")\n",
    "plt.xlabel(\"Colorado Unemployment %\")\n",
    "plt.ylabel(\"Median Sale Price $\")\n",
    "plt.show()"
   ]
  },
  {
   "cell_type": "code",
   "execution_count": null,
   "metadata": {},
   "outputs": [],
   "source": []
  },
  {
   "cell_type": "code",
   "execution_count": null,
   "metadata": {},
   "outputs": [],
   "source": []
  },
  {
   "cell_type": "code",
   "execution_count": null,
   "metadata": {},
   "outputs": [],
   "source": [
    "sssm_all.boxplot(by=\"Region Name\", column=\"Value\").set_title(\"\")"
   ]
  },
  {
   "cell_type": "code",
   "execution_count": null,
   "metadata": {},
   "outputs": [],
   "source": []
  },
  {
   "cell_type": "code",
   "execution_count": null,
   "metadata": {},
   "outputs": [],
   "source": []
  },
  {
   "cell_type": "markdown",
   "metadata": {},
   "source": [
    "### Fredie Mac & Unemployment Correlation"
   ]
  },
  {
   "cell_type": "code",
   "execution_count": null,
   "metadata": {},
   "outputs": [],
   "source": [
    "all_sssm_unemp_x = sssm_all[\"Unemployment Rate\"]\n",
    "all_sssm_fmr_y = sssm_all[\"Freddie Mac Rate\"]\n",
    "\n",
    "correlation = st.pearsonr(all_sssm_unemp_x,all_sssm_fmr_y)\n",
    "print(f\"The correlation between the unemployment rate and Freddit Mac Rate is: {correlation[0]}.\")\n",
    "print(f\"P-Value is: {correlation[1]}.\")"
   ]
  },
  {
   "cell_type": "markdown",
   "metadata": {},
   "source": [
    "### Wells Fargo & Unemployment Correlation"
   ]
  },
  {
   "cell_type": "code",
   "execution_count": null,
   "metadata": {},
   "outputs": [],
   "source": [
    "all_sssm_unemp_x = sssm_all[\"Unemployment Rate\"]\n",
    "all_sssm_wf_y = sssm_all[\"Wells Fargo Rate\"]\n",
    "\n",
    "correlation = st.pearsonr(all_sssm_unemp_x,all_sssm_wf_y)\n",
    "print(f\"The correlation between the unemployment rate and median sale price is: {correlation[0]}.\")\n",
    "print(f\"P-Value is: {correlation[1]}.\")"
   ]
  },
  {
   "cell_type": "code",
   "execution_count": null,
   "metadata": {},
   "outputs": [],
   "source": [
    "# Formula\n",
    "(slope, intercept, rvalue, pvalue, stderr) = linregress(all_sssm_unemp_x, all_sssm_wf_y)\n",
    "wf_regress_values = all_sssm_unemp_x * slope + intercept\n",
    "\n",
    "# Line Equation\n",
    "wf_line_eq = \"y = \" + str(round(slope,2)) + \"x + \" + str(round(intercept,2))\n",
    "\n",
    "# Plot\n",
    "plt.scatter(greeley_unem_x,greeley_value_y)"
   ]
  },
  {
   "cell_type": "code",
   "execution_count": null,
   "metadata": {
    "scrolled": false
   },
   "outputs": [],
   "source": []
  },
  {
   "cell_type": "code",
   "execution_count": null,
   "metadata": {},
   "outputs": [],
   "source": []
  },
  {
   "cell_type": "markdown",
   "metadata": {},
   "source": [
    "### Correlation: All Unemployed, Median Sale Price"
   ]
  },
  {
   "cell_type": "code",
   "execution_count": null,
   "metadata": {},
   "outputs": [],
   "source": [
    "all_sssm_unemp_x = sssm_df[\"Unemployment Rate\"]\n",
    "all_sssm_value_y = sssm_df[\"Value\"]\n",
    "\n",
    "correlation = st.pearsonr(all_sssm_unemp_x,all_sssm_value_y)\n",
    "print(f\"The correlation between the unemployment rate and median sale price is: {correlation[0]}.\")\n",
    "print(f\"P-Value is: {correlation[1]}.\")"
   ]
  },
  {
   "cell_type": "markdown",
   "metadata": {},
   "source": [
    "### Correlation: Greeley - Unemployed, Median Sale Price"
   ]
  },
  {
   "cell_type": "code",
   "execution_count": null,
   "metadata": {},
   "outputs": [],
   "source": [
    "sssm_df_greely = sssm_df[sssm_df[\"Region Name\"].str.contains(\"Greeley\")]"
   ]
  },
  {
   "cell_type": "code",
   "execution_count": null,
   "metadata": {},
   "outputs": [],
   "source": [
    "greeley_sssm_unemp_x = sssm_df_greely[\"Unemployment Rate\"]\n",
    "greeley_sssm_value_y = sssm_df_greely[\"Value\"]\n",
    "\n",
    "correlation = st.pearsonr(greeley_sssm_unemp_x,greeley_sssm_value_y)\n",
    "print(f\"The correlation between the unemployment rate and median sale price is: {correlation[0]}.\")\n",
    "print(f\"P-Value is: {correlation[1]}.\")"
   ]
  },
  {
   "cell_type": "code",
   "execution_count": null,
   "metadata": {},
   "outputs": [],
   "source": [
    "# Formula\n",
    "(slope, intercept, rvalue, pvalue, stderr) = linregress(greeley_sssm_unemp_x, greeley_sssm_value_y)\n",
    "greeley_regress_values = greeley_sssm_unemp_x * slope + intercept\n",
    "\n",
    "# Line Equation\n",
    "greeley_line_eq = \"y = \" + str(round(slope,2)) + \"x + \" + str(round(intercept,2))\n",
    "\n",
    "# Plot\n",
    "plt.scatter(greeley_sssm_unemp_x,greeley_sssm_value_y)\n",
    "plt.plot(greeley_sssm_unemp_x,greeley_regress_values,\"r-\")\n",
    "\n",
    "# Design Plot\n",
    "plt.annotate(greeley_line_eq,(6, 280000),fontsize=15,color=\"red\")\n",
    "plt.title(\"Greeley, CO \\n Unemploment % vs. Median Sale Price\")\n",
    "plt.xlabel(\"Unemployment %\")\n",
    "plt.ylabel('Median Sale Price')\n",
    "\n",
    "# Show\n",
    "plt.show()"
   ]
  },
  {
   "cell_type": "markdown",
   "metadata": {},
   "source": [
    "### Correlation: Colorado Springs - Unemployed, Median Sale Price"
   ]
  },
  {
   "cell_type": "code",
   "execution_count": null,
   "metadata": {},
   "outputs": [],
   "source": [
    "sssm_df_cosprings = master_data_df[(master_data_df[\"Indicator ID\"] ==\"SSSM\") & master_data_df[\"Region Name\"].str.contains(\"Colorado Springs\")]\n",
    "sssm_df_cosprings = sssm_df_cosprings.groupby(\"Year-Month\").first()"
   ]
  },
  {
   "cell_type": "code",
   "execution_count": null,
   "metadata": {},
   "outputs": [],
   "source": [
    "cosprings_sssm_unemp_x = sssm_df_cosprings[\"Unemployment Rate\"]\n",
    "cosprings_sssm_value_y = sssm_df_cosprings[\"Value\"]\n",
    "\n",
    "correlation = st.pearsonr(cosprings_sssm_unemp_x,cosprings_sssm_value_y)\n",
    "print(f\"The correlation between the unemployment rate and median sale price is: {correlation[0]}.\")\n",
    "print(f\"P-Value is: {correlation[1]}.\")"
   ]
  },
  {
   "cell_type": "markdown",
   "metadata": {},
   "source": [
    "### Correlation: Denver - Unemployed, Median Sale Price"
   ]
  },
  {
   "cell_type": "code",
   "execution_count": null,
   "metadata": {},
   "outputs": [],
   "source": [
    "sssm_denver_df = master_data_df[(master_data_df[\"Indicator ID\"] ==\"SSSM\") & master_data_df[\"Region Name\"].str.contains(\"Denver\") ]\n",
    "sssm_denver_df = sssm_denver_df.groupby(\"Year-Month\").first()"
   ]
  },
  {
   "cell_type": "code",
   "execution_count": null,
   "metadata": {},
   "outputs": [],
   "source": [
    "denver_sssm_unemp_x = sssm_denver_df[\"Unemployment Rate\"]\n",
    "denver_sssm_value_y = sssm_denver_df[\"Value\"]\n",
    "\n",
    "correlation = st.pearsonr(denver_sssm_unemp_x,denver_sssm_value_y)\n",
    "print(f\"The correlation between the unemployment rate and median sale price is: {correlation[0]}.\")\n",
    "print(f\"P-Value is: {correlation[1]}.\")"
   ]
  },
  {
   "cell_type": "code",
   "execution_count": null,
   "metadata": {},
   "outputs": [],
   "source": []
  },
  {
   "cell_type": "code",
   "execution_count": null,
   "metadata": {},
   "outputs": [],
   "source": []
  },
  {
   "cell_type": "code",
   "execution_count": null,
   "metadata": {},
   "outputs": [],
   "source": [
    "# No Data on SSSM for Breckenridge, CO\n",
    "# sssm_df_breck = sssm_df[sssm_df[\"Region Name\"].str.contains(\"Breckenridge\")]\n",
    "# sssm_df_breck\n",
    "# sssm_df[\"Region Name\"].unique()"
   ]
  },
  {
   "cell_type": "code",
   "execution_count": null,
   "metadata": {},
   "outputs": [],
   "source": []
  },
  {
   "cell_type": "code",
   "execution_count": null,
   "metadata": {},
   "outputs": [],
   "source": [
    "# sssm_greeley_scatter = sssm_df_greely.plot(\"Unemployment Rate\", \"Value\", kind=\"scatter\")\n",
    "\n",
    "# # Find Correlation\n",
    "# correlation = st.pearsonr(greeley_unem_x,greeley_value_y)\n",
    "# print(f\"The correlation between the unemployment rate and median sale price value in Greeley, CO is: {correlation[0]}.\")\n",
    "# print(f\"P-Value is: {correlation[1]}.\")\n",
    "\n",
    "# # FIND LINEAR REGRESSION\n",
    "# greeley_unem_x = sssm_df_greely[\"Unemployment Rate\"]\n",
    "# greeley_value_y = sssm_df_greely[\"Value\"]\n",
    "\n",
    "# # Formula\n",
    "# (slope, intercept, rvalue, pvalue, stderr) = linregress(greeley_unem_x, greeley_value_y)\n",
    "# greeley_regress_values = greeley_unem_x * slope + intercept\n",
    "\n",
    "# # Line Equation\n",
    "# greeley_line_eq = \"y = \" + str(round(slope,2)) + \"x + \" + str(round(intercept,2))\n",
    "\n",
    "# # Plot\n",
    "# plt.scatter(greeley_unem_x,greeley_value_y)\n",
    "# plt.plot(greeley_unem_x,greeley_regress_values,\"r-\")\n",
    "\n",
    "# # Design Plot\n",
    "# plt.annotate(greeley_line_eq,(6, 280000),fontsize=15,color=\"red\")\n",
    "# plt.xlabel(\"Unemployment %\")\n",
    "# plt.ylabel('Median Sale Price')\n",
    "\n",
    "# # Show\n",
    "# plt.show()"
   ]
  },
  {
   "cell_type": "code",
   "execution_count": null,
   "metadata": {},
   "outputs": [],
   "source": []
  },
  {
   "cell_type": "code",
   "execution_count": null,
   "metadata": {},
   "outputs": [],
   "source": []
  }
 ],
 "metadata": {
  "kernelspec": {
   "display_name": "Python [conda env:PythonData] *",
   "language": "python",
   "name": "conda-env-PythonData-py"
  },
  "language_info": {
   "codemirror_mode": {
    "name": "ipython",
    "version": 3
   },
   "file_extension": ".py",
   "mimetype": "text/x-python",
   "name": "python",
   "nbconvert_exporter": "python",
   "pygments_lexer": "ipython3",
   "version": "3.7.1"
  }
 },
 "nbformat": 4,
 "nbformat_minor": 4
}
