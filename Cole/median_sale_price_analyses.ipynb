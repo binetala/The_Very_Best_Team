{
 "cells": [
  {
   "cell_type": "code",
   "execution_count": 1,
   "metadata": {},
   "outputs": [],
   "source": [
    "import json\n",
    "import time\n",
    "import pandas as pd\n",
    "import requests\n",
    "import matplotlib.pyplot as plt\n",
    "import scipy.stats as st\n",
    "from scipy.stats import linregress\n",
    "from pprint import pprint\n",
    "import quandl\n",
    "from config import api_key\n",
    "import csv\n",
    "import os"
   ]
  },
  {
   "cell_type": "markdown",
   "metadata": {},
   "source": [
    "# Master Data - CSV"
   ]
  },
  {
   "cell_type": "code",
   "execution_count": 2,
   "metadata": {
    "scrolled": false
   },
   "outputs": [
    {
     "data": {
      "text/html": [
       "<div>\n",
       "<style scoped>\n",
       "    .dataframe tbody tr th:only-of-type {\n",
       "        vertical-align: middle;\n",
       "    }\n",
       "\n",
       "    .dataframe tbody tr th {\n",
       "        vertical-align: top;\n",
       "    }\n",
       "\n",
       "    .dataframe thead th {\n",
       "        text-align: right;\n",
       "    }\n",
       "</style>\n",
       "<table border=\"1\" class=\"dataframe\">\n",
       "  <thead>\n",
       "    <tr style=\"text-align: right;\">\n",
       "      <th></th>\n",
       "      <th>Year</th>\n",
       "      <th>Month</th>\n",
       "      <th>Year-Month</th>\n",
       "      <th>Date Zillow</th>\n",
       "      <th>Date Interest</th>\n",
       "      <th>Indicator ID</th>\n",
       "      <th>Indicator Name</th>\n",
       "      <th>Region ID</th>\n",
       "      <th>Region Type</th>\n",
       "      <th>Region Name</th>\n",
       "      <th>Value</th>\n",
       "      <th>County Population</th>\n",
       "      <th>Unemployment Rate</th>\n",
       "      <th>Wells Fargo Rate</th>\n",
       "      <th>Freddie Mac Rate</th>\n",
       "    </tr>\n",
       "  </thead>\n",
       "  <tbody>\n",
       "    <tr>\n",
       "      <th>0</th>\n",
       "      <td>2016</td>\n",
       "      <td>Apr</td>\n",
       "      <td>2016-4</td>\n",
       "      <td>4/30/2016</td>\n",
       "      <td>4/28/2016</td>\n",
       "      <td>Z2BR</td>\n",
       "      <td>ZHVI 2-Bedroom Time Series ($)</td>\n",
       "      <td>753871</td>\n",
       "      <td>metro</td>\n",
       "      <td>Breckenridge, CO; CO</td>\n",
       "      <td>384884.0</td>\n",
       "      <td>30566.0</td>\n",
       "      <td>3.5</td>\n",
       "      <td>3.88</td>\n",
       "      <td>3.66</td>\n",
       "    </tr>\n",
       "    <tr>\n",
       "      <th>1</th>\n",
       "      <td>2016</td>\n",
       "      <td>Apr</td>\n",
       "      <td>2016-4</td>\n",
       "      <td>4/30/2016</td>\n",
       "      <td>4/28/2016</td>\n",
       "      <td>Z4BR</td>\n",
       "      <td>ZHVI 4-Bedroom Time Series ($)</td>\n",
       "      <td>753871</td>\n",
       "      <td>metro</td>\n",
       "      <td>Breckenridge, CO; CO</td>\n",
       "      <td>881951.0</td>\n",
       "      <td>30566.0</td>\n",
       "      <td>3.5</td>\n",
       "      <td>3.88</td>\n",
       "      <td>3.66</td>\n",
       "    </tr>\n",
       "    <tr>\n",
       "      <th>2</th>\n",
       "      <td>2016</td>\n",
       "      <td>Apr</td>\n",
       "      <td>2016-4</td>\n",
       "      <td>4/30/2016</td>\n",
       "      <td>4/28/2016</td>\n",
       "      <td>Z5BR</td>\n",
       "      <td>ZHVI 5+ Bedroom Time Series ($)</td>\n",
       "      <td>753871</td>\n",
       "      <td>metro</td>\n",
       "      <td>Breckenridge, CO; CO</td>\n",
       "      <td>1287769.0</td>\n",
       "      <td>30566.0</td>\n",
       "      <td>3.5</td>\n",
       "      <td>3.88</td>\n",
       "      <td>3.66</td>\n",
       "    </tr>\n",
       "    <tr>\n",
       "      <th>3</th>\n",
       "      <td>2016</td>\n",
       "      <td>Apr</td>\n",
       "      <td>2016-4</td>\n",
       "      <td>4/30/2016</td>\n",
       "      <td>4/28/2016</td>\n",
       "      <td>ZATT</td>\n",
       "      <td>ZHVI All Homes- Top Tier Time Series ($)</td>\n",
       "      <td>753871</td>\n",
       "      <td>metro</td>\n",
       "      <td>Breckenridge, CO; CO</td>\n",
       "      <td>842653.0</td>\n",
       "      <td>30566.0</td>\n",
       "      <td>3.5</td>\n",
       "      <td>3.88</td>\n",
       "      <td>3.66</td>\n",
       "    </tr>\n",
       "    <tr>\n",
       "      <th>4</th>\n",
       "      <td>2016</td>\n",
       "      <td>Apr</td>\n",
       "      <td>2016-4</td>\n",
       "      <td>4/30/2016</td>\n",
       "      <td>4/28/2016</td>\n",
       "      <td>Z1BR</td>\n",
       "      <td>ZHVI 1-Bedroom Time Series ($)</td>\n",
       "      <td>753871</td>\n",
       "      <td>metro</td>\n",
       "      <td>Breckenridge, CO; CO</td>\n",
       "      <td>243688.0</td>\n",
       "      <td>30566.0</td>\n",
       "      <td>3.5</td>\n",
       "      <td>3.88</td>\n",
       "      <td>3.66</td>\n",
       "    </tr>\n",
       "  </tbody>\n",
       "</table>\n",
       "</div>"
      ],
      "text/plain": [
       "   Year Month Year-Month Date Zillow Date Interest Indicator ID  \\\n",
       "0  2016   Apr     2016-4   4/30/2016     4/28/2016         Z2BR   \n",
       "1  2016   Apr     2016-4   4/30/2016     4/28/2016         Z4BR   \n",
       "2  2016   Apr     2016-4   4/30/2016     4/28/2016         Z5BR   \n",
       "3  2016   Apr     2016-4   4/30/2016     4/28/2016         ZATT   \n",
       "4  2016   Apr     2016-4   4/30/2016     4/28/2016         Z1BR   \n",
       "\n",
       "                             Indicator Name  Region ID Region Type  \\\n",
       "0            ZHVI 2-Bedroom Time Series ($)     753871       metro   \n",
       "1            ZHVI 4-Bedroom Time Series ($)     753871       metro   \n",
       "2           ZHVI 5+ Bedroom Time Series ($)     753871       metro   \n",
       "3  ZHVI All Homes- Top Tier Time Series ($)     753871       metro   \n",
       "4            ZHVI 1-Bedroom Time Series ($)     753871       metro   \n",
       "\n",
       "            Region Name      Value  County Population  Unemployment Rate  \\\n",
       "0  Breckenridge, CO; CO   384884.0            30566.0                3.5   \n",
       "1  Breckenridge, CO; CO   881951.0            30566.0                3.5   \n",
       "2  Breckenridge, CO; CO  1287769.0            30566.0                3.5   \n",
       "3  Breckenridge, CO; CO   842653.0            30566.0                3.5   \n",
       "4  Breckenridge, CO; CO   243688.0            30566.0                3.5   \n",
       "\n",
       "   Wells Fargo Rate  Freddie Mac Rate  \n",
       "0              3.88              3.66  \n",
       "1              3.88              3.66  \n",
       "2              3.88              3.66  \n",
       "3              3.88              3.66  \n",
       "4              3.88              3.66  "
      ]
     },
     "execution_count": 2,
     "metadata": {},
     "output_type": "execute_result"
    }
   ],
   "source": [
    "master_data_path = os.path.join(\"..\", \"..\", \"data\", \"project_one_data\", \"master_data_cleaned_2.csv\")\n",
    "master_data_df = pd.read_csv(master_data_path)\n",
    "master_data_df.head()"
   ]
  },
  {
   "cell_type": "code",
   "execution_count": 3,
   "metadata": {},
   "outputs": [],
   "source": [
    "# Convert Year-Month to Datetime(ns) -- Shared by Binet Alagic\n",
    "master_data_df[\"Year-Month\"] = master_data_df[\"Year-Month\"].apply(pd.to_datetime)\n",
    "master_data_df[\"Year-Month\"] = pd.to_datetime(master_data_df[\"Year-Month\"], format=\"%Y%B\")"
   ]
  },
  {
   "cell_type": "code",
   "execution_count": 4,
   "metadata": {},
   "outputs": [],
   "source": [
    "master_data_cleaned = master_data_df.drop(columns={\"Date Zillow\", \"Date Interest\"})"
   ]
  },
  {
   "cell_type": "code",
   "execution_count": 5,
   "metadata": {},
   "outputs": [],
   "source": [
    "master_data_cleaned = master_data_cleaned.dropna(how=\"any\")"
   ]
  },
  {
   "cell_type": "code",
   "execution_count": 6,
   "metadata": {},
   "outputs": [
    {
     "data": {
      "text/html": [
       "<div>\n",
       "<style scoped>\n",
       "    .dataframe tbody tr th:only-of-type {\n",
       "        vertical-align: middle;\n",
       "    }\n",
       "\n",
       "    .dataframe tbody tr th {\n",
       "        vertical-align: top;\n",
       "    }\n",
       "\n",
       "    .dataframe thead th {\n",
       "        text-align: right;\n",
       "    }\n",
       "</style>\n",
       "<table border=\"1\" class=\"dataframe\">\n",
       "  <thead>\n",
       "    <tr style=\"text-align: right;\">\n",
       "      <th></th>\n",
       "      <th>Year</th>\n",
       "      <th>Month</th>\n",
       "      <th>Year-Month</th>\n",
       "      <th>Indicator ID</th>\n",
       "      <th>Indicator Name</th>\n",
       "      <th>Region ID</th>\n",
       "      <th>Region Type</th>\n",
       "      <th>Region Name</th>\n",
       "      <th>Value</th>\n",
       "      <th>County Population</th>\n",
       "      <th>Unemployment Rate</th>\n",
       "      <th>Wells Fargo Rate</th>\n",
       "      <th>Freddie Mac Rate</th>\n",
       "    </tr>\n",
       "  </thead>\n",
       "  <tbody>\n",
       "    <tr>\n",
       "      <th>0</th>\n",
       "      <td>2016</td>\n",
       "      <td>Apr</td>\n",
       "      <td>2016-04-01</td>\n",
       "      <td>Z2BR</td>\n",
       "      <td>ZHVI 2-Bedroom Time Series ($)</td>\n",
       "      <td>753871</td>\n",
       "      <td>metro</td>\n",
       "      <td>Breckenridge, CO; CO</td>\n",
       "      <td>384884.0</td>\n",
       "      <td>30566.0</td>\n",
       "      <td>3.5</td>\n",
       "      <td>3.88</td>\n",
       "      <td>3.66</td>\n",
       "    </tr>\n",
       "    <tr>\n",
       "      <th>1</th>\n",
       "      <td>2016</td>\n",
       "      <td>Apr</td>\n",
       "      <td>2016-04-01</td>\n",
       "      <td>Z4BR</td>\n",
       "      <td>ZHVI 4-Bedroom Time Series ($)</td>\n",
       "      <td>753871</td>\n",
       "      <td>metro</td>\n",
       "      <td>Breckenridge, CO; CO</td>\n",
       "      <td>881951.0</td>\n",
       "      <td>30566.0</td>\n",
       "      <td>3.5</td>\n",
       "      <td>3.88</td>\n",
       "      <td>3.66</td>\n",
       "    </tr>\n",
       "    <tr>\n",
       "      <th>2</th>\n",
       "      <td>2016</td>\n",
       "      <td>Apr</td>\n",
       "      <td>2016-04-01</td>\n",
       "      <td>Z5BR</td>\n",
       "      <td>ZHVI 5+ Bedroom Time Series ($)</td>\n",
       "      <td>753871</td>\n",
       "      <td>metro</td>\n",
       "      <td>Breckenridge, CO; CO</td>\n",
       "      <td>1287769.0</td>\n",
       "      <td>30566.0</td>\n",
       "      <td>3.5</td>\n",
       "      <td>3.88</td>\n",
       "      <td>3.66</td>\n",
       "    </tr>\n",
       "    <tr>\n",
       "      <th>3</th>\n",
       "      <td>2016</td>\n",
       "      <td>Apr</td>\n",
       "      <td>2016-04-01</td>\n",
       "      <td>ZATT</td>\n",
       "      <td>ZHVI All Homes- Top Tier Time Series ($)</td>\n",
       "      <td>753871</td>\n",
       "      <td>metro</td>\n",
       "      <td>Breckenridge, CO; CO</td>\n",
       "      <td>842653.0</td>\n",
       "      <td>30566.0</td>\n",
       "      <td>3.5</td>\n",
       "      <td>3.88</td>\n",
       "      <td>3.66</td>\n",
       "    </tr>\n",
       "    <tr>\n",
       "      <th>4</th>\n",
       "      <td>2016</td>\n",
       "      <td>Apr</td>\n",
       "      <td>2016-04-01</td>\n",
       "      <td>Z1BR</td>\n",
       "      <td>ZHVI 1-Bedroom Time Series ($)</td>\n",
       "      <td>753871</td>\n",
       "      <td>metro</td>\n",
       "      <td>Breckenridge, CO; CO</td>\n",
       "      <td>243688.0</td>\n",
       "      <td>30566.0</td>\n",
       "      <td>3.5</td>\n",
       "      <td>3.88</td>\n",
       "      <td>3.66</td>\n",
       "    </tr>\n",
       "  </tbody>\n",
       "</table>\n",
       "</div>"
      ],
      "text/plain": [
       "   Year Month Year-Month Indicator ID  \\\n",
       "0  2016   Apr 2016-04-01         Z2BR   \n",
       "1  2016   Apr 2016-04-01         Z4BR   \n",
       "2  2016   Apr 2016-04-01         Z5BR   \n",
       "3  2016   Apr 2016-04-01         ZATT   \n",
       "4  2016   Apr 2016-04-01         Z1BR   \n",
       "\n",
       "                             Indicator Name  Region ID Region Type  \\\n",
       "0            ZHVI 2-Bedroom Time Series ($)     753871       metro   \n",
       "1            ZHVI 4-Bedroom Time Series ($)     753871       metro   \n",
       "2           ZHVI 5+ Bedroom Time Series ($)     753871       metro   \n",
       "3  ZHVI All Homes- Top Tier Time Series ($)     753871       metro   \n",
       "4            ZHVI 1-Bedroom Time Series ($)     753871       metro   \n",
       "\n",
       "            Region Name      Value  County Population  Unemployment Rate  \\\n",
       "0  Breckenridge, CO; CO   384884.0            30566.0                3.5   \n",
       "1  Breckenridge, CO; CO   881951.0            30566.0                3.5   \n",
       "2  Breckenridge, CO; CO  1287769.0            30566.0                3.5   \n",
       "3  Breckenridge, CO; CO   842653.0            30566.0                3.5   \n",
       "4  Breckenridge, CO; CO   243688.0            30566.0                3.5   \n",
       "\n",
       "   Wells Fargo Rate  Freddie Mac Rate  \n",
       "0              3.88              3.66  \n",
       "1              3.88              3.66  \n",
       "2              3.88              3.66  \n",
       "3              3.88              3.66  \n",
       "4              3.88              3.66  "
      ]
     },
     "execution_count": 6,
     "metadata": {},
     "output_type": "execute_result"
    }
   ],
   "source": [
    "master_data_cleaned.head()"
   ]
  },
  {
   "cell_type": "markdown",
   "metadata": {},
   "source": [
    "# SSAM - Median Prices, All Homes"
   ]
  },
  {
   "cell_type": "code",
   "execution_count": 7,
   "metadata": {},
   "outputs": [
    {
     "name": "stderr",
     "output_type": "stream",
     "text": [
      "C:\\Users\\coled\\anaconda3\\envs\\pythondata\\lib\\site-packages\\ipykernel_launcher.py:2: UserWarning: Boolean Series key will be reindexed to match DataFrame index.\n",
      "  \n"
     ]
    }
   ],
   "source": [
    "# Look at SSAM - All Homes Monthly\n",
    "ssam_df = master_data_cleaned[master_data_df[\"Indicator ID\"] == \"SSAM\"]"
   ]
  },
  {
   "cell_type": "code",
   "execution_count": 8,
   "metadata": {
    "scrolled": false
   },
   "outputs": [
    {
     "data": {
      "text/html": [
       "<div>\n",
       "<style scoped>\n",
       "    .dataframe tbody tr th:only-of-type {\n",
       "        vertical-align: middle;\n",
       "    }\n",
       "\n",
       "    .dataframe tbody tr th {\n",
       "        vertical-align: top;\n",
       "    }\n",
       "\n",
       "    .dataframe thead th {\n",
       "        text-align: right;\n",
       "    }\n",
       "</style>\n",
       "<table border=\"1\" class=\"dataframe\">\n",
       "  <thead>\n",
       "    <tr style=\"text-align: right;\">\n",
       "      <th></th>\n",
       "      <th>Year</th>\n",
       "      <th>Month</th>\n",
       "      <th>Year-Month</th>\n",
       "      <th>Indicator ID</th>\n",
       "      <th>Indicator Name</th>\n",
       "      <th>Region ID</th>\n",
       "      <th>Region Type</th>\n",
       "      <th>Region Name</th>\n",
       "      <th>Value</th>\n",
       "      <th>County Population</th>\n",
       "      <th>Unemployment Rate</th>\n",
       "      <th>Wells Fargo Rate</th>\n",
       "      <th>Freddie Mac Rate</th>\n",
       "    </tr>\n",
       "  </thead>\n",
       "  <tbody>\n",
       "    <tr>\n",
       "      <th>417</th>\n",
       "      <td>2016</td>\n",
       "      <td>Apr</td>\n",
       "      <td>2016-04-01</td>\n",
       "      <td>SSAM</td>\n",
       "      <td>Median Sale Price (Smooth, All Homes, Monthly)</td>\n",
       "      <td>394484</td>\n",
       "      <td>metro</td>\n",
       "      <td>Colorado Springs, CO</td>\n",
       "      <td>246388.0</td>\n",
       "      <td>689481.0</td>\n",
       "      <td>3.5</td>\n",
       "      <td>3.88</td>\n",
       "      <td>3.66</td>\n",
       "    </tr>\n",
       "    <tr>\n",
       "      <th>582</th>\n",
       "      <td>2016</td>\n",
       "      <td>May</td>\n",
       "      <td>2016-05-01</td>\n",
       "      <td>SSAM</td>\n",
       "      <td>Median Sale Price (Smooth, All Homes, Monthly)</td>\n",
       "      <td>394484</td>\n",
       "      <td>metro</td>\n",
       "      <td>Colorado Springs, CO</td>\n",
       "      <td>251325.0</td>\n",
       "      <td>689481.0</td>\n",
       "      <td>3.4</td>\n",
       "      <td>3.75</td>\n",
       "      <td>3.61</td>\n",
       "    </tr>\n",
       "    <tr>\n",
       "      <th>583</th>\n",
       "      <td>2016</td>\n",
       "      <td>May</td>\n",
       "      <td>2016-05-01</td>\n",
       "      <td>SSAM</td>\n",
       "      <td>Median Sale Price (Smooth, All Homes, Monthly)</td>\n",
       "      <td>394484</td>\n",
       "      <td>metro</td>\n",
       "      <td>Colorado Springs, CO</td>\n",
       "      <td>251325.0</td>\n",
       "      <td>689481.0</td>\n",
       "      <td>3.4</td>\n",
       "      <td>3.75</td>\n",
       "      <td>3.57</td>\n",
       "    </tr>\n",
       "    <tr>\n",
       "      <th>584</th>\n",
       "      <td>2016</td>\n",
       "      <td>May</td>\n",
       "      <td>2016-05-01</td>\n",
       "      <td>SSAM</td>\n",
       "      <td>Median Sale Price (Smooth, All Homes, Monthly)</td>\n",
       "      <td>394484</td>\n",
       "      <td>metro</td>\n",
       "      <td>Colorado Springs, CO</td>\n",
       "      <td>251325.0</td>\n",
       "      <td>689481.0</td>\n",
       "      <td>3.4</td>\n",
       "      <td>3.88</td>\n",
       "      <td>3.58</td>\n",
       "    </tr>\n",
       "    <tr>\n",
       "      <th>585</th>\n",
       "      <td>2016</td>\n",
       "      <td>May</td>\n",
       "      <td>2016-05-01</td>\n",
       "      <td>SSAM</td>\n",
       "      <td>Median Sale Price (Smooth, All Homes, Monthly)</td>\n",
       "      <td>394484</td>\n",
       "      <td>metro</td>\n",
       "      <td>Colorado Springs, CO</td>\n",
       "      <td>251325.0</td>\n",
       "      <td>689481.0</td>\n",
       "      <td>3.4</td>\n",
       "      <td>3.88</td>\n",
       "      <td>3.64</td>\n",
       "    </tr>\n",
       "    <tr>\n",
       "      <th>...</th>\n",
       "      <td>...</td>\n",
       "      <td>...</td>\n",
       "      <td>...</td>\n",
       "      <td>...</td>\n",
       "      <td>...</td>\n",
       "      <td>...</td>\n",
       "      <td>...</td>\n",
       "      <td>...</td>\n",
       "      <td>...</td>\n",
       "      <td>...</td>\n",
       "      <td>...</td>\n",
       "      <td>...</td>\n",
       "      <td>...</td>\n",
       "    </tr>\n",
       "    <tr>\n",
       "      <th>66095</th>\n",
       "      <td>2020</td>\n",
       "      <td>Jul</td>\n",
       "      <td>2020-07-01</td>\n",
       "      <td>SSAM</td>\n",
       "      <td>Median Sale Price (Smooth, All Homes, Monthly)</td>\n",
       "      <td>394645</td>\n",
       "      <td>metro</td>\n",
       "      <td>Greeley, CO</td>\n",
       "      <td>380467.0</td>\n",
       "      <td>332367.0</td>\n",
       "      <td>7.4</td>\n",
       "      <td>3.00</td>\n",
       "      <td>2.99</td>\n",
       "    </tr>\n",
       "    <tr>\n",
       "      <th>66576</th>\n",
       "      <td>2020</td>\n",
       "      <td>Aug</td>\n",
       "      <td>2020-08-01</td>\n",
       "      <td>SSAM</td>\n",
       "      <td>Median Sale Price (Smooth, All Homes, Monthly)</td>\n",
       "      <td>394645</td>\n",
       "      <td>metro</td>\n",
       "      <td>Greeley, CO</td>\n",
       "      <td>382967.0</td>\n",
       "      <td>332367.0</td>\n",
       "      <td>6.7</td>\n",
       "      <td>3.00</td>\n",
       "      <td>2.88</td>\n",
       "    </tr>\n",
       "    <tr>\n",
       "      <th>66577</th>\n",
       "      <td>2020</td>\n",
       "      <td>Aug</td>\n",
       "      <td>2020-08-01</td>\n",
       "      <td>SSAM</td>\n",
       "      <td>Median Sale Price (Smooth, All Homes, Monthly)</td>\n",
       "      <td>394645</td>\n",
       "      <td>metro</td>\n",
       "      <td>Greeley, CO</td>\n",
       "      <td>382967.0</td>\n",
       "      <td>332367.0</td>\n",
       "      <td>6.7</td>\n",
       "      <td>3.00</td>\n",
       "      <td>2.96</td>\n",
       "    </tr>\n",
       "    <tr>\n",
       "      <th>66578</th>\n",
       "      <td>2020</td>\n",
       "      <td>Aug</td>\n",
       "      <td>2020-08-01</td>\n",
       "      <td>SSAM</td>\n",
       "      <td>Median Sale Price (Smooth, All Homes, Monthly)</td>\n",
       "      <td>394645</td>\n",
       "      <td>metro</td>\n",
       "      <td>Greeley, CO</td>\n",
       "      <td>382967.0</td>\n",
       "      <td>332367.0</td>\n",
       "      <td>6.7</td>\n",
       "      <td>2.88</td>\n",
       "      <td>2.99</td>\n",
       "    </tr>\n",
       "    <tr>\n",
       "      <th>66579</th>\n",
       "      <td>2020</td>\n",
       "      <td>Aug</td>\n",
       "      <td>2020-08-01</td>\n",
       "      <td>SSAM</td>\n",
       "      <td>Median Sale Price (Smooth, All Homes, Monthly)</td>\n",
       "      <td>394645</td>\n",
       "      <td>metro</td>\n",
       "      <td>Greeley, CO</td>\n",
       "      <td>382967.0</td>\n",
       "      <td>332367.0</td>\n",
       "      <td>6.7</td>\n",
       "      <td>2.88</td>\n",
       "      <td>2.91</td>\n",
       "    </tr>\n",
       "  </tbody>\n",
       "</table>\n",
       "<p>672 rows × 13 columns</p>\n",
       "</div>"
      ],
      "text/plain": [
       "       Year Month Year-Month Indicator ID  \\\n",
       "417    2016   Apr 2016-04-01         SSAM   \n",
       "582    2016   May 2016-05-01         SSAM   \n",
       "583    2016   May 2016-05-01         SSAM   \n",
       "584    2016   May 2016-05-01         SSAM   \n",
       "585    2016   May 2016-05-01         SSAM   \n",
       "...     ...   ...        ...          ...   \n",
       "66095  2020   Jul 2020-07-01         SSAM   \n",
       "66576  2020   Aug 2020-08-01         SSAM   \n",
       "66577  2020   Aug 2020-08-01         SSAM   \n",
       "66578  2020   Aug 2020-08-01         SSAM   \n",
       "66579  2020   Aug 2020-08-01         SSAM   \n",
       "\n",
       "                                       Indicator Name  Region ID Region Type  \\\n",
       "417    Median Sale Price (Smooth, All Homes, Monthly)     394484       metro   \n",
       "582    Median Sale Price (Smooth, All Homes, Monthly)     394484       metro   \n",
       "583    Median Sale Price (Smooth, All Homes, Monthly)     394484       metro   \n",
       "584    Median Sale Price (Smooth, All Homes, Monthly)     394484       metro   \n",
       "585    Median Sale Price (Smooth, All Homes, Monthly)     394484       metro   \n",
       "...                                               ...        ...         ...   \n",
       "66095  Median Sale Price (Smooth, All Homes, Monthly)     394645       metro   \n",
       "66576  Median Sale Price (Smooth, All Homes, Monthly)     394645       metro   \n",
       "66577  Median Sale Price (Smooth, All Homes, Monthly)     394645       metro   \n",
       "66578  Median Sale Price (Smooth, All Homes, Monthly)     394645       metro   \n",
       "66579  Median Sale Price (Smooth, All Homes, Monthly)     394645       metro   \n",
       "\n",
       "                Region Name     Value  County Population  Unemployment Rate  \\\n",
       "417    Colorado Springs, CO  246388.0           689481.0                3.5   \n",
       "582    Colorado Springs, CO  251325.0           689481.0                3.4   \n",
       "583    Colorado Springs, CO  251325.0           689481.0                3.4   \n",
       "584    Colorado Springs, CO  251325.0           689481.0                3.4   \n",
       "585    Colorado Springs, CO  251325.0           689481.0                3.4   \n",
       "...                     ...       ...                ...                ...   \n",
       "66095           Greeley, CO  380467.0           332367.0                7.4   \n",
       "66576           Greeley, CO  382967.0           332367.0                6.7   \n",
       "66577           Greeley, CO  382967.0           332367.0                6.7   \n",
       "66578           Greeley, CO  382967.0           332367.0                6.7   \n",
       "66579           Greeley, CO  382967.0           332367.0                6.7   \n",
       "\n",
       "       Wells Fargo Rate  Freddie Mac Rate  \n",
       "417                3.88              3.66  \n",
       "582                3.75              3.61  \n",
       "583                3.75              3.57  \n",
       "584                3.88              3.58  \n",
       "585                3.88              3.64  \n",
       "...                 ...               ...  \n",
       "66095              3.00              2.99  \n",
       "66576              3.00              2.88  \n",
       "66577              3.00              2.96  \n",
       "66578              2.88              2.99  \n",
       "66579              2.88              2.91  \n",
       "\n",
       "[672 rows x 13 columns]"
      ]
     },
     "execution_count": 8,
     "metadata": {},
     "output_type": "execute_result"
    }
   ],
   "source": [
    "ssam_df"
   ]
  },
  {
   "cell_type": "code",
   "execution_count": 9,
   "metadata": {},
   "outputs": [
    {
     "data": {
      "text/html": [
       "<div>\n",
       "<style scoped>\n",
       "    .dataframe tbody tr th:only-of-type {\n",
       "        vertical-align: middle;\n",
       "    }\n",
       "\n",
       "    .dataframe tbody tr th {\n",
       "        vertical-align: top;\n",
       "    }\n",
       "\n",
       "    .dataframe thead th {\n",
       "        text-align: right;\n",
       "    }\n",
       "</style>\n",
       "<table border=\"1\" class=\"dataframe\">\n",
       "  <thead>\n",
       "    <tr style=\"text-align: right;\">\n",
       "      <th></th>\n",
       "      <th>Freddie Mac Rates</th>\n",
       "      <th>Wells Fargo Rates</th>\n",
       "    </tr>\n",
       "    <tr>\n",
       "      <th>Year-Month</th>\n",
       "      <th></th>\n",
       "      <th></th>\n",
       "    </tr>\n",
       "  </thead>\n",
       "  <tbody>\n",
       "    <tr>\n",
       "      <th>2016-04-01</th>\n",
       "      <td>3.660</td>\n",
       "      <td>3.880</td>\n",
       "    </tr>\n",
       "    <tr>\n",
       "      <th>2016-05-01</th>\n",
       "      <td>3.600</td>\n",
       "      <td>3.815</td>\n",
       "    </tr>\n",
       "    <tr>\n",
       "      <th>2016-06-01</th>\n",
       "      <td>3.568</td>\n",
       "      <td>3.728</td>\n",
       "    </tr>\n",
       "    <tr>\n",
       "      <th>2016-07-01</th>\n",
       "      <td>3.440</td>\n",
       "      <td>3.630</td>\n",
       "    </tr>\n",
       "    <tr>\n",
       "      <th>2016-08-01</th>\n",
       "      <td>3.434</td>\n",
       "      <td>3.630</td>\n",
       "    </tr>\n",
       "  </tbody>\n",
       "</table>\n",
       "</div>"
      ],
      "text/plain": [
       "            Freddie Mac Rates  Wells Fargo Rates\n",
       "Year-Month                                      \n",
       "2016-04-01              3.660              3.880\n",
       "2016-05-01              3.600              3.815\n",
       "2016-06-01              3.568              3.728\n",
       "2016-07-01              3.440              3.630\n",
       "2016-08-01              3.434              3.630"
      ]
     },
     "execution_count": 9,
     "metadata": {},
     "output_type": "execute_result"
    }
   ],
   "source": [
    "freddie_rates = ssam_df.groupby(\"Year-Month\")[\"Freddie Mac Rate\"].mean()\n",
    "wells_rates = ssam_df.groupby(\"Year-Month\")[\"Wells Fargo Rate\"].mean()\n",
    "\n",
    "rates_df = pd.DataFrame({\"Freddie Mac Rates\": freddie_rates, \"Wells Fargo Rates\": wells_rates})\n",
    "rates_df.head()"
   ]
  },
  {
   "cell_type": "code",
   "execution_count": 10,
   "metadata": {},
   "outputs": [],
   "source": [
    "ssam_df = ssam_df.drop(columns={\"Wells Fargo Rate\", \"Freddie Mac Rate\"})"
   ]
  },
  {
   "cell_type": "code",
   "execution_count": 11,
   "metadata": {},
   "outputs": [],
   "source": [
    "ssam_combined_df = pd.merge(ssam_df, rates_df, on=\"Year-Month\" )"
   ]
  },
  {
   "cell_type": "code",
   "execution_count": 12,
   "metadata": {},
   "outputs": [
    {
     "data": {
      "text/html": [
       "<div>\n",
       "<style scoped>\n",
       "    .dataframe tbody tr th:only-of-type {\n",
       "        vertical-align: middle;\n",
       "    }\n",
       "\n",
       "    .dataframe tbody tr th {\n",
       "        vertical-align: top;\n",
       "    }\n",
       "\n",
       "    .dataframe thead th {\n",
       "        text-align: right;\n",
       "    }\n",
       "</style>\n",
       "<table border=\"1\" class=\"dataframe\">\n",
       "  <thead>\n",
       "    <tr style=\"text-align: right;\">\n",
       "      <th></th>\n",
       "      <th>Year</th>\n",
       "      <th>Month</th>\n",
       "      <th>Year-Month</th>\n",
       "      <th>Indicator ID</th>\n",
       "      <th>Indicator Name</th>\n",
       "      <th>Region ID</th>\n",
       "      <th>Region Type</th>\n",
       "      <th>Region Name</th>\n",
       "      <th>Value</th>\n",
       "      <th>County Population</th>\n",
       "      <th>Unemployment Rate</th>\n",
       "      <th>Freddie Mac Rates</th>\n",
       "      <th>Wells Fargo Rates</th>\n",
       "    </tr>\n",
       "  </thead>\n",
       "  <tbody>\n",
       "    <tr>\n",
       "      <th>0</th>\n",
       "      <td>2016</td>\n",
       "      <td>Apr</td>\n",
       "      <td>2016-04-01</td>\n",
       "      <td>SSAM</td>\n",
       "      <td>Median Sale Price (Smooth, All Homes, Monthly)</td>\n",
       "      <td>394484</td>\n",
       "      <td>metro</td>\n",
       "      <td>Colorado Springs, CO</td>\n",
       "      <td>246388.0</td>\n",
       "      <td>689481.0</td>\n",
       "      <td>3.5</td>\n",
       "      <td>3.66</td>\n",
       "      <td>3.880</td>\n",
       "    </tr>\n",
       "    <tr>\n",
       "      <th>1</th>\n",
       "      <td>2016</td>\n",
       "      <td>Apr</td>\n",
       "      <td>2016-04-01</td>\n",
       "      <td>SSAM</td>\n",
       "      <td>Median Sale Price (Smooth, All Homes, Monthly)</td>\n",
       "      <td>394530</td>\n",
       "      <td>metro</td>\n",
       "      <td>Denver, CO</td>\n",
       "      <td>340150.0</td>\n",
       "      <td>697744.0</td>\n",
       "      <td>3.5</td>\n",
       "      <td>3.66</td>\n",
       "      <td>3.880</td>\n",
       "    </tr>\n",
       "    <tr>\n",
       "      <th>2</th>\n",
       "      <td>2016</td>\n",
       "      <td>Apr</td>\n",
       "      <td>2016-04-01</td>\n",
       "      <td>SSAM</td>\n",
       "      <td>Median Sale Price (Smooth, All Homes, Monthly)</td>\n",
       "      <td>394645</td>\n",
       "      <td>metro</td>\n",
       "      <td>Greeley, CO</td>\n",
       "      <td>272475.0</td>\n",
       "      <td>294867.0</td>\n",
       "      <td>3.5</td>\n",
       "      <td>3.66</td>\n",
       "      <td>3.880</td>\n",
       "    </tr>\n",
       "    <tr>\n",
       "      <th>3</th>\n",
       "      <td>2016</td>\n",
       "      <td>May</td>\n",
       "      <td>2016-05-01</td>\n",
       "      <td>SSAM</td>\n",
       "      <td>Median Sale Price (Smooth, All Homes, Monthly)</td>\n",
       "      <td>394484</td>\n",
       "      <td>metro</td>\n",
       "      <td>Colorado Springs, CO</td>\n",
       "      <td>251325.0</td>\n",
       "      <td>689481.0</td>\n",
       "      <td>3.4</td>\n",
       "      <td>3.60</td>\n",
       "      <td>3.815</td>\n",
       "    </tr>\n",
       "    <tr>\n",
       "      <th>4</th>\n",
       "      <td>2016</td>\n",
       "      <td>May</td>\n",
       "      <td>2016-05-01</td>\n",
       "      <td>SSAM</td>\n",
       "      <td>Median Sale Price (Smooth, All Homes, Monthly)</td>\n",
       "      <td>394484</td>\n",
       "      <td>metro</td>\n",
       "      <td>Colorado Springs, CO</td>\n",
       "      <td>251325.0</td>\n",
       "      <td>689481.0</td>\n",
       "      <td>3.4</td>\n",
       "      <td>3.60</td>\n",
       "      <td>3.815</td>\n",
       "    </tr>\n",
       "  </tbody>\n",
       "</table>\n",
       "</div>"
      ],
      "text/plain": [
       "   Year Month Year-Month Indicator ID  \\\n",
       "0  2016   Apr 2016-04-01         SSAM   \n",
       "1  2016   Apr 2016-04-01         SSAM   \n",
       "2  2016   Apr 2016-04-01         SSAM   \n",
       "3  2016   May 2016-05-01         SSAM   \n",
       "4  2016   May 2016-05-01         SSAM   \n",
       "\n",
       "                                   Indicator Name  Region ID Region Type  \\\n",
       "0  Median Sale Price (Smooth, All Homes, Monthly)     394484       metro   \n",
       "1  Median Sale Price (Smooth, All Homes, Monthly)     394530       metro   \n",
       "2  Median Sale Price (Smooth, All Homes, Monthly)     394645       metro   \n",
       "3  Median Sale Price (Smooth, All Homes, Monthly)     394484       metro   \n",
       "4  Median Sale Price (Smooth, All Homes, Monthly)     394484       metro   \n",
       "\n",
       "            Region Name     Value  County Population  Unemployment Rate  \\\n",
       "0  Colorado Springs, CO  246388.0           689481.0                3.5   \n",
       "1            Denver, CO  340150.0           697744.0                3.5   \n",
       "2           Greeley, CO  272475.0           294867.0                3.5   \n",
       "3  Colorado Springs, CO  251325.0           689481.0                3.4   \n",
       "4  Colorado Springs, CO  251325.0           689481.0                3.4   \n",
       "\n",
       "   Freddie Mac Rates  Wells Fargo Rates  \n",
       "0               3.66              3.880  \n",
       "1               3.66              3.880  \n",
       "2               3.66              3.880  \n",
       "3               3.60              3.815  \n",
       "4               3.60              3.815  "
      ]
     },
     "execution_count": 12,
     "metadata": {},
     "output_type": "execute_result"
    }
   ],
   "source": [
    "ssam_combined_df.head()"
   ]
  },
  {
   "cell_type": "code",
   "execution_count": 13,
   "metadata": {},
   "outputs": [],
   "source": [
    "ssam_combined_df = ssam_combined_df.drop_duplicates(subset=[\"Year-Month\", \"Region Name\", \"Value\"])"
   ]
  },
  {
   "cell_type": "code",
   "execution_count": 14,
   "metadata": {},
   "outputs": [],
   "source": [
    "ssam_combined_df = ssam_combined_df.sort_values(\"Year-Month\")"
   ]
  },
  {
   "cell_type": "code",
   "execution_count": 78,
   "metadata": {},
   "outputs": [
    {
     "data": {
      "text/html": [
       "<div>\n",
       "<style scoped>\n",
       "    .dataframe tbody tr th:only-of-type {\n",
       "        vertical-align: middle;\n",
       "    }\n",
       "\n",
       "    .dataframe tbody tr th {\n",
       "        vertical-align: top;\n",
       "    }\n",
       "\n",
       "    .dataframe thead th {\n",
       "        text-align: right;\n",
       "    }\n",
       "</style>\n",
       "<table border=\"1\" class=\"dataframe\">\n",
       "  <thead>\n",
       "    <tr style=\"text-align: right;\">\n",
       "      <th></th>\n",
       "      <th>Year</th>\n",
       "      <th>Month</th>\n",
       "      <th>Year-Month</th>\n",
       "      <th>Indicator ID</th>\n",
       "      <th>Indicator Name</th>\n",
       "      <th>Region ID</th>\n",
       "      <th>Region Type</th>\n",
       "      <th>Region Name</th>\n",
       "      <th>Value</th>\n",
       "      <th>County Population</th>\n",
       "      <th>Unemployment Rate</th>\n",
       "      <th>Freddie Mac Rates</th>\n",
       "      <th>Wells Fargo Rates</th>\n",
       "    </tr>\n",
       "  </thead>\n",
       "  <tbody>\n",
       "    <tr>\n",
       "      <th>0</th>\n",
       "      <td>2016</td>\n",
       "      <td>Apr</td>\n",
       "      <td>2016-04-01</td>\n",
       "      <td>SSAM</td>\n",
       "      <td>Median Sale Price (Smooth, All Homes, Monthly)</td>\n",
       "      <td>394484</td>\n",
       "      <td>metro</td>\n",
       "      <td>Colorado Springs, CO</td>\n",
       "      <td>246388.0</td>\n",
       "      <td>689481.0</td>\n",
       "      <td>3.5</td>\n",
       "      <td>3.66</td>\n",
       "      <td>3.880</td>\n",
       "    </tr>\n",
       "    <tr>\n",
       "      <th>1</th>\n",
       "      <td>2016</td>\n",
       "      <td>Apr</td>\n",
       "      <td>2016-04-01</td>\n",
       "      <td>SSAM</td>\n",
       "      <td>Median Sale Price (Smooth, All Homes, Monthly)</td>\n",
       "      <td>394530</td>\n",
       "      <td>metro</td>\n",
       "      <td>Denver, CO</td>\n",
       "      <td>340150.0</td>\n",
       "      <td>697744.0</td>\n",
       "      <td>3.5</td>\n",
       "      <td>3.66</td>\n",
       "      <td>3.880</td>\n",
       "    </tr>\n",
       "    <tr>\n",
       "      <th>2</th>\n",
       "      <td>2016</td>\n",
       "      <td>Apr</td>\n",
       "      <td>2016-04-01</td>\n",
       "      <td>SSAM</td>\n",
       "      <td>Median Sale Price (Smooth, All Homes, Monthly)</td>\n",
       "      <td>394645</td>\n",
       "      <td>metro</td>\n",
       "      <td>Greeley, CO</td>\n",
       "      <td>272475.0</td>\n",
       "      <td>294867.0</td>\n",
       "      <td>3.5</td>\n",
       "      <td>3.66</td>\n",
       "      <td>3.880</td>\n",
       "    </tr>\n",
       "    <tr>\n",
       "      <th>3</th>\n",
       "      <td>2016</td>\n",
       "      <td>May</td>\n",
       "      <td>2016-05-01</td>\n",
       "      <td>SSAM</td>\n",
       "      <td>Median Sale Price (Smooth, All Homes, Monthly)</td>\n",
       "      <td>394484</td>\n",
       "      <td>metro</td>\n",
       "      <td>Colorado Springs, CO</td>\n",
       "      <td>251325.0</td>\n",
       "      <td>689481.0</td>\n",
       "      <td>3.4</td>\n",
       "      <td>3.60</td>\n",
       "      <td>3.815</td>\n",
       "    </tr>\n",
       "    <tr>\n",
       "      <th>7</th>\n",
       "      <td>2016</td>\n",
       "      <td>May</td>\n",
       "      <td>2016-05-01</td>\n",
       "      <td>SSAM</td>\n",
       "      <td>Median Sale Price (Smooth, All Homes, Monthly)</td>\n",
       "      <td>394530</td>\n",
       "      <td>metro</td>\n",
       "      <td>Denver, CO</td>\n",
       "      <td>350150.0</td>\n",
       "      <td>697744.0</td>\n",
       "      <td>3.4</td>\n",
       "      <td>3.60</td>\n",
       "      <td>3.815</td>\n",
       "    </tr>\n",
       "  </tbody>\n",
       "</table>\n",
       "</div>"
      ],
      "text/plain": [
       "   Year Month Year-Month Indicator ID  \\\n",
       "0  2016   Apr 2016-04-01         SSAM   \n",
       "1  2016   Apr 2016-04-01         SSAM   \n",
       "2  2016   Apr 2016-04-01         SSAM   \n",
       "3  2016   May 2016-05-01         SSAM   \n",
       "7  2016   May 2016-05-01         SSAM   \n",
       "\n",
       "                                   Indicator Name  Region ID Region Type  \\\n",
       "0  Median Sale Price (Smooth, All Homes, Monthly)     394484       metro   \n",
       "1  Median Sale Price (Smooth, All Homes, Monthly)     394530       metro   \n",
       "2  Median Sale Price (Smooth, All Homes, Monthly)     394645       metro   \n",
       "3  Median Sale Price (Smooth, All Homes, Monthly)     394484       metro   \n",
       "7  Median Sale Price (Smooth, All Homes, Monthly)     394530       metro   \n",
       "\n",
       "            Region Name     Value  County Population  Unemployment Rate  \\\n",
       "0  Colorado Springs, CO  246388.0           689481.0                3.5   \n",
       "1            Denver, CO  340150.0           697744.0                3.5   \n",
       "2           Greeley, CO  272475.0           294867.0                3.5   \n",
       "3  Colorado Springs, CO  251325.0           689481.0                3.4   \n",
       "7            Denver, CO  350150.0           697744.0                3.4   \n",
       "\n",
       "   Freddie Mac Rates  Wells Fargo Rates  \n",
       "0               3.66              3.880  \n",
       "1               3.66              3.880  \n",
       "2               3.66              3.880  \n",
       "3               3.60              3.815  \n",
       "7               3.60              3.815  "
      ]
     },
     "execution_count": 78,
     "metadata": {},
     "output_type": "execute_result"
    }
   ],
   "source": [
    "ssam_combined_df.head()"
   ]
  },
  {
   "cell_type": "markdown",
   "metadata": {},
   "source": [
    "## Analysis DF"
   ]
  },
  {
   "cell_type": "code",
   "execution_count": 79,
   "metadata": {},
   "outputs": [],
   "source": [
    "unemployment_rate = round(ssam_combined_df.groupby(\"Year-Month\")[\"Unemployment Rate\"].mean(), 2)\n",
    "freddie_mac_rate = round(ssam_combined_df.groupby(\"Year-Month\")[\"Freddie Mac Rates\"].mean(), 2)\n",
    "wells_rates = round(ssam_combined_df.groupby(\"Year-Month\")[\"Wells Fargo Rates\"].mean(), 2)\n",
    "median_sale_price = round(ssam_combined_df.groupby(\"Year-Month\")[\"Value\"].mean(), 2)\n",
    "population = round(ssam_combined_df.groupby(\"Year-Month\")[\"County Population\"].mean())"
   ]
  },
  {
   "cell_type": "code",
   "execution_count": 87,
   "metadata": {},
   "outputs": [],
   "source": [
    "analysis_df = pd.DataFrame({\"Unemployment Rate\": unemployment_rate, \n",
    "                        \"Freddie Mac Rate\": freddie_mac_rate,  \n",
    "                        \"Median Population\": population,\n",
    "                        \"Median Sale Price\": median_sale_price})"
   ]
  },
  {
   "cell_type": "code",
   "execution_count": 88,
   "metadata": {},
   "outputs": [
    {
     "data": {
      "text/html": [
       "<div>\n",
       "<style scoped>\n",
       "    .dataframe tbody tr th:only-of-type {\n",
       "        vertical-align: middle;\n",
       "    }\n",
       "\n",
       "    .dataframe tbody tr th {\n",
       "        vertical-align: top;\n",
       "    }\n",
       "\n",
       "    .dataframe thead th {\n",
       "        text-align: right;\n",
       "    }\n",
       "</style>\n",
       "<table border=\"1\" class=\"dataframe\">\n",
       "  <thead>\n",
       "    <tr style=\"text-align: right;\">\n",
       "      <th></th>\n",
       "      <th>Unemployment Rate</th>\n",
       "      <th>Freddie Mac Rate</th>\n",
       "      <th>Median Population</th>\n",
       "      <th>Median Sale Price</th>\n",
       "    </tr>\n",
       "    <tr>\n",
       "      <th>Year-Month</th>\n",
       "      <th></th>\n",
       "      <th></th>\n",
       "      <th></th>\n",
       "      <th></th>\n",
       "    </tr>\n",
       "  </thead>\n",
       "  <tbody>\n",
       "    <tr>\n",
       "      <th>2016-04-01</th>\n",
       "      <td>3.5</td>\n",
       "      <td>3.66</td>\n",
       "      <td>560697.0</td>\n",
       "      <td>286337.67</td>\n",
       "    </tr>\n",
       "    <tr>\n",
       "      <th>2016-05-01</th>\n",
       "      <td>3.4</td>\n",
       "      <td>3.60</td>\n",
       "      <td>560697.0</td>\n",
       "      <td>292826.33</td>\n",
       "    </tr>\n",
       "    <tr>\n",
       "      <th>2016-06-01</th>\n",
       "      <td>3.4</td>\n",
       "      <td>3.57</td>\n",
       "      <td>560697.0</td>\n",
       "      <td>297963.33</td>\n",
       "    </tr>\n",
       "    <tr>\n",
       "      <th>2016-07-01</th>\n",
       "      <td>3.3</td>\n",
       "      <td>3.44</td>\n",
       "      <td>560697.0</td>\n",
       "      <td>301830.00</td>\n",
       "    </tr>\n",
       "    <tr>\n",
       "      <th>2016-08-01</th>\n",
       "      <td>3.3</td>\n",
       "      <td>3.43</td>\n",
       "      <td>560697.0</td>\n",
       "      <td>304584.00</td>\n",
       "    </tr>\n",
       "  </tbody>\n",
       "</table>\n",
       "</div>"
      ],
      "text/plain": [
       "            Unemployment Rate  Freddie Mac Rate  Median Population  \\\n",
       "Year-Month                                                           \n",
       "2016-04-01                3.5              3.66           560697.0   \n",
       "2016-05-01                3.4              3.60           560697.0   \n",
       "2016-06-01                3.4              3.57           560697.0   \n",
       "2016-07-01                3.3              3.44           560697.0   \n",
       "2016-08-01                3.3              3.43           560697.0   \n",
       "\n",
       "            Median Sale Price  \n",
       "Year-Month                     \n",
       "2016-04-01          286337.67  \n",
       "2016-05-01          292826.33  \n",
       "2016-06-01          297963.33  \n",
       "2016-07-01          301830.00  \n",
       "2016-08-01          304584.00  "
      ]
     },
     "execution_count": 88,
     "metadata": {},
     "output_type": "execute_result"
    }
   ],
   "source": [
    "analysis_df.head()"
   ]
  },
  {
   "cell_type": "code",
   "execution_count": 82,
   "metadata": {},
   "outputs": [],
   "source": [
    "analysis_unemp = analysis_df.iloc[:, 0]\n",
    "analysis_fmr = analysis_df.iloc[:, 1]\n",
    "analysis_pop = analysis_df.iloc[:, 3]\n",
    "analysis_msp = analysis_df.iloc[:, 4]"
   ]
  },
  {
   "cell_type": "markdown",
   "metadata": {},
   "source": [
    "### Correlations"
   ]
  },
  {
   "cell_type": "code",
   "execution_count": 83,
   "metadata": {},
   "outputs": [
    {
     "name": "stdout",
     "output_type": "stream",
     "text": [
      "Correlation between Unemployment Rate and Median Sale Price: 0.4756632334532904.\n",
      "Correlation between Freddie Mac Rate and Median Sale Price: -0.14960178473738905.\n",
      "Correlation between Population and Median Sale Price: 0.9502763818248099.\n"
     ]
    }
   ],
   "source": [
    "# Unemployment & MSP\n",
    "unemp_msp_cor = st.pearsonr(analysis_unemp,analysis_msp)\n",
    "print(f\"Correlation between Unemployment Rate and Median Sale Price: {unemp_msp_cor[0]}.\")\n",
    "\n",
    "# Freddie Mac & MSP\n",
    "fmr_msp_cor = st.pearsonr(analysis_fmr,analysis_msp)\n",
    "print(f\"Correlation between Freddie Mac Rate and Median Sale Price: {fmr_msp_cor[0]}.\")\n",
    "\n",
    "# Population & MSP\n",
    "pop_msp_cor = st.pearsonr(analysis_pop,analysis_msp)\n",
    "print(f\"Correlation between Population and Median Sale Price: {pop_msp_cor[0]}.\")"
   ]
  },
  {
   "cell_type": "markdown",
   "metadata": {},
   "source": [
    "### Scatter Plots"
   ]
  },
  {
   "cell_type": "markdown",
   "metadata": {},
   "source": [
    "#### Unemployment and Median Sale Price"
   ]
  },
  {
   "cell_type": "code",
   "execution_count": 84,
   "metadata": {},
   "outputs": [
    {
     "data": {
      "image/png": "[encoded data removed]",
      "text/plain": [
       "<Figure size 432x288 with 1 Axes>"
      ]
     },
     "metadata": {
      "needs_background": "light"
     },
     "output_type": "display_data"
    }
   ],
   "source": [
    "# Formula\n",
    "(slope, intercept, rvalue, pvalue, stderr) = linregress(analysis_unemp, analysis_msp)\n",
    "unemp_regress_values = analysis_unemp * slope + intercept\n",
    "\n",
    "# Line Equation\n",
    "unemp_line_eq = \"y = \" + str(round(slope,2)) + \"x + \" + str(round(intercept,2))\n",
    "\n",
    "# Plot\n",
    "plt.scatter(analysis_unemp, analysis_msp)\n",
    "plt.plot(analysis_unemp, unemp_regress_values, \"r-\")\n",
    "plt.title(\"Unemployment Rate and Median Sale Price\")\n",
    "plt.xlabel(\"Unempoyment Rate (%)\")\n",
    "plt.ylabel(\"Median Sale Price ($)\")\n",
    "plt.annotate(unemp_line_eq, (6, 340000))\n",
    "plt.tight_layout()\n",
    "plt.savefig(\"images/new_msp_unemp_cor.jpeg\")"
   ]
  },
  {
   "cell_type": "markdown",
   "metadata": {},
   "source": [
    "#### Freddie Mac Rate and Median Sale Price"
   ]
  },
  {
   "cell_type": "code",
   "execution_count": 85,
   "metadata": {},
   "outputs": [
    {
     "data": {
      "image/png": "[encoded data removed]",
      "text/plain": [
       "<Figure size 432x288 with 1 Axes>"
      ]
     },
     "metadata": {
      "needs_background": "light"
     },
     "output_type": "display_data"
    }
   ],
   "source": [
    "# Formula\n",
    "(slope, intercept, rvalue, pvalue, stderr) = linregress(analysis_fmr, analysis_msp)\n",
    "fmr_regress_values = analysis_fmr * slope + intercept\n",
    "\n",
    "# Line Equation\n",
    "fmr_line_eq = \"y = \" + str(round(slope,2)) + \"x + \" + str(round(intercept,2))\n",
    "\n",
    "# Plot\n",
    "plt.scatter(analysis_fmr, analysis_msp)\n",
    "plt.plot(analysis_fmr, fmr_regress_values, \"r-\")\n",
    "plt.title(\"Freddie Mac Rate and Median Sale Price\")\n",
    "plt.xlabel(\"Freddie Mac Rate (%)\")\n",
    "plt.ylabel(\"Median Sale Price ($)\")\n",
    "plt.annotate(fmr_line_eq, (3, 340000))\n",
    "plt.tight_layout()\n",
    "plt.savefig(\"images/new_fmr_msp_cor.jpeg\")"
   ]
  },
  {
   "cell_type": "markdown",
   "metadata": {},
   "source": [
    "#### Population and Median Sale Price"
   ]
  },
  {
   "cell_type": "code",
   "execution_count": 86,
   "metadata": {},
   "outputs": [
    {
     "data": {
      "image/png": "[encoded data removed]",
      "text/plain": [
       "<Figure size 432x288 with 1 Axes>"
      ]
     },
     "metadata": {
      "needs_background": "light"
     },
     "output_type": "display_data"
    }
   ],
   "source": [
    "# Formula\n",
    "(slope, intercept, rvalue, pvalue, stderr) = linregress(analysis_pop, analysis_msp)\n",
    "pop_regress_values = analysis_pop * slope + intercept\n",
    "\n",
    "# Line Equation\n",
    "pop_line_eq = \"y = \" + str(round(slope,2)) + \"x + \" + str(round(intercept,2))\n",
    "\n",
    "# Plot\n",
    "plt.scatter(analysis_pop, analysis_msp)\n",
    "plt.plot(analysis_pop, pop_regress_values, \"r-\")\n",
    "plt.title(\"Population and Median Sale Price\")\n",
    "plt.xlabel(\"Population Count\")\n",
    "plt.ylabel(\"Median Sale Price ($)\")\n",
    "plt.annotate(pop_line_eq, (580000, 300000))\n",
    "plt.tight_layout()\n",
    "plt.savefig(\"images/new_pop_msp_cor.jpeg\")"
   ]
  },
  {
   "cell_type": "markdown",
   "metadata": {},
   "source": [
    "### Line Charts - Over Time"
   ]
  },
  {
   "cell_type": "code",
   "execution_count": null,
   "metadata": {},
   "outputs": [],
   "source": [
    "analysis_df[\"Median Populat\"]"
   ]
  },
  {
   "cell_type": "code",
   "execution_count": 69,
   "metadata": {},
   "outputs": [
    {
     "data": {
      "image/png": "[encoded data removed]",
      "text/plain": [
       "<Figure size 432x288 with 1 Axes>"
      ]
     },
     "metadata": {
      "needs_background": "light"
     },
     "output_type": "display_data"
    }
   ],
   "source": [
    "analysis_df[\"Unemployment Rate\"].plot()\n",
    "plt.title(\"Unemployment: 2016-2020\")\n",
    "plt.ylabel(\"CO Unemployment (%)\")\n",
    "plt.savefig(\"images/unemployment_time.jpeg\")"
   ]
  },
  {
   "cell_type": "code",
   "execution_count": 70,
   "metadata": {},
   "outputs": [
    {
     "data": {
      "image/png": "[encoded data removed]",
      "text/plain": [
       "<Figure size 432x288 with 1 Axes>"
      ]
     },
     "metadata": {
      "needs_background": "light"
     },
     "output_type": "display_data"
    }
   ],
   "source": [
    "analysis_df[\"Median Sale Price\"].plot()\n",
    "plt.title(\"Median Sale Price: 2016-2020\")\n",
    "plt.ylabel(\"Median Sale Price ($)\")\n",
    "plt.savefig(\"images/median_sale_price_time.jpeg\")"
   ]
  },
  {
   "cell_type": "code",
   "execution_count": 71,
   "metadata": {},
   "outputs": [
    {
     "data": {
      "image/png": "[encoded data removed]",
      "text/plain": [
       "<Figure size 432x288 with 1 Axes>"
      ]
     },
     "metadata": {
      "needs_background": "light"
     },
     "output_type": "display_data"
    }
   ],
   "source": [
    "analysis_df[\"Freddie Mac Rate\"].plot()\n",
    "plt.title(\"Freddie Mac Rate: 2016-2020\")\n",
    "plt.ylabel(\"Freddie Mac Rate (%)\")\n",
    "plt.savefig(\"images/freddie_mac_time.jpeg\")"
   ]
  },
  {
   "cell_type": "code",
   "execution_count": 72,
   "metadata": {},
   "outputs": [
    {
     "data": {
      "text/plain": [
       "Text(0.5, 1.0, 'Wells Fargo Rate: 2016-2020')"
      ]
     },
     "execution_count": 72,
     "metadata": {},
     "output_type": "execute_result"
    },
    {
     "data": {
      "image/png": "[encoded data removed]",
      "text/plain": [
       "<Figure size 432x288 with 1 Axes>"
      ]
     },
     "metadata": {
      "needs_background": "light"
     },
     "output_type": "display_data"
    }
   ],
   "source": [
    "analysis_df[\"Wells Fargo Rate\"].plot()\n",
    "plt.title(\"Wells Fargo Rate: 2016-2020\")"
   ]
  },
  {
   "cell_type": "markdown",
   "metadata": {},
   "source": [
    "### Boxplots: Regions"
   ]
  },
  {
   "cell_type": "code",
   "execution_count": 73,
   "metadata": {},
   "outputs": [
    {
     "data": {
      "text/plain": [
       "Text(0.5, 1.0, '')"
      ]
     },
     "execution_count": 73,
     "metadata": {},
     "output_type": "execute_result"
    },
    {
     "data": {
      "image/png": "[encoded data removed]",
      "text/plain": [
       "<Figure size 432x288 with 1 Axes>"
      ]
     },
     "metadata": {
      "needs_background": "light"
     },
     "output_type": "display_data"
    }
   ],
   "source": [
    "denver_ssam = ssam_df[ssam_df[\"Region Name\"].str.contains(\"Denver\")].groupby(\"Year-Month\").first()\n",
    "denver_ssam.boxplot(by=\"Year\", column=\"Value\").set_title(\"\")"
   ]
  },
  {
   "cell_type": "code",
   "execution_count": null,
   "metadata": {},
   "outputs": [],
   "source": []
  },
  {
   "cell_type": "code",
   "execution_count": null,
   "metadata": {},
   "outputs": [],
   "source": []
  },
  {
   "cell_type": "code",
   "execution_count": null,
   "metadata": {},
   "outputs": [],
   "source": []
  },
  {
   "cell_type": "code",
   "execution_count": null,
   "metadata": {},
   "outputs": [],
   "source": [
    "ssam_df_single.head()"
   ]
  },
  {
   "cell_type": "code",
   "execution_count": null,
   "metadata": {},
   "outputs": [],
   "source": [
    "all_unemp_x = ssam_df_single[\"Unemployment Rate\"]\n",
    "all_value_y = ssam_df_single[\"Value\"]\n",
    "\n",
    "all_correlation = st.pearsonr(all_unemp_x,all_value_y)\n",
    "print(f\"The correlation between the unemployment rate and median sale price is: {all_correlation[0]}.\")\n",
    "\n",
    "all_unemp_val_cor = ssam_df_single[[\"Unemployment Rate\", \"Value\"]]\n",
    "all_unemp_val_cor.plot(\"Unemployment Rate\", \"Value\", kind=\"scatter\")\n",
    "plt.title(\"Unemployment and Median Sale Price - All Homes\")\n",
    "plt.show()"
   ]
  },
  {
   "cell_type": "code",
   "execution_count": null,
   "metadata": {},
   "outputs": [],
   "source": [
    "all_ssam_box_value = ssam_df_single.boxplot(by=\"Region Name\", column=\"Value\").set_title(\"\")"
   ]
  },
  {
   "cell_type": "code",
   "execution_count": null,
   "metadata": {},
   "outputs": [],
   "source": [
    "test = ssam_df_single.groupby(\"Year\")[\"Value\"]"
   ]
  },
  {
   "cell_type": "code",
   "execution_count": null,
   "metadata": {},
   "outputs": [],
   "source": [
    "test.head()"
   ]
  },
  {
   "cell_type": "code",
   "execution_count": null,
   "metadata": {},
   "outputs": [],
   "source": [
    "# all_ssam_box_unemp = ssam_df_single.boxplot(by=\"Region Name\", column=\"Unemployment Rate\").set_title(\"\")"
   ]
  },
  {
   "cell_type": "code",
   "execution_count": null,
   "metadata": {},
   "outputs": [],
   "source": [
    "all_ssam_box_value_year = ssam_df_single.boxplot(by=\"Year\", column=\"Value\").set_title(\"\")"
   ]
  },
  {
   "cell_type": "code",
   "execution_count": null,
   "metadata": {},
   "outputs": [],
   "source": [
    "all_ssam_box_unemp_year = ssam_df_single.boxplot(by=\"Year\", column=\"Unemployment Rate\").set_title(\"\")"
   ]
  },
  {
   "cell_type": "markdown",
   "metadata": {},
   "source": [
    "### Findings - All Regions SSAMs\n",
    "\n",
    "Median Sale Price is at an all-time high from 2016 to 2020, even when employment rate is at a high from 2016 to 2020. "
   ]
  },
  {
   "cell_type": "markdown",
   "metadata": {},
   "source": [
    "## SSAMs Variables by Region Name"
   ]
  },
  {
   "cell_type": "code",
   "execution_count": null,
   "metadata": {
    "scrolled": true
   },
   "outputs": [],
   "source": [
    "# Denver SSAM\n",
    "\n",
    "denver_ssam = ssam_df[ssam_df[\"Region Name\"].str.contains(\"Denver\")].groupby(\"Year-Month\").first()"
   ]
  },
  {
   "cell_type": "code",
   "execution_count": null,
   "metadata": {},
   "outputs": [],
   "source": [
    "# Colorado Springs SSAM\n",
    "co_springs_ssam = ssam_df[ssam_df[\"Region Name\"].str.contains(\"Colorado Springs\")].groupby(\"Year-Month\").first()"
   ]
  },
  {
   "cell_type": "code",
   "execution_count": null,
   "metadata": {},
   "outputs": [],
   "source": [
    "# Greeley SSAM\n",
    "greeley_ssam = ssam_df[ssam_df[\"Region Name\"].str.contains(\"Greeley\")].groupby(\"Year-Month\").first()"
   ]
  },
  {
   "cell_type": "markdown",
   "metadata": {},
   "source": [
    "## SSAM Graphs / Correlations"
   ]
  },
  {
   "cell_type": "markdown",
   "metadata": {},
   "source": [
    "#### Denver, CO"
   ]
  },
  {
   "cell_type": "code",
   "execution_count": null,
   "metadata": {},
   "outputs": [],
   "source": [
    "denver_ssam.head()"
   ]
  },
  {
   "cell_type": "code",
   "execution_count": null,
   "metadata": {},
   "outputs": [],
   "source": [
    "# Set x,y for correlation and scatter\n",
    "den_unemp_x = denver_ssam[\"Unemployment Rate\"]\n",
    "den_value_y = denver_ssam[\"Value\"]\n",
    "\n",
    "# Calc correlation\n",
    "denver_correlation = st.pearsonr(den_unemp_x,den_value_y)\n",
    "print(f\"The correlation between the unemployment rate and median sale price is: {denver_correlation[0]}.\")\n",
    "\n",
    "# Plot\n",
    "unemp_value_df = denver_ssam[[\"Unemployment Rate\", \"Value\"]]\n",
    "unemp_value_df.plot(\"Unemployment Rate\", \"Value\", kind=\"scatter\")\n",
    "plt.title(\"Denver (2016-2020) \\n Unemployment and Median Sale Price - All Homes\")\n",
    "plt.show()"
   ]
  },
  {
   "cell_type": "markdown",
   "metadata": {},
   "source": [
    "#### Denver, SSAM Pre-COVID"
   ]
  },
  {
   "cell_type": "code",
   "execution_count": null,
   "metadata": {},
   "outputs": [],
   "source": [
    "# Pre-COVID\n",
    "\n",
    "denver_ssam_pre19 = ssam_df[(ssam_df[\"Region Name\"].str.contains(\"Denver\")) & (ssam_df[\"Year-Month\"] < \"2020-03-01\")].groupby(\"Year-Month\").first()"
   ]
  },
  {
   "cell_type": "code",
   "execution_count": null,
   "metadata": {},
   "outputs": [],
   "source": [
    "# Set x,y for correlation and scatter\n",
    "pre19_den_unemp_x = denver_ssam_pre19[\"Unemployment Rate\"]\n",
    "pre19_den_value_y = denver_ssam_pre19[\"Value\"]\n",
    "\n",
    "# Calc correlation\n",
    "pre19_denver_correlation = st.pearsonr(pre19_den_unemp_x,pre19_den_value_y)\n",
    "print(f\"The correlation between the unemployment rate and median sale price is: {pre19_denver_correlation[0]}.\")\n",
    "\n",
    "# Formula\n",
    "(slope, intercept, rvalue, pvalue, stderr) = linregress(pre19_den_unemp_x, pre19_den_value_y)\n",
    "den_regress_values = pre19_den_unemp_x * slope + intercept\n",
    "\n",
    "# Plot\n",
    "plt.scatter(pre19_den_unemp_x, pre19_den_value_y)\n",
    "plt.plot(pre19_den_unemp_x, den_regress_values, \"r-\")\n",
    "\n",
    "\n",
    "# Line Equation\n",
    "# greeley_line_eq = \"y = \" + str(round(slope,2)) + \"x + \" + str(round(intercept,2))\n",
    "\n",
    "# Design Plot\n",
    "# plt.annotate(greeley_line_eq,(6, 280000),fontsize=15,color=\"red\")\n",
    "plt.title(\"Denver - Pre COVID \\n Unemploment % vs. Median Sale Price\")\n",
    "plt.xlabel(\"Unemployment %\")\n",
    "plt.ylabel('Median Sale Price')\n",
    "\n",
    "# Show\n",
    "plt.tight_layout()\n",
    "plt.savefig(\"images/pre-covid_denver_ssam_unemp.jpeg\")"
   ]
  },
  {
   "cell_type": "code",
   "execution_count": null,
   "metadata": {},
   "outputs": [],
   "source": []
  },
  {
   "cell_type": "markdown",
   "metadata": {},
   "source": [
    "#### Denver, SSAM During COVID"
   ]
  },
  {
   "cell_type": "code",
   "execution_count": null,
   "metadata": {},
   "outputs": [],
   "source": [
    "denver_ssam_dur19 = ssam_df[(ssam_df[\"Region Name\"].str.contains(\"Denver\")) & (ssam_df[\"Year-Month\"] >= \"2020-03-01\")].groupby(\"Year-Month\").first()"
   ]
  },
  {
   "cell_type": "code",
   "execution_count": null,
   "metadata": {},
   "outputs": [],
   "source": [
    "# Set x,y for correlation and scatter\n",
    "dur19_den_unemp_x = denver_ssam_dur19[\"Unemployment Rate\"]\n",
    "dur19_den_value_y = denver_ssam_dur19[\"Value\"]\n",
    "\n",
    "# Calc correlation\n",
    "dur19_denver_correlation = st.pearsonr(dur19_den_unemp_x,dur19_den_value_y)\n",
    "print(f\"The correlation between the unemployment rate and median sale price is: {dur19_denver_correlation[0]}.\")\n",
    "\n",
    "# Plot\n",
    "denver_ssam_dur19 = denver_ssam_dur19[[\"Unemployment Rate\", \"Value\"]]\n",
    "den_sam_scatter = denver_ssam_dur19.plot(\"Unemployment Rate\", \"Value\", kind=\"scatter\")\n",
    "plt.title(\"Denver During Covid \\n Unemployment and Median Sale Price - All Homes\")\n",
    "plt.tight_layout()\n",
    "plt.savefig(\"images/dur-covid_denver_ssam_unemp.jpeg\")"
   ]
  },
  {
   "cell_type": "markdown",
   "metadata": {},
   "source": [
    "### Findings: Unemployment and Median Sale Price - Denver\n",
    "\n",
    "There was weak negative correlation between unemployment rate and median sale price pre-COVID. However, during COVID-19, there is no correlation between unemployment rate and median sale price. "
   ]
  },
  {
   "cell_type": "code",
   "execution_count": null,
   "metadata": {},
   "outputs": [],
   "source": [
    "den_ssam_box = denver_ssam.boxplot(by=\"Year\", column=\"Value\").set_title(\"\")\n",
    "plt.ylabel(\"Denver Median Sale Price\")\n",
    "plt.show()"
   ]
  },
  {
   "cell_type": "code",
   "execution_count": null,
   "metadata": {},
   "outputs": [],
   "source": [
    "den_unemp_box = denver_ssam.boxplot(by=\"Year\", column=\"Unemployment Rate\").set_title(\"\")\n",
    "plt.ylabel(\"Denver Unemployment Rate\")\n",
    "plt.show()"
   ]
  },
  {
   "cell_type": "code",
   "execution_count": null,
   "metadata": {},
   "outputs": [],
   "source": []
  },
  {
   "cell_type": "code",
   "execution_count": null,
   "metadata": {},
   "outputs": [],
   "source": []
  },
  {
   "cell_type": "code",
   "execution_count": null,
   "metadata": {},
   "outputs": [],
   "source": []
  }
 ],
 "metadata": {
  "kernelspec": {
   "display_name": "Python [conda env:PythonData] *",
   "language": "python",
   "name": "conda-env-PythonData-py"
  },
  "language_info": {
   "codemirror_mode": {
    "name": "ipython",
    "version": 3
   },
   "file_extension": ".py",
   "mimetype": "text/x-python",
   "name": "python",
   "nbconvert_exporter": "python",
   "pygments_lexer": "ipython3",
   "version": "3.7.1"
  }
 },
 "nbformat": 4,
 "nbformat_minor": 4
}
