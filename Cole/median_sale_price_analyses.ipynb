{
 "cells": [
  {
   "cell_type": "code",
   "execution_count": 1,
   "metadata": {},
   "outputs": [],
   "source": [
    "import json\n",
    "import time\n",
    "import pandas as pd\n",
    "import requests\n",
    "import matplotlib.pyplot as plt\n",
    "import scipy.stats as st\n",
    "from scipy.stats import linregress\n",
    "from pprint import pprint\n",
    "import quandl\n",
    "from config import api_key\n",
    "import csv\n",
    "import os"
   ]
  },
  {
   "cell_type": "markdown",
   "metadata": {},
   "source": [
    "# Master Data - CSV"
   ]
  },
  {
   "cell_type": "code",
   "execution_count": 55,
   "metadata": {
    "scrolled": false
   },
   "outputs": [
    {
     "data": {
      "text/html": [
       "<div>\n",
       "<style scoped>\n",
       "    .dataframe tbody tr th:only-of-type {\n",
       "        vertical-align: middle;\n",
       "    }\n",
       "\n",
       "    .dataframe tbody tr th {\n",
       "        vertical-align: top;\n",
       "    }\n",
       "\n",
       "    .dataframe thead th {\n",
       "        text-align: right;\n",
       "    }\n",
       "</style>\n",
       "<table border=\"1\" class=\"dataframe\">\n",
       "  <thead>\n",
       "    <tr style=\"text-align: right;\">\n",
       "      <th></th>\n",
       "      <th>Year</th>\n",
       "      <th>Month</th>\n",
       "      <th>Year-Month</th>\n",
       "      <th>Date Zillow</th>\n",
       "      <th>Date Interest</th>\n",
       "      <th>Indicator ID</th>\n",
       "      <th>Indicator Name</th>\n",
       "      <th>Region ID</th>\n",
       "      <th>Region Type</th>\n",
       "      <th>Region Name</th>\n",
       "      <th>Value</th>\n",
       "      <th>County Population</th>\n",
       "      <th>Unemployment Rate</th>\n",
       "      <th>Wells Fargo Rate</th>\n",
       "      <th>Freddie Mac Rate</th>\n",
       "    </tr>\n",
       "  </thead>\n",
       "  <tbody>\n",
       "    <tr>\n",
       "      <th>0</th>\n",
       "      <td>2016</td>\n",
       "      <td>Apr</td>\n",
       "      <td>2016-4</td>\n",
       "      <td>4/30/2016</td>\n",
       "      <td>4/28/2016</td>\n",
       "      <td>Z2BR</td>\n",
       "      <td>ZHVI 2-Bedroom Time Series ($)</td>\n",
       "      <td>753871</td>\n",
       "      <td>metro</td>\n",
       "      <td>Breckenridge, CO; CO</td>\n",
       "      <td>384884.0</td>\n",
       "      <td>30566.0</td>\n",
       "      <td>3.5</td>\n",
       "      <td>3.88</td>\n",
       "      <td>3.66</td>\n",
       "    </tr>\n",
       "    <tr>\n",
       "      <th>1</th>\n",
       "      <td>2016</td>\n",
       "      <td>Apr</td>\n",
       "      <td>2016-4</td>\n",
       "      <td>4/30/2016</td>\n",
       "      <td>4/28/2016</td>\n",
       "      <td>Z4BR</td>\n",
       "      <td>ZHVI 4-Bedroom Time Series ($)</td>\n",
       "      <td>753871</td>\n",
       "      <td>metro</td>\n",
       "      <td>Breckenridge, CO; CO</td>\n",
       "      <td>881951.0</td>\n",
       "      <td>30566.0</td>\n",
       "      <td>3.5</td>\n",
       "      <td>3.88</td>\n",
       "      <td>3.66</td>\n",
       "    </tr>\n",
       "    <tr>\n",
       "      <th>2</th>\n",
       "      <td>2016</td>\n",
       "      <td>Apr</td>\n",
       "      <td>2016-4</td>\n",
       "      <td>4/30/2016</td>\n",
       "      <td>4/28/2016</td>\n",
       "      <td>Z5BR</td>\n",
       "      <td>ZHVI 5+ Bedroom Time Series ($)</td>\n",
       "      <td>753871</td>\n",
       "      <td>metro</td>\n",
       "      <td>Breckenridge, CO; CO</td>\n",
       "      <td>1287769.0</td>\n",
       "      <td>30566.0</td>\n",
       "      <td>3.5</td>\n",
       "      <td>3.88</td>\n",
       "      <td>3.66</td>\n",
       "    </tr>\n",
       "    <tr>\n",
       "      <th>3</th>\n",
       "      <td>2016</td>\n",
       "      <td>Apr</td>\n",
       "      <td>2016-4</td>\n",
       "      <td>4/30/2016</td>\n",
       "      <td>4/28/2016</td>\n",
       "      <td>ZATT</td>\n",
       "      <td>ZHVI All Homes- Top Tier Time Series ($)</td>\n",
       "      <td>753871</td>\n",
       "      <td>metro</td>\n",
       "      <td>Breckenridge, CO; CO</td>\n",
       "      <td>842653.0</td>\n",
       "      <td>30566.0</td>\n",
       "      <td>3.5</td>\n",
       "      <td>3.88</td>\n",
       "      <td>3.66</td>\n",
       "    </tr>\n",
       "    <tr>\n",
       "      <th>4</th>\n",
       "      <td>2016</td>\n",
       "      <td>Apr</td>\n",
       "      <td>2016-4</td>\n",
       "      <td>4/30/2016</td>\n",
       "      <td>4/28/2016</td>\n",
       "      <td>Z1BR</td>\n",
       "      <td>ZHVI 1-Bedroom Time Series ($)</td>\n",
       "      <td>753871</td>\n",
       "      <td>metro</td>\n",
       "      <td>Breckenridge, CO; CO</td>\n",
       "      <td>243688.0</td>\n",
       "      <td>30566.0</td>\n",
       "      <td>3.5</td>\n",
       "      <td>3.88</td>\n",
       "      <td>3.66</td>\n",
       "    </tr>\n",
       "  </tbody>\n",
       "</table>\n",
       "</div>"
      ],
      "text/plain": [
       "   Year Month Year-Month Date Zillow Date Interest Indicator ID  \\\n",
       "0  2016   Apr     2016-4   4/30/2016     4/28/2016         Z2BR   \n",
       "1  2016   Apr     2016-4   4/30/2016     4/28/2016         Z4BR   \n",
       "2  2016   Apr     2016-4   4/30/2016     4/28/2016         Z5BR   \n",
       "3  2016   Apr     2016-4   4/30/2016     4/28/2016         ZATT   \n",
       "4  2016   Apr     2016-4   4/30/2016     4/28/2016         Z1BR   \n",
       "\n",
       "                             Indicator Name  Region ID Region Type  \\\n",
       "0            ZHVI 2-Bedroom Time Series ($)     753871       metro   \n",
       "1            ZHVI 4-Bedroom Time Series ($)     753871       metro   \n",
       "2           ZHVI 5+ Bedroom Time Series ($)     753871       metro   \n",
       "3  ZHVI All Homes- Top Tier Time Series ($)     753871       metro   \n",
       "4            ZHVI 1-Bedroom Time Series ($)     753871       metro   \n",
       "\n",
       "            Region Name      Value  County Population  Unemployment Rate  \\\n",
       "0  Breckenridge, CO; CO   384884.0            30566.0                3.5   \n",
       "1  Breckenridge, CO; CO   881951.0            30566.0                3.5   \n",
       "2  Breckenridge, CO; CO  1287769.0            30566.0                3.5   \n",
       "3  Breckenridge, CO; CO   842653.0            30566.0                3.5   \n",
       "4  Breckenridge, CO; CO   243688.0            30566.0                3.5   \n",
       "\n",
       "   Wells Fargo Rate  Freddie Mac Rate  \n",
       "0              3.88              3.66  \n",
       "1              3.88              3.66  \n",
       "2              3.88              3.66  \n",
       "3              3.88              3.66  \n",
       "4              3.88              3.66  "
      ]
     },
     "execution_count": 55,
     "metadata": {},
     "output_type": "execute_result"
    }
   ],
   "source": [
    "master_data_path = os.path.join(\"..\", \"..\", \"data\", \"project_one_data\", \"master_data_cleaned.csv\")\n",
    "master_data_df = pd.read_csv(master_data_path)\n",
    "master_data_df.head()"
   ]
  },
  {
   "cell_type": "markdown",
   "metadata": {},
   "source": [
    "# SSAM - Median Prices, All Homes"
   ]
  },
  {
   "cell_type": "code",
   "execution_count": 52,
   "metadata": {},
   "outputs": [],
   "source": [
    "# Look at SSAM - All Homes Monthly\n",
    "ssam_df = master_data_df[master_data_df[\"Indicator ID\"] == \"SSAM\"]"
   ]
  },
  {
   "cell_type": "markdown",
   "metadata": {},
   "source": [
    "# SSSM - Median Prices, Single Family Residence\n",
    "\n",
    "This section looks at all single family residence median prices over time from April 2016 to August 2020. "
   ]
  },
  {
   "cell_type": "markdown",
   "metadata": {},
   "source": [
    "## Master SSSM DataFrame"
   ]
  },
  {
   "cell_type": "code",
   "execution_count": 59,
   "metadata": {},
   "outputs": [
    {
     "data": {
      "text/html": [
       "<div>\n",
       "<style scoped>\n",
       "    .dataframe tbody tr th:only-of-type {\n",
       "        vertical-align: middle;\n",
       "    }\n",
       "\n",
       "    .dataframe tbody tr th {\n",
       "        vertical-align: top;\n",
       "    }\n",
       "\n",
       "    .dataframe thead th {\n",
       "        text-align: right;\n",
       "    }\n",
       "</style>\n",
       "<table border=\"1\" class=\"dataframe\">\n",
       "  <thead>\n",
       "    <tr style=\"text-align: right;\">\n",
       "      <th></th>\n",
       "      <th>Year</th>\n",
       "      <th>Month</th>\n",
       "      <th>Year-Month</th>\n",
       "      <th>Date Zillow</th>\n",
       "      <th>Date Interest</th>\n",
       "      <th>Indicator ID</th>\n",
       "      <th>Indicator Name</th>\n",
       "      <th>Region ID</th>\n",
       "      <th>Region Type</th>\n",
       "      <th>Region Name</th>\n",
       "      <th>Value</th>\n",
       "      <th>County Population</th>\n",
       "      <th>Unemployment Rate</th>\n",
       "      <th>Wells Fargo Rate</th>\n",
       "      <th>Freddie Mac Rate</th>\n",
       "    </tr>\n",
       "  </thead>\n",
       "  <tbody>\n",
       "    <tr>\n",
       "      <th>411</th>\n",
       "      <td>2016</td>\n",
       "      <td>Apr</td>\n",
       "      <td>2016-4</td>\n",
       "      <td>4/30/2016</td>\n",
       "      <td>4/28/2016</td>\n",
       "      <td>SSSM</td>\n",
       "      <td>Median Sale Price (Smooth, SFR only, Monthly)</td>\n",
       "      <td>394484</td>\n",
       "      <td>metro</td>\n",
       "      <td>Colorado Springs, CO</td>\n",
       "      <td>249350.0</td>\n",
       "      <td>689481.0</td>\n",
       "      <td>3.5</td>\n",
       "      <td>3.88</td>\n",
       "      <td>3.66</td>\n",
       "    </tr>\n",
       "    <tr>\n",
       "      <th>558</th>\n",
       "      <td>2016</td>\n",
       "      <td>May</td>\n",
       "      <td>2016-5</td>\n",
       "      <td>5/31/2016</td>\n",
       "      <td>5/5/2016</td>\n",
       "      <td>SSSM</td>\n",
       "      <td>Median Sale Price (Smooth, SFR only, Monthly)</td>\n",
       "      <td>394484</td>\n",
       "      <td>metro</td>\n",
       "      <td>Colorado Springs, CO</td>\n",
       "      <td>254975.0</td>\n",
       "      <td>689481.0</td>\n",
       "      <td>3.4</td>\n",
       "      <td>3.75</td>\n",
       "      <td>3.61</td>\n",
       "    </tr>\n",
       "    <tr>\n",
       "      <th>559</th>\n",
       "      <td>2016</td>\n",
       "      <td>May</td>\n",
       "      <td>2016-5</td>\n",
       "      <td>5/31/2016</td>\n",
       "      <td>5/12/2016</td>\n",
       "      <td>SSSM</td>\n",
       "      <td>Median Sale Price (Smooth, SFR only, Monthly)</td>\n",
       "      <td>394484</td>\n",
       "      <td>metro</td>\n",
       "      <td>Colorado Springs, CO</td>\n",
       "      <td>254975.0</td>\n",
       "      <td>689481.0</td>\n",
       "      <td>3.4</td>\n",
       "      <td>3.75</td>\n",
       "      <td>3.57</td>\n",
       "    </tr>\n",
       "    <tr>\n",
       "      <th>560</th>\n",
       "      <td>2016</td>\n",
       "      <td>May</td>\n",
       "      <td>2016-5</td>\n",
       "      <td>5/31/2016</td>\n",
       "      <td>5/19/2016</td>\n",
       "      <td>SSSM</td>\n",
       "      <td>Median Sale Price (Smooth, SFR only, Monthly)</td>\n",
       "      <td>394484</td>\n",
       "      <td>metro</td>\n",
       "      <td>Colorado Springs, CO</td>\n",
       "      <td>254975.0</td>\n",
       "      <td>689481.0</td>\n",
       "      <td>3.4</td>\n",
       "      <td>3.88</td>\n",
       "      <td>3.58</td>\n",
       "    </tr>\n",
       "    <tr>\n",
       "      <th>561</th>\n",
       "      <td>2016</td>\n",
       "      <td>May</td>\n",
       "      <td>2016-5</td>\n",
       "      <td>5/31/2016</td>\n",
       "      <td>5/26/2016</td>\n",
       "      <td>SSSM</td>\n",
       "      <td>Median Sale Price (Smooth, SFR only, Monthly)</td>\n",
       "      <td>394484</td>\n",
       "      <td>metro</td>\n",
       "      <td>Colorado Springs, CO</td>\n",
       "      <td>254975.0</td>\n",
       "      <td>689481.0</td>\n",
       "      <td>3.4</td>\n",
       "      <td>3.88</td>\n",
       "      <td>3.64</td>\n",
       "    </tr>\n",
       "  </tbody>\n",
       "</table>\n",
       "</div>"
      ],
      "text/plain": [
       "     Year Month Year-Month Date Zillow Date Interest Indicator ID  \\\n",
       "411  2016   Apr     2016-4   4/30/2016     4/28/2016         SSSM   \n",
       "558  2016   May     2016-5   5/31/2016      5/5/2016         SSSM   \n",
       "559  2016   May     2016-5   5/31/2016     5/12/2016         SSSM   \n",
       "560  2016   May     2016-5   5/31/2016     5/19/2016         SSSM   \n",
       "561  2016   May     2016-5   5/31/2016     5/26/2016         SSSM   \n",
       "\n",
       "                                    Indicator Name  Region ID Region Type  \\\n",
       "411  Median Sale Price (Smooth, SFR only, Monthly)     394484       metro   \n",
       "558  Median Sale Price (Smooth, SFR only, Monthly)     394484       metro   \n",
       "559  Median Sale Price (Smooth, SFR only, Monthly)     394484       metro   \n",
       "560  Median Sale Price (Smooth, SFR only, Monthly)     394484       metro   \n",
       "561  Median Sale Price (Smooth, SFR only, Monthly)     394484       metro   \n",
       "\n",
       "              Region Name     Value  County Population  Unemployment Rate  \\\n",
       "411  Colorado Springs, CO  249350.0           689481.0                3.5   \n",
       "558  Colorado Springs, CO  254975.0           689481.0                3.4   \n",
       "559  Colorado Springs, CO  254975.0           689481.0                3.4   \n",
       "560  Colorado Springs, CO  254975.0           689481.0                3.4   \n",
       "561  Colorado Springs, CO  254975.0           689481.0                3.4   \n",
       "\n",
       "     Wells Fargo Rate  Freddie Mac Rate  \n",
       "411              3.88              3.66  \n",
       "558              3.75              3.61  \n",
       "559              3.75              3.57  \n",
       "560              3.88              3.58  \n",
       "561              3.88              3.64  "
      ]
     },
     "execution_count": 59,
     "metadata": {},
     "output_type": "execute_result"
    }
   ],
   "source": [
    "# Look at SSSM - SFR Only\n",
    "sssm_df = master_data_df[master_data_df[\"Indicator ID\"] == \"SSSM\"]\n",
    "sssm_df.head()"
   ]
  },
  {
   "cell_type": "code",
   "execution_count": null,
   "metadata": {},
   "outputs": [],
   "source": []
  },
  {
   "cell_type": "code",
   "execution_count": 43,
   "metadata": {
    "scrolled": true
   },
   "outputs": [],
   "source": [
    "sssm_all = master_data_df[(master_data_df[\"Indicator ID\"] ==\"SSSM\")]\n",
    "sssm_all = sssm_all.sort_values(\"Year-Month\")\n",
    "sssm_all = sssm_all.groupby(\"Year-Month\").first()"
   ]
  },
  {
   "cell_type": "code",
   "execution_count": 44,
   "metadata": {},
   "outputs": [
    {
     "name": "stdout",
     "output_type": "stream",
     "text": [
      "The correlation between the unemployment rate and median sale price is: 0.3214883502129601.\n",
      "P-Value is: 0.018907369025041733.\n"
     ]
    }
   ],
   "source": [
    "all_sssm_unemp_x = sssm_all[\"Unemployment Rate\"]\n",
    "all_sssm_value_y = sssm_all[\"Value\"]\n",
    "\n",
    "correlation = st.pearsonr(all_sssm_unemp_x,all_sssm_value_y)\n",
    "print(f\"The correlation between the unemployment rate and median sale price is: {correlation[0]}.\")\n",
    "print(f\"P-Value is: {correlation[1]}.\")"
   ]
  },
  {
   "cell_type": "code",
   "execution_count": 45,
   "metadata": {},
   "outputs": [
    {
     "name": "stdout",
     "output_type": "stream",
     "text": [
      "The correlation between the unemployment rate and median sale price is: -0.4809874842567612.\n",
      "P-Value is: 0.00026668296365345615.\n"
     ]
    }
   ],
   "source": [
    "all_sssm_unemp_x = sssm_all[\"Unemployment Rate\"]\n",
    "all_sssm_fmr_y = sssm_all[\"Freddie Mac Rate\"]\n",
    "\n",
    "correlation = st.pearsonr(all_sssm_unemp_x,all_sssm_fmr_y)\n",
    "print(f\"The correlation between the unemployment rate and median sale price is: {correlation[0]}.\")\n",
    "print(f\"P-Value is: {correlation[1]}.\")"
   ]
  },
  {
   "cell_type": "code",
   "execution_count": null,
   "metadata": {},
   "outputs": [],
   "source": []
  },
  {
   "cell_type": "code",
   "execution_count": null,
   "metadata": {},
   "outputs": [],
   "source": []
  },
  {
   "cell_type": "code",
   "execution_count": null,
   "metadata": {
    "scrolled": false
   },
   "outputs": [],
   "source": []
  },
  {
   "cell_type": "code",
   "execution_count": null,
   "metadata": {},
   "outputs": [],
   "source": []
  },
  {
   "cell_type": "markdown",
   "metadata": {},
   "source": [
    "### Correlation: All Unemployed, Median Sale Price"
   ]
  },
  {
   "cell_type": "code",
   "execution_count": 42,
   "metadata": {},
   "outputs": [
    {
     "name": "stdout",
     "output_type": "stream",
     "text": [
      "The correlation between the unemployment rate and median sale price is: 0.24332148502681336.\n",
      "P-Value is: 1.6353361929322935e-10.\n"
     ]
    }
   ],
   "source": [
    "all_sssm_unemp_x = sssm_df[\"Unemployment Rate\"]\n",
    "all_sssm_value_y = sssm_df[\"Value\"]\n",
    "\n",
    "correlation = st.pearsonr(all_sssm_unemp_x,all_sssm_value_y)\n",
    "print(f\"The correlation between the unemployment rate and median sale price is: {correlation[0]}.\")\n",
    "print(f\"P-Value is: {correlation[1]}.\")"
   ]
  },
  {
   "cell_type": "markdown",
   "metadata": {},
   "source": [
    "### Correlation: Greeley - Unemployed, Median Sale Price"
   ]
  },
  {
   "cell_type": "code",
   "execution_count": null,
   "metadata": {},
   "outputs": [],
   "source": [
    "sssm_df_greely = sssm_df[sssm_df[\"Region Name\"].str.contains(\"Greeley\")]"
   ]
  },
  {
   "cell_type": "code",
   "execution_count": null,
   "metadata": {},
   "outputs": [],
   "source": [
    "greeley_sssm_unemp_x = sssm_df_greely[\"Unemployment Rate\"]\n",
    "greeley_sssm_value_y = sssm_df_greely[\"Value\"]\n",
    "\n",
    "correlation = st.pearsonr(greeley_sssm_unemp_x,greeley_sssm_value_y)\n",
    "print(f\"The correlation between the unemployment rate and median sale price is: {correlation[0]}.\")\n",
    "print(f\"P-Value is: {correlation[1]}.\")"
   ]
  },
  {
   "cell_type": "code",
   "execution_count": null,
   "metadata": {},
   "outputs": [],
   "source": [
    "# Formula\n",
    "(slope, intercept, rvalue, pvalue, stderr) = linregress(greeley_sssm_unemp_x, greeley_sssm_value_y)\n",
    "greeley_regress_values = greeley_sssm_unemp_x * slope + intercept\n",
    "\n",
    "# Line Equation\n",
    "greeley_line_eq = \"y = \" + str(round(slope,2)) + \"x + \" + str(round(intercept,2))\n",
    "\n",
    "# Plot\n",
    "plt.scatter(greeley_sssm_unemp_x,greeley_sssm_value_y)\n",
    "plt.plot(greeley_sssm_unemp_x,greeley_regress_values,\"r-\")\n",
    "\n",
    "# Design Plot\n",
    "plt.annotate(greeley_line_eq,(6, 280000),fontsize=15,color=\"red\")\n",
    "plt.title(\"Greeley, CO \\n Unemploment % vs. Median Sale Price\")\n",
    "plt.xlabel(\"Unemployment %\")\n",
    "plt.ylabel('Median Sale Price')\n",
    "\n",
    "# Show\n",
    "plt.show()"
   ]
  },
  {
   "cell_type": "markdown",
   "metadata": {},
   "source": [
    "### Correlation: Colorado Springs - Unemployed, Median Sale Price"
   ]
  },
  {
   "cell_type": "code",
   "execution_count": 40,
   "metadata": {},
   "outputs": [],
   "source": [
    "sssm_df_cosprings = master_data_df[(master_data_df[\"Indicator ID\"] ==\"SSSM\") & master_data_df[\"Region Name\"].str.contains(\"Colorado Springs\")]\n",
    "sssm_df_cosprings = sssm_df_cosprings.groupby(\"Year-Month\").first()"
   ]
  },
  {
   "cell_type": "code",
   "execution_count": 41,
   "metadata": {},
   "outputs": [
    {
     "name": "stdout",
     "output_type": "stream",
     "text": [
      "The correlation between the unemployment rate and median sale price is: 0.5700668182323346.\n",
      "P-Value is: 8.357608436208383e-06.\n"
     ]
    }
   ],
   "source": [
    "cosprings_sssm_unemp_x = sssm_df_cosprings[\"Unemployment Rate\"]\n",
    "cosprings_sssm_value_y = sssm_df_cosprings[\"Value\"]\n",
    "\n",
    "correlation = st.pearsonr(cosprings_sssm_unemp_x,cosprings_sssm_value_y)\n",
    "print(f\"The correlation between the unemployment rate and median sale price is: {correlation[0]}.\")\n",
    "print(f\"P-Value is: {correlation[1]}.\")"
   ]
  },
  {
   "cell_type": "markdown",
   "metadata": {},
   "source": [
    "### Correlation: Denver - Unemployed, Median Sale Price"
   ]
  },
  {
   "cell_type": "code",
   "execution_count": 31,
   "metadata": {},
   "outputs": [],
   "source": [
    "sssm_denver_df = master_data_df[(master_data_df[\"Indicator ID\"] ==\"SSSM\") & master_data_df[\"Region Name\"].str.contains(\"Denver\") ]\n",
    "sssm_denver_df = sssm_denver_df.groupby(\"Year-Month\").first()"
   ]
  },
  {
   "cell_type": "code",
   "execution_count": 33,
   "metadata": {},
   "outputs": [
    {
     "name": "stdout",
     "output_type": "stream",
     "text": [
      "The correlation between the unemployment rate and median sale price is: 0.4386727635223719.\n",
      "P-Value is: 0.00101730212996578.\n"
     ]
    }
   ],
   "source": [
    "denver_sssm_unemp_x = sssm_denver_df[\"Unemployment Rate\"]\n",
    "denver_sssm_value_y = sssm_denver_df[\"Value\"]\n",
    "\n",
    "correlation = st.pearsonr(denver_sssm_unemp_x,denver_sssm_value_y)\n",
    "print(f\"The correlation between the unemployment rate and median sale price is: {correlation[0]}.\")\n",
    "print(f\"P-Value is: {correlation[1]}.\")"
   ]
  },
  {
   "cell_type": "code",
   "execution_count": null,
   "metadata": {},
   "outputs": [],
   "source": []
  },
  {
   "cell_type": "code",
   "execution_count": null,
   "metadata": {},
   "outputs": [],
   "source": []
  },
  {
   "cell_type": "code",
   "execution_count": null,
   "metadata": {},
   "outputs": [],
   "source": [
    "# No Data on SSSM for Breckenridge, CO\n",
    "# sssm_df_breck = sssm_df[sssm_df[\"Region Name\"].str.contains(\"Breckenridge\")]\n",
    "# sssm_df_breck\n",
    "# sssm_df[\"Region Name\"].unique()"
   ]
  },
  {
   "cell_type": "code",
   "execution_count": null,
   "metadata": {},
   "outputs": [],
   "source": []
  },
  {
   "cell_type": "code",
   "execution_count": 46,
   "metadata": {},
   "outputs": [],
   "source": [
    "# sssm_greeley_scatter = sssm_df_greely.plot(\"Unemployment Rate\", \"Value\", kind=\"scatter\")\n",
    "\n",
    "# # Find Correlation\n",
    "# correlation = st.pearsonr(greeley_unem_x,greeley_value_y)\n",
    "# print(f\"The correlation between the unemployment rate and median sale price value in Greeley, CO is: {correlation[0]}.\")\n",
    "# print(f\"P-Value is: {correlation[1]}.\")\n",
    "\n",
    "# # FIND LINEAR REGRESSION\n",
    "# greeley_unem_x = sssm_df_greely[\"Unemployment Rate\"]\n",
    "# greeley_value_y = sssm_df_greely[\"Value\"]\n",
    "\n",
    "# # Formula\n",
    "# (slope, intercept, rvalue, pvalue, stderr) = linregress(greeley_unem_x, greeley_value_y)\n",
    "# greeley_regress_values = greeley_unem_x * slope + intercept\n",
    "\n",
    "# # Line Equation\n",
    "# greeley_line_eq = \"y = \" + str(round(slope,2)) + \"x + \" + str(round(intercept,2))\n",
    "\n",
    "# # Plot\n",
    "# plt.scatter(greeley_unem_x,greeley_value_y)\n",
    "# plt.plot(greeley_unem_x,greeley_regress_values,\"r-\")\n",
    "\n",
    "# # Design Plot\n",
    "# plt.annotate(greeley_line_eq,(6, 280000),fontsize=15,color=\"red\")\n",
    "# plt.xlabel(\"Unemployment %\")\n",
    "# plt.ylabel('Median Sale Price')\n",
    "\n",
    "# # Show\n",
    "# plt.show()"
   ]
  },
  {
   "cell_type": "code",
   "execution_count": null,
   "metadata": {},
   "outputs": [],
   "source": []
  },
  {
   "cell_type": "code",
   "execution_count": null,
   "metadata": {},
   "outputs": [],
   "source": []
  }
 ],
 "metadata": {
  "kernelspec": {
   "display_name": "Python [conda env:PythonData] *",
   "language": "python",
   "name": "conda-env-PythonData-py"
  },
  "language_info": {
   "codemirror_mode": {
    "name": "ipython",
    "version": 3
   },
   "file_extension": ".py",
   "mimetype": "text/x-python",
   "name": "python",
   "nbconvert_exporter": "python",
   "pygments_lexer": "ipython3",
   "version": "3.7.1"
  }
 },
 "nbformat": 4,
 "nbformat_minor": 4
}
