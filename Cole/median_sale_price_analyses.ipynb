{
 "cells": [
  {
   "cell_type": "code",
   "execution_count": 1,
   "metadata": {},
   "outputs": [],
   "source": [
    "import json\n",
    "import time\n",
    "import pandas as pd\n",
    "import requests\n",
    "import matplotlib.pyplot as plt\n",
    "import scipy.stats as st\n",
    "from scipy.stats import linregress\n",
    "from pprint import pprint\n",
    "import quandl\n",
    "from config import api_key\n",
    "import csv\n",
    "import os"
   ]
  },
  {
   "cell_type": "markdown",
   "metadata": {},
   "source": [
    "# Master Data - CSV"
   ]
  },
  {
   "cell_type": "code",
   "execution_count": 2,
   "metadata": {
    "scrolled": false
   },
   "outputs": [
    {
     "data": {
      "text/html": [
       "<div>\n",
       "<style scoped>\n",
       "    .dataframe tbody tr th:only-of-type {\n",
       "        vertical-align: middle;\n",
       "    }\n",
       "\n",
       "    .dataframe tbody tr th {\n",
       "        vertical-align: top;\n",
       "    }\n",
       "\n",
       "    .dataframe thead th {\n",
       "        text-align: right;\n",
       "    }\n",
       "</style>\n",
       "<table border=\"1\" class=\"dataframe\">\n",
       "  <thead>\n",
       "    <tr style=\"text-align: right;\">\n",
       "      <th></th>\n",
       "      <th>Year</th>\n",
       "      <th>Month</th>\n",
       "      <th>Year-Month</th>\n",
       "      <th>Date Zillow</th>\n",
       "      <th>Date Interest</th>\n",
       "      <th>Indicator ID</th>\n",
       "      <th>Indicator Name</th>\n",
       "      <th>Region ID</th>\n",
       "      <th>Region Type</th>\n",
       "      <th>Region Name</th>\n",
       "      <th>Value</th>\n",
       "      <th>County Population</th>\n",
       "      <th>Unemployment Rate</th>\n",
       "      <th>Wells Fargo Rate</th>\n",
       "      <th>Freddie Mac Rate</th>\n",
       "    </tr>\n",
       "  </thead>\n",
       "  <tbody>\n",
       "    <tr>\n",
       "      <th>0</th>\n",
       "      <td>2016</td>\n",
       "      <td>Apr</td>\n",
       "      <td>2016-4</td>\n",
       "      <td>4/30/2016</td>\n",
       "      <td>4/28/2016</td>\n",
       "      <td>Z2BR</td>\n",
       "      <td>ZHVI 2-Bedroom Time Series ($)</td>\n",
       "      <td>753871</td>\n",
       "      <td>metro</td>\n",
       "      <td>Breckenridge, CO; CO</td>\n",
       "      <td>384884.0</td>\n",
       "      <td>30566.0</td>\n",
       "      <td>3.5</td>\n",
       "      <td>3.88</td>\n",
       "      <td>3.66</td>\n",
       "    </tr>\n",
       "    <tr>\n",
       "      <th>1</th>\n",
       "      <td>2016</td>\n",
       "      <td>Apr</td>\n",
       "      <td>2016-4</td>\n",
       "      <td>4/30/2016</td>\n",
       "      <td>4/28/2016</td>\n",
       "      <td>Z4BR</td>\n",
       "      <td>ZHVI 4-Bedroom Time Series ($)</td>\n",
       "      <td>753871</td>\n",
       "      <td>metro</td>\n",
       "      <td>Breckenridge, CO; CO</td>\n",
       "      <td>881951.0</td>\n",
       "      <td>30566.0</td>\n",
       "      <td>3.5</td>\n",
       "      <td>3.88</td>\n",
       "      <td>3.66</td>\n",
       "    </tr>\n",
       "    <tr>\n",
       "      <th>2</th>\n",
       "      <td>2016</td>\n",
       "      <td>Apr</td>\n",
       "      <td>2016-4</td>\n",
       "      <td>4/30/2016</td>\n",
       "      <td>4/28/2016</td>\n",
       "      <td>Z5BR</td>\n",
       "      <td>ZHVI 5+ Bedroom Time Series ($)</td>\n",
       "      <td>753871</td>\n",
       "      <td>metro</td>\n",
       "      <td>Breckenridge, CO; CO</td>\n",
       "      <td>1287769.0</td>\n",
       "      <td>30566.0</td>\n",
       "      <td>3.5</td>\n",
       "      <td>3.88</td>\n",
       "      <td>3.66</td>\n",
       "    </tr>\n",
       "    <tr>\n",
       "      <th>3</th>\n",
       "      <td>2016</td>\n",
       "      <td>Apr</td>\n",
       "      <td>2016-4</td>\n",
       "      <td>4/30/2016</td>\n",
       "      <td>4/28/2016</td>\n",
       "      <td>ZATT</td>\n",
       "      <td>ZHVI All Homes- Top Tier Time Series ($)</td>\n",
       "      <td>753871</td>\n",
       "      <td>metro</td>\n",
       "      <td>Breckenridge, CO; CO</td>\n",
       "      <td>842653.0</td>\n",
       "      <td>30566.0</td>\n",
       "      <td>3.5</td>\n",
       "      <td>3.88</td>\n",
       "      <td>3.66</td>\n",
       "    </tr>\n",
       "    <tr>\n",
       "      <th>4</th>\n",
       "      <td>2016</td>\n",
       "      <td>Apr</td>\n",
       "      <td>2016-4</td>\n",
       "      <td>4/30/2016</td>\n",
       "      <td>4/28/2016</td>\n",
       "      <td>Z1BR</td>\n",
       "      <td>ZHVI 1-Bedroom Time Series ($)</td>\n",
       "      <td>753871</td>\n",
       "      <td>metro</td>\n",
       "      <td>Breckenridge, CO; CO</td>\n",
       "      <td>243688.0</td>\n",
       "      <td>30566.0</td>\n",
       "      <td>3.5</td>\n",
       "      <td>3.88</td>\n",
       "      <td>3.66</td>\n",
       "    </tr>\n",
       "  </tbody>\n",
       "</table>\n",
       "</div>"
      ],
      "text/plain": [
       "   Year Month Year-Month Date Zillow Date Interest Indicator ID  \\\n",
       "0  2016   Apr     2016-4   4/30/2016     4/28/2016         Z2BR   \n",
       "1  2016   Apr     2016-4   4/30/2016     4/28/2016         Z4BR   \n",
       "2  2016   Apr     2016-4   4/30/2016     4/28/2016         Z5BR   \n",
       "3  2016   Apr     2016-4   4/30/2016     4/28/2016         ZATT   \n",
       "4  2016   Apr     2016-4   4/30/2016     4/28/2016         Z1BR   \n",
       "\n",
       "                             Indicator Name  Region ID Region Type  \\\n",
       "0            ZHVI 2-Bedroom Time Series ($)     753871       metro   \n",
       "1            ZHVI 4-Bedroom Time Series ($)     753871       metro   \n",
       "2           ZHVI 5+ Bedroom Time Series ($)     753871       metro   \n",
       "3  ZHVI All Homes- Top Tier Time Series ($)     753871       metro   \n",
       "4            ZHVI 1-Bedroom Time Series ($)     753871       metro   \n",
       "\n",
       "            Region Name      Value  County Population  Unemployment Rate  \\\n",
       "0  Breckenridge, CO; CO   384884.0            30566.0                3.5   \n",
       "1  Breckenridge, CO; CO   881951.0            30566.0                3.5   \n",
       "2  Breckenridge, CO; CO  1287769.0            30566.0                3.5   \n",
       "3  Breckenridge, CO; CO   842653.0            30566.0                3.5   \n",
       "4  Breckenridge, CO; CO   243688.0            30566.0                3.5   \n",
       "\n",
       "   Wells Fargo Rate  Freddie Mac Rate  \n",
       "0              3.88              3.66  \n",
       "1              3.88              3.66  \n",
       "2              3.88              3.66  \n",
       "3              3.88              3.66  \n",
       "4              3.88              3.66  "
      ]
     },
     "execution_count": 2,
     "metadata": {},
     "output_type": "execute_result"
    }
   ],
   "source": [
    "master_data_path = os.path.join(\"..\", \"..\", \"data\", \"project_one_data\", \"master_data_cleaned.csv\")\n",
    "master_data_df = pd.read_csv(master_data_path)\n",
    "master_data_df.head()"
   ]
  },
  {
   "cell_type": "code",
   "execution_count": 3,
   "metadata": {},
   "outputs": [],
   "source": [
    "# Convert Year-Month to Datetime(ns) -- Shared by Binet Alagic\n",
    "master_data_df[\"Year-Month\"] = master_data_df[\"Year-Month\"].apply(pd.to_datetime)\n",
    "master_data_df[\"Year-Month\"] = pd.to_datetime(master_data_df[\"Year-Month\"], format=\"%Y%B\")"
   ]
  },
  {
   "cell_type": "code",
   "execution_count": 4,
   "metadata": {},
   "outputs": [],
   "source": [
    "master_data_cleaned = master_data_df.drop(columns={\"Date Zillow\", \"Date Interest\"})"
   ]
  },
  {
   "cell_type": "code",
   "execution_count": 5,
   "metadata": {},
   "outputs": [],
   "source": [
    "master_data_cleaned = master_data_cleaned.dropna(how=\"any\")"
   ]
  },
  {
   "cell_type": "code",
   "execution_count": 6,
   "metadata": {},
   "outputs": [
    {
     "data": {
      "text/html": [
       "<div>\n",
       "<style scoped>\n",
       "    .dataframe tbody tr th:only-of-type {\n",
       "        vertical-align: middle;\n",
       "    }\n",
       "\n",
       "    .dataframe tbody tr th {\n",
       "        vertical-align: top;\n",
       "    }\n",
       "\n",
       "    .dataframe thead th {\n",
       "        text-align: right;\n",
       "    }\n",
       "</style>\n",
       "<table border=\"1\" class=\"dataframe\">\n",
       "  <thead>\n",
       "    <tr style=\"text-align: right;\">\n",
       "      <th></th>\n",
       "      <th>Year</th>\n",
       "      <th>Month</th>\n",
       "      <th>Year-Month</th>\n",
       "      <th>Indicator ID</th>\n",
       "      <th>Indicator Name</th>\n",
       "      <th>Region ID</th>\n",
       "      <th>Region Type</th>\n",
       "      <th>Region Name</th>\n",
       "      <th>Value</th>\n",
       "      <th>County Population</th>\n",
       "      <th>Unemployment Rate</th>\n",
       "      <th>Wells Fargo Rate</th>\n",
       "      <th>Freddie Mac Rate</th>\n",
       "    </tr>\n",
       "  </thead>\n",
       "  <tbody>\n",
       "    <tr>\n",
       "      <th>0</th>\n",
       "      <td>2016</td>\n",
       "      <td>Apr</td>\n",
       "      <td>2016-04-01</td>\n",
       "      <td>Z2BR</td>\n",
       "      <td>ZHVI 2-Bedroom Time Series ($)</td>\n",
       "      <td>753871</td>\n",
       "      <td>metro</td>\n",
       "      <td>Breckenridge, CO; CO</td>\n",
       "      <td>384884.00</td>\n",
       "      <td>30566.0</td>\n",
       "      <td>3.5</td>\n",
       "      <td>3.88</td>\n",
       "      <td>3.66</td>\n",
       "    </tr>\n",
       "    <tr>\n",
       "      <th>1</th>\n",
       "      <td>2016</td>\n",
       "      <td>Apr</td>\n",
       "      <td>2016-04-01</td>\n",
       "      <td>Z4BR</td>\n",
       "      <td>ZHVI 4-Bedroom Time Series ($)</td>\n",
       "      <td>753871</td>\n",
       "      <td>metro</td>\n",
       "      <td>Breckenridge, CO; CO</td>\n",
       "      <td>881951.00</td>\n",
       "      <td>30566.0</td>\n",
       "      <td>3.5</td>\n",
       "      <td>3.88</td>\n",
       "      <td>3.66</td>\n",
       "    </tr>\n",
       "    <tr>\n",
       "      <th>2</th>\n",
       "      <td>2016</td>\n",
       "      <td>Apr</td>\n",
       "      <td>2016-04-01</td>\n",
       "      <td>Z5BR</td>\n",
       "      <td>ZHVI 5+ Bedroom Time Series ($)</td>\n",
       "      <td>753871</td>\n",
       "      <td>metro</td>\n",
       "      <td>Breckenridge, CO; CO</td>\n",
       "      <td>1287769.00</td>\n",
       "      <td>30566.0</td>\n",
       "      <td>3.5</td>\n",
       "      <td>3.88</td>\n",
       "      <td>3.66</td>\n",
       "    </tr>\n",
       "    <tr>\n",
       "      <th>3</th>\n",
       "      <td>2016</td>\n",
       "      <td>Apr</td>\n",
       "      <td>2016-04-01</td>\n",
       "      <td>ZATT</td>\n",
       "      <td>ZHVI All Homes- Top Tier Time Series ($)</td>\n",
       "      <td>753871</td>\n",
       "      <td>metro</td>\n",
       "      <td>Breckenridge, CO; CO</td>\n",
       "      <td>842653.00</td>\n",
       "      <td>30566.0</td>\n",
       "      <td>3.5</td>\n",
       "      <td>3.88</td>\n",
       "      <td>3.66</td>\n",
       "    </tr>\n",
       "    <tr>\n",
       "      <th>4</th>\n",
       "      <td>2016</td>\n",
       "      <td>Apr</td>\n",
       "      <td>2016-04-01</td>\n",
       "      <td>Z1BR</td>\n",
       "      <td>ZHVI 1-Bedroom Time Series ($)</td>\n",
       "      <td>753871</td>\n",
       "      <td>metro</td>\n",
       "      <td>Breckenridge, CO; CO</td>\n",
       "      <td>243688.00</td>\n",
       "      <td>30566.0</td>\n",
       "      <td>3.5</td>\n",
       "      <td>3.88</td>\n",
       "      <td>3.66</td>\n",
       "    </tr>\n",
       "    <tr>\n",
       "      <th>...</th>\n",
       "      <td>...</td>\n",
       "      <td>...</td>\n",
       "      <td>...</td>\n",
       "      <td>...</td>\n",
       "      <td>...</td>\n",
       "      <td>...</td>\n",
       "      <td>...</td>\n",
       "      <td>...</td>\n",
       "      <td>...</td>\n",
       "      <td>...</td>\n",
       "      <td>...</td>\n",
       "      <td>...</td>\n",
       "      <td>...</td>\n",
       "    </tr>\n",
       "    <tr>\n",
       "      <th>66959</th>\n",
       "      <td>2020</td>\n",
       "      <td>Aug</td>\n",
       "      <td>2020-08-01</td>\n",
       "      <td>CRSM</td>\n",
       "      <td>Share of Listings With a Price Cut (Raw, SFR O...</td>\n",
       "      <td>394645</td>\n",
       "      <td>metro</td>\n",
       "      <td>Greeley, CO</td>\n",
       "      <td>0.14</td>\n",
       "      <td>332367.0</td>\n",
       "      <td>6.7</td>\n",
       "      <td>2.88</td>\n",
       "      <td>2.91</td>\n",
       "    </tr>\n",
       "    <tr>\n",
       "      <th>66960</th>\n",
       "      <td>2020</td>\n",
       "      <td>Aug</td>\n",
       "      <td>2020-08-01</td>\n",
       "      <td>CRAM</td>\n",
       "      <td>Share of Listings With a Price Cut (Raw, All H...</td>\n",
       "      <td>394645</td>\n",
       "      <td>metro</td>\n",
       "      <td>Greeley, CO</td>\n",
       "      <td>0.14</td>\n",
       "      <td>332367.0</td>\n",
       "      <td>6.7</td>\n",
       "      <td>3.00</td>\n",
       "      <td>2.88</td>\n",
       "    </tr>\n",
       "    <tr>\n",
       "      <th>66961</th>\n",
       "      <td>2020</td>\n",
       "      <td>Aug</td>\n",
       "      <td>2020-08-01</td>\n",
       "      <td>CRAM</td>\n",
       "      <td>Share of Listings With a Price Cut (Raw, All H...</td>\n",
       "      <td>394645</td>\n",
       "      <td>metro</td>\n",
       "      <td>Greeley, CO</td>\n",
       "      <td>0.14</td>\n",
       "      <td>332367.0</td>\n",
       "      <td>6.7</td>\n",
       "      <td>3.00</td>\n",
       "      <td>2.96</td>\n",
       "    </tr>\n",
       "    <tr>\n",
       "      <th>66962</th>\n",
       "      <td>2020</td>\n",
       "      <td>Aug</td>\n",
       "      <td>2020-08-01</td>\n",
       "      <td>CRAM</td>\n",
       "      <td>Share of Listings With a Price Cut (Raw, All H...</td>\n",
       "      <td>394645</td>\n",
       "      <td>metro</td>\n",
       "      <td>Greeley, CO</td>\n",
       "      <td>0.14</td>\n",
       "      <td>332367.0</td>\n",
       "      <td>6.7</td>\n",
       "      <td>2.88</td>\n",
       "      <td>2.99</td>\n",
       "    </tr>\n",
       "    <tr>\n",
       "      <th>66963</th>\n",
       "      <td>2020</td>\n",
       "      <td>Aug</td>\n",
       "      <td>2020-08-01</td>\n",
       "      <td>CRAM</td>\n",
       "      <td>Share of Listings With a Price Cut (Raw, All H...</td>\n",
       "      <td>394645</td>\n",
       "      <td>metro</td>\n",
       "      <td>Greeley, CO</td>\n",
       "      <td>0.14</td>\n",
       "      <td>332367.0</td>\n",
       "      <td>6.7</td>\n",
       "      <td>2.88</td>\n",
       "      <td>2.91</td>\n",
       "    </tr>\n",
       "  </tbody>\n",
       "</table>\n",
       "<p>66834 rows × 13 columns</p>\n",
       "</div>"
      ],
      "text/plain": [
       "       Year Month Year-Month Indicator ID  \\\n",
       "0      2016   Apr 2016-04-01         Z2BR   \n",
       "1      2016   Apr 2016-04-01         Z4BR   \n",
       "2      2016   Apr 2016-04-01         Z5BR   \n",
       "3      2016   Apr 2016-04-01         ZATT   \n",
       "4      2016   Apr 2016-04-01         Z1BR   \n",
       "...     ...   ...        ...          ...   \n",
       "66959  2020   Aug 2020-08-01         CRSM   \n",
       "66960  2020   Aug 2020-08-01         CRAM   \n",
       "66961  2020   Aug 2020-08-01         CRAM   \n",
       "66962  2020   Aug 2020-08-01         CRAM   \n",
       "66963  2020   Aug 2020-08-01         CRAM   \n",
       "\n",
       "                                          Indicator Name  Region ID  \\\n",
       "0                         ZHVI 2-Bedroom Time Series ($)     753871   \n",
       "1                         ZHVI 4-Bedroom Time Series ($)     753871   \n",
       "2                        ZHVI 5+ Bedroom Time Series ($)     753871   \n",
       "3               ZHVI All Homes- Top Tier Time Series ($)     753871   \n",
       "4                         ZHVI 1-Bedroom Time Series ($)     753871   \n",
       "...                                                  ...        ...   \n",
       "66959  Share of Listings With a Price Cut (Raw, SFR O...     394645   \n",
       "66960  Share of Listings With a Price Cut (Raw, All H...     394645   \n",
       "66961  Share of Listings With a Price Cut (Raw, All H...     394645   \n",
       "66962  Share of Listings With a Price Cut (Raw, All H...     394645   \n",
       "66963  Share of Listings With a Price Cut (Raw, All H...     394645   \n",
       "\n",
       "      Region Type           Region Name       Value  County Population  \\\n",
       "0           metro  Breckenridge, CO; CO   384884.00            30566.0   \n",
       "1           metro  Breckenridge, CO; CO   881951.00            30566.0   \n",
       "2           metro  Breckenridge, CO; CO  1287769.00            30566.0   \n",
       "3           metro  Breckenridge, CO; CO   842653.00            30566.0   \n",
       "4           metro  Breckenridge, CO; CO   243688.00            30566.0   \n",
       "...           ...                   ...         ...                ...   \n",
       "66959       metro           Greeley, CO        0.14           332367.0   \n",
       "66960       metro           Greeley, CO        0.14           332367.0   \n",
       "66961       metro           Greeley, CO        0.14           332367.0   \n",
       "66962       metro           Greeley, CO        0.14           332367.0   \n",
       "66963       metro           Greeley, CO        0.14           332367.0   \n",
       "\n",
       "       Unemployment Rate  Wells Fargo Rate  Freddie Mac Rate  \n",
       "0                    3.5              3.88              3.66  \n",
       "1                    3.5              3.88              3.66  \n",
       "2                    3.5              3.88              3.66  \n",
       "3                    3.5              3.88              3.66  \n",
       "4                    3.5              3.88              3.66  \n",
       "...                  ...               ...               ...  \n",
       "66959                6.7              2.88              2.91  \n",
       "66960                6.7              3.00              2.88  \n",
       "66961                6.7              3.00              2.96  \n",
       "66962                6.7              2.88              2.99  \n",
       "66963                6.7              2.88              2.91  \n",
       "\n",
       "[66834 rows x 13 columns]"
      ]
     },
     "execution_count": 6,
     "metadata": {},
     "output_type": "execute_result"
    }
   ],
   "source": [
    "master_data_cleaned"
   ]
  },
  {
   "cell_type": "markdown",
   "metadata": {},
   "source": [
    "# SSAM - Median Prices, All Homes"
   ]
  },
  {
   "cell_type": "code",
   "execution_count": 7,
   "metadata": {},
   "outputs": [
    {
     "name": "stderr",
     "output_type": "stream",
     "text": [
      "C:\\Users\\coled\\anaconda3\\envs\\pythondata\\lib\\site-packages\\ipykernel_launcher.py:2: UserWarning: Boolean Series key will be reindexed to match DataFrame index.\n",
      "  \n"
     ]
    }
   ],
   "source": [
    "# Look at SSAM - All Homes Monthly\n",
    "ssam_df = master_data_cleaned[master_data_df[\"Indicator ID\"] == \"SSAM\"]"
   ]
  },
  {
   "cell_type": "code",
   "execution_count": 8,
   "metadata": {},
   "outputs": [
    {
     "data": {
      "text/html": [
       "<div>\n",
       "<style scoped>\n",
       "    .dataframe tbody tr th:only-of-type {\n",
       "        vertical-align: middle;\n",
       "    }\n",
       "\n",
       "    .dataframe tbody tr th {\n",
       "        vertical-align: top;\n",
       "    }\n",
       "\n",
       "    .dataframe thead th {\n",
       "        text-align: right;\n",
       "    }\n",
       "</style>\n",
       "<table border=\"1\" class=\"dataframe\">\n",
       "  <thead>\n",
       "    <tr style=\"text-align: right;\">\n",
       "      <th></th>\n",
       "      <th>Year</th>\n",
       "      <th>Month</th>\n",
       "      <th>Year-Month</th>\n",
       "      <th>Indicator ID</th>\n",
       "      <th>Indicator Name</th>\n",
       "      <th>Region ID</th>\n",
       "      <th>Region Type</th>\n",
       "      <th>Region Name</th>\n",
       "      <th>Value</th>\n",
       "      <th>County Population</th>\n",
       "      <th>Unemployment Rate</th>\n",
       "      <th>Wells Fargo Rate</th>\n",
       "      <th>Freddie Mac Rate</th>\n",
       "    </tr>\n",
       "  </thead>\n",
       "  <tbody>\n",
       "    <tr>\n",
       "      <th>417</th>\n",
       "      <td>2016</td>\n",
       "      <td>Apr</td>\n",
       "      <td>2016-04-01</td>\n",
       "      <td>SSAM</td>\n",
       "      <td>Median Sale Price (Smooth, All Homes, Monthly)</td>\n",
       "      <td>394484</td>\n",
       "      <td>metro</td>\n",
       "      <td>Colorado Springs, CO</td>\n",
       "      <td>246388.0</td>\n",
       "      <td>689481.0</td>\n",
       "      <td>3.5</td>\n",
       "      <td>3.88</td>\n",
       "      <td>3.66</td>\n",
       "    </tr>\n",
       "    <tr>\n",
       "      <th>582</th>\n",
       "      <td>2016</td>\n",
       "      <td>May</td>\n",
       "      <td>2016-05-01</td>\n",
       "      <td>SSAM</td>\n",
       "      <td>Median Sale Price (Smooth, All Homes, Monthly)</td>\n",
       "      <td>394484</td>\n",
       "      <td>metro</td>\n",
       "      <td>Colorado Springs, CO</td>\n",
       "      <td>251325.0</td>\n",
       "      <td>689481.0</td>\n",
       "      <td>3.4</td>\n",
       "      <td>3.75</td>\n",
       "      <td>3.61</td>\n",
       "    </tr>\n",
       "    <tr>\n",
       "      <th>583</th>\n",
       "      <td>2016</td>\n",
       "      <td>May</td>\n",
       "      <td>2016-05-01</td>\n",
       "      <td>SSAM</td>\n",
       "      <td>Median Sale Price (Smooth, All Homes, Monthly)</td>\n",
       "      <td>394484</td>\n",
       "      <td>metro</td>\n",
       "      <td>Colorado Springs, CO</td>\n",
       "      <td>251325.0</td>\n",
       "      <td>689481.0</td>\n",
       "      <td>3.4</td>\n",
       "      <td>3.75</td>\n",
       "      <td>3.57</td>\n",
       "    </tr>\n",
       "    <tr>\n",
       "      <th>584</th>\n",
       "      <td>2016</td>\n",
       "      <td>May</td>\n",
       "      <td>2016-05-01</td>\n",
       "      <td>SSAM</td>\n",
       "      <td>Median Sale Price (Smooth, All Homes, Monthly)</td>\n",
       "      <td>394484</td>\n",
       "      <td>metro</td>\n",
       "      <td>Colorado Springs, CO</td>\n",
       "      <td>251325.0</td>\n",
       "      <td>689481.0</td>\n",
       "      <td>3.4</td>\n",
       "      <td>3.88</td>\n",
       "      <td>3.58</td>\n",
       "    </tr>\n",
       "    <tr>\n",
       "      <th>585</th>\n",
       "      <td>2016</td>\n",
       "      <td>May</td>\n",
       "      <td>2016-05-01</td>\n",
       "      <td>SSAM</td>\n",
       "      <td>Median Sale Price (Smooth, All Homes, Monthly)</td>\n",
       "      <td>394484</td>\n",
       "      <td>metro</td>\n",
       "      <td>Colorado Springs, CO</td>\n",
       "      <td>251325.0</td>\n",
       "      <td>689481.0</td>\n",
       "      <td>3.4</td>\n",
       "      <td>3.88</td>\n",
       "      <td>3.64</td>\n",
       "    </tr>\n",
       "  </tbody>\n",
       "</table>\n",
       "</div>"
      ],
      "text/plain": [
       "     Year Month Year-Month Indicator ID  \\\n",
       "417  2016   Apr 2016-04-01         SSAM   \n",
       "582  2016   May 2016-05-01         SSAM   \n",
       "583  2016   May 2016-05-01         SSAM   \n",
       "584  2016   May 2016-05-01         SSAM   \n",
       "585  2016   May 2016-05-01         SSAM   \n",
       "\n",
       "                                     Indicator Name  Region ID Region Type  \\\n",
       "417  Median Sale Price (Smooth, All Homes, Monthly)     394484       metro   \n",
       "582  Median Sale Price (Smooth, All Homes, Monthly)     394484       metro   \n",
       "583  Median Sale Price (Smooth, All Homes, Monthly)     394484       metro   \n",
       "584  Median Sale Price (Smooth, All Homes, Monthly)     394484       metro   \n",
       "585  Median Sale Price (Smooth, All Homes, Monthly)     394484       metro   \n",
       "\n",
       "              Region Name     Value  County Population  Unemployment Rate  \\\n",
       "417  Colorado Springs, CO  246388.0           689481.0                3.5   \n",
       "582  Colorado Springs, CO  251325.0           689481.0                3.4   \n",
       "583  Colorado Springs, CO  251325.0           689481.0                3.4   \n",
       "584  Colorado Springs, CO  251325.0           689481.0                3.4   \n",
       "585  Colorado Springs, CO  251325.0           689481.0                3.4   \n",
       "\n",
       "     Wells Fargo Rate  Freddie Mac Rate  \n",
       "417              3.88              3.66  \n",
       "582              3.75              3.61  \n",
       "583              3.75              3.57  \n",
       "584              3.88              3.58  \n",
       "585              3.88              3.64  "
      ]
     },
     "execution_count": 8,
     "metadata": {},
     "output_type": "execute_result"
    }
   ],
   "source": [
    "ssam_df.head()"
   ]
  },
  {
   "cell_type": "markdown",
   "metadata": {},
   "source": [
    "## SSAMs Variables by Region Name"
   ]
  },
  {
   "cell_type": "code",
   "execution_count": 18,
   "metadata": {
    "scrolled": true
   },
   "outputs": [],
   "source": [
    "# Denver SSAM\n",
    "\n",
    "denver_ssam = ssam_df[ssam_df[\"Region Name\"].str.contains(\"Denver\")].groupby(\"Year-Month\").first()"
   ]
  },
  {
   "cell_type": "code",
   "execution_count": 19,
   "metadata": {},
   "outputs": [],
   "source": [
    "# Colorado Springs SSAM\n",
    "co_springs_ssam = ssam_df[ssam_df[\"Region Name\"].str.contains(\"Colorado Springs\")].groupby(\"Year-Month\").first()"
   ]
  },
  {
   "cell_type": "code",
   "execution_count": 20,
   "metadata": {},
   "outputs": [],
   "source": [
    "# Greeley SSAM\n",
    "greeley_ssam = ssam_df[ssam_df[\"Region Name\"].str.contains(\"Greeley\")].groupby(\"Year-Month\").first()"
   ]
  },
  {
   "cell_type": "markdown",
   "metadata": {},
   "source": [
    "## SSAM Graphs / Correlations"
   ]
  },
  {
   "cell_type": "markdown",
   "metadata": {},
   "source": [
    "#### Denver, CO"
   ]
  },
  {
   "cell_type": "code",
   "execution_count": 21,
   "metadata": {},
   "outputs": [
    {
     "data": {
      "text/html": [
       "<div>\n",
       "<style scoped>\n",
       "    .dataframe tbody tr th:only-of-type {\n",
       "        vertical-align: middle;\n",
       "    }\n",
       "\n",
       "    .dataframe tbody tr th {\n",
       "        vertical-align: top;\n",
       "    }\n",
       "\n",
       "    .dataframe thead th {\n",
       "        text-align: right;\n",
       "    }\n",
       "</style>\n",
       "<table border=\"1\" class=\"dataframe\">\n",
       "  <thead>\n",
       "    <tr style=\"text-align: right;\">\n",
       "      <th></th>\n",
       "      <th>Year</th>\n",
       "      <th>Month</th>\n",
       "      <th>Indicator ID</th>\n",
       "      <th>Indicator Name</th>\n",
       "      <th>Region ID</th>\n",
       "      <th>Region Type</th>\n",
       "      <th>Region Name</th>\n",
       "      <th>Value</th>\n",
       "      <th>County Population</th>\n",
       "      <th>Unemployment Rate</th>\n",
       "      <th>Wells Fargo Rate</th>\n",
       "      <th>Freddie Mac Rate</th>\n",
       "    </tr>\n",
       "    <tr>\n",
       "      <th>Year-Month</th>\n",
       "      <th></th>\n",
       "      <th></th>\n",
       "      <th></th>\n",
       "      <th></th>\n",
       "      <th></th>\n",
       "      <th></th>\n",
       "      <th></th>\n",
       "      <th></th>\n",
       "      <th></th>\n",
       "      <th></th>\n",
       "      <th></th>\n",
       "      <th></th>\n",
       "    </tr>\n",
       "  </thead>\n",
       "  <tbody>\n",
       "    <tr>\n",
       "      <th>2016-04-01</th>\n",
       "      <td>2016</td>\n",
       "      <td>Apr</td>\n",
       "      <td>SSAM</td>\n",
       "      <td>Median Sale Price (Smooth, All Homes, Monthly)</td>\n",
       "      <td>394530</td>\n",
       "      <td>metro</td>\n",
       "      <td>Denver, CO</td>\n",
       "      <td>340150.0</td>\n",
       "      <td>697744.0</td>\n",
       "      <td>3.5</td>\n",
       "      <td>3.88</td>\n",
       "      <td>3.66</td>\n",
       "    </tr>\n",
       "    <tr>\n",
       "      <th>2016-05-01</th>\n",
       "      <td>2016</td>\n",
       "      <td>May</td>\n",
       "      <td>SSAM</td>\n",
       "      <td>Median Sale Price (Smooth, All Homes, Monthly)</td>\n",
       "      <td>394530</td>\n",
       "      <td>metro</td>\n",
       "      <td>Denver, CO</td>\n",
       "      <td>350150.0</td>\n",
       "      <td>697744.0</td>\n",
       "      <td>3.4</td>\n",
       "      <td>3.75</td>\n",
       "      <td>3.61</td>\n",
       "    </tr>\n",
       "    <tr>\n",
       "      <th>2016-06-01</th>\n",
       "      <td>2016</td>\n",
       "      <td>Jun</td>\n",
       "      <td>SSAM</td>\n",
       "      <td>Median Sale Price (Smooth, All Homes, Monthly)</td>\n",
       "      <td>394530</td>\n",
       "      <td>metro</td>\n",
       "      <td>Denver, CO</td>\n",
       "      <td>358000.0</td>\n",
       "      <td>697744.0</td>\n",
       "      <td>3.4</td>\n",
       "      <td>3.88</td>\n",
       "      <td>3.66</td>\n",
       "    </tr>\n",
       "    <tr>\n",
       "      <th>2016-07-01</th>\n",
       "      <td>2016</td>\n",
       "      <td>Jul</td>\n",
       "      <td>SSAM</td>\n",
       "      <td>Median Sale Price (Smooth, All Homes, Monthly)</td>\n",
       "      <td>394530</td>\n",
       "      <td>metro</td>\n",
       "      <td>Denver, CO</td>\n",
       "      <td>360750.0</td>\n",
       "      <td>697744.0</td>\n",
       "      <td>3.3</td>\n",
       "      <td>3.63</td>\n",
       "      <td>3.41</td>\n",
       "    </tr>\n",
       "    <tr>\n",
       "      <th>2016-08-01</th>\n",
       "      <td>2016</td>\n",
       "      <td>Aug</td>\n",
       "      <td>SSAM</td>\n",
       "      <td>Median Sale Price (Smooth, All Homes, Monthly)</td>\n",
       "      <td>394530</td>\n",
       "      <td>metro</td>\n",
       "      <td>Denver, CO</td>\n",
       "      <td>362000.0</td>\n",
       "      <td>697744.0</td>\n",
       "      <td>3.3</td>\n",
       "      <td>3.63</td>\n",
       "      <td>3.43</td>\n",
       "    </tr>\n",
       "  </tbody>\n",
       "</table>\n",
       "</div>"
      ],
      "text/plain": [
       "            Year Month Indicator ID  \\\n",
       "Year-Month                            \n",
       "2016-04-01  2016   Apr         SSAM   \n",
       "2016-05-01  2016   May         SSAM   \n",
       "2016-06-01  2016   Jun         SSAM   \n",
       "2016-07-01  2016   Jul         SSAM   \n",
       "2016-08-01  2016   Aug         SSAM   \n",
       "\n",
       "                                            Indicator Name  Region ID  \\\n",
       "Year-Month                                                              \n",
       "2016-04-01  Median Sale Price (Smooth, All Homes, Monthly)     394530   \n",
       "2016-05-01  Median Sale Price (Smooth, All Homes, Monthly)     394530   \n",
       "2016-06-01  Median Sale Price (Smooth, All Homes, Monthly)     394530   \n",
       "2016-07-01  Median Sale Price (Smooth, All Homes, Monthly)     394530   \n",
       "2016-08-01  Median Sale Price (Smooth, All Homes, Monthly)     394530   \n",
       "\n",
       "           Region Type Region Name     Value  County Population  \\\n",
       "Year-Month                                                        \n",
       "2016-04-01       metro  Denver, CO  340150.0           697744.0   \n",
       "2016-05-01       metro  Denver, CO  350150.0           697744.0   \n",
       "2016-06-01       metro  Denver, CO  358000.0           697744.0   \n",
       "2016-07-01       metro  Denver, CO  360750.0           697744.0   \n",
       "2016-08-01       metro  Denver, CO  362000.0           697744.0   \n",
       "\n",
       "            Unemployment Rate  Wells Fargo Rate  Freddie Mac Rate  \n",
       "Year-Month                                                         \n",
       "2016-04-01                3.5              3.88              3.66  \n",
       "2016-05-01                3.4              3.75              3.61  \n",
       "2016-06-01                3.4              3.88              3.66  \n",
       "2016-07-01                3.3              3.63              3.41  \n",
       "2016-08-01                3.3              3.63              3.43  "
      ]
     },
     "execution_count": 21,
     "metadata": {},
     "output_type": "execute_result"
    }
   ],
   "source": [
    "denver_ssam.head()"
   ]
  },
  {
   "cell_type": "code",
   "execution_count": 22,
   "metadata": {},
   "outputs": [
    {
     "name": "stdout",
     "output_type": "stream",
     "text": [
      "The correlation between the unemployment rate and median sale price is: 0.4161209458541474.\n"
     ]
    },
    {
     "data": {
      "image/png": "[encoded data removed]",
      "text/plain": [
       "<Figure size 432x288 with 1 Axes>"
      ]
     },
     "metadata": {
      "needs_background": "light"
     },
     "output_type": "display_data"
    }
   ],
   "source": [
    "# Set x,y for correlation and scatter\n",
    "den_unemp_x = denver_ssam[\"Unemployment Rate\"]\n",
    "den_value_y = denver_ssam[\"Value\"]\n",
    "\n",
    "# Calc correlation\n",
    "denver_correlation = st.pearsonr(den_unemp_x,den_value_y)\n",
    "print(f\"The correlation between the unemployment rate and median sale price is: {denver_correlation[0]}.\")\n",
    "\n",
    "# Plot\n",
    "unemp_value_df = denver_ssam[[\"Unemployment Rate\", \"Value\"]]\n",
    "unemp_value_df.plot(\"Unemployment Rate\", \"Value\", kind=\"scatter\")\n",
    "plt.title(\"Denver (2016-2020) \\n Unemployment and Median Sale Price - All Homes\")\n",
    "plt.show()"
   ]
  },
  {
   "cell_type": "code",
   "execution_count": null,
   "metadata": {},
   "outputs": [],
   "source": []
  },
  {
   "cell_type": "markdown",
   "metadata": {},
   "source": [
    "#### Denver, SSAM Pre-COVID"
   ]
  },
  {
   "cell_type": "code",
   "execution_count": 23,
   "metadata": {},
   "outputs": [],
   "source": [
    "# Pre-COVID\n",
    "\n",
    "denver_ssam_pre19 = ssam_df[(ssam_df[\"Region Name\"].str.contains(\"Denver\")) & (ssam_df[\"Year-Month\"] < \"2020-03-01\")].groupby(\"Year-Month\").first()"
   ]
  },
  {
   "cell_type": "code",
   "execution_count": 24,
   "metadata": {},
   "outputs": [
    {
     "name": "stdout",
     "output_type": "stream",
     "text": [
      "The correlation between the unemployment rate and median sale price is: -0.3469157175371589.\n"
     ]
    },
    {
     "data": {
      "image/png": "[encoded data removed]",
      "text/plain": [
       "<Figure size 432x288 with 1 Axes>"
      ]
     },
     "metadata": {
      "needs_background": "light"
     },
     "output_type": "display_data"
    }
   ],
   "source": [
    "# Set x,y for correlation and scatter\n",
    "pre19_den_unemp_x = denver_ssam_pre19[\"Unemployment Rate\"]\n",
    "pre19_den_value_y = denver_ssam_pre19[\"Value\"]\n",
    "\n",
    "# Calc correlation\n",
    "pre19_denver_correlation = st.pearsonr(pre19_den_unemp_x,pre19_den_value_y)\n",
    "print(f\"The correlation between the unemployment rate and median sale price is: {pre19_denver_correlation[0]}.\")\n",
    "\n",
    "# Formula\n",
    "(slope, intercept, rvalue, pvalue, stderr) = linregress(pre19_den_unemp_x, pre19_den_value_y)\n",
    "den_regress_values = pre19_den_unemp_x * slope + intercept\n",
    "\n",
    "# Plot\n",
    "plt.scatter(pre19_den_unemp_x, pre19_den_value_y)\n",
    "plt.plot(pre19_den_unemp_x, den_regress_values, \"r-\")\n",
    "\n",
    "# den_ssam_scatter = denver_ssam_pre19[[\"Unemployment Rate\", \"Value\"]]\n",
    "# den_ssam_scatter.plot(\"Unemployment Rate\", \"Value\", kind=\"scatter\")\n",
    "# plt.title(\"Denver (2016-2020) \\n Unemployment and Median Sale Price - All Homes\")\n",
    "# plt.show()\n",
    "\n",
    "# Line Equation\n",
    "# greeley_line_eq = \"y = \" + str(round(slope,2)) + \"x + \" + str(round(intercept,2))\n",
    "\n",
    "# Design Plot\n",
    "# plt.annotate(greeley_line_eq,(6, 280000),fontsize=15,color=\"red\")\n",
    "plt.title(\"Unemploment % vs. Median Sale Price\")\n",
    "plt.xlabel(\"Unemployment %\")\n",
    "plt.ylabel('Median Sale Price')\n",
    "\n",
    "# Show\n",
    "plt.show()"
   ]
  },
  {
   "cell_type": "markdown",
   "metadata": {},
   "source": [
    "#### Denver, SSAM During COVID"
   ]
  },
  {
   "cell_type": "code",
   "execution_count": 25,
   "metadata": {},
   "outputs": [],
   "source": [
    "denver_ssam_dur19 = ssam_df[(ssam_df[\"Region Name\"].str.contains(\"Denver\")) & (ssam_df[\"Year-Month\"] >= \"2020-03-01\")].groupby(\"Year-Month\").first()"
   ]
  },
  {
   "cell_type": "code",
   "execution_count": 29,
   "metadata": {},
   "outputs": [
    {
     "name": "stdout",
     "output_type": "stream",
     "text": [
      "The correlation between the unemployment rate and median sale price is: -0.21284092153632506.\n"
     ]
    },
    {
     "data": {
      "image/png": "[encoded data removed]",
      "text/plain": [
       "<Figure size 432x288 with 1 Axes>"
      ]
     },
     "metadata": {
      "needs_background": "light"
     },
     "output_type": "display_data"
    }
   ],
   "source": [
    "# Set x,y for correlation and scatter\n",
    "dur19_den_unemp_x = denver_ssam_dur19[\"Unemployment Rate\"]\n",
    "dur19_den_value_y = denver_ssam_dur19[\"Value\"]\n",
    "\n",
    "# Calc correlation\n",
    "dur19_denver_correlation = st.pearsonr(dur19_den_unemp_x,dur19_den_value_y)\n",
    "print(f\"The correlation between the unemployment rate and median sale price is: {dur19_denver_correlation[0]}.\")\n",
    "\n",
    "# Plot\n",
    "denver_ssam_dur19 = denver_ssam_dur19[[\"Unemployment Rate\", \"Value\"]]\n",
    "den_sam_scatter = denver_ssam_dur19.plot(\"Unemployment Rate\", \"Value\", kind=\"scatter\")\n",
    "plt.title(\"Denver (2016-2020) \\n Unemployment and Median Sale Price - All Homes\")\n",
    "plt.show()"
   ]
  },
  {
   "cell_type": "markdown",
   "metadata": {},
   "source": [
    "### Findings: Unemployment and Median Sale Price - Denver\n",
    "\n",
    "There was weak negative correlation between unemployment rate and median sale price pre-COVID. However, during COVID-19, there is no correlation between unemployment rate and median sale price. "
   ]
  },
  {
   "cell_type": "code",
   "execution_count": 27,
   "metadata": {},
   "outputs": [
    {
     "data": {
      "image/png": "[encoded data removed]",
      "text/plain": [
       "<Figure size 432x288 with 1 Axes>"
      ]
     },
     "metadata": {
      "needs_background": "light"
     },
     "output_type": "display_data"
    }
   ],
   "source": [
    "den_ssam_box = denver_ssam.boxplot(by=\"Year\", column=\"Value\").set_title(\"\")\n",
    "plt.ylabel(\"Denver Median Sale Price\")\n",
    "plt.show()"
   ]
  },
  {
   "cell_type": "code",
   "execution_count": 28,
   "metadata": {},
   "outputs": [
    {
     "data": {
      "image/png": "[encoded data removed]",
      "text/plain": [
       "<Figure size 432x288 with 1 Axes>"
      ]
     },
     "metadata": {
      "needs_background": "light"
     },
     "output_type": "display_data"
    }
   ],
   "source": [
    "den_unemp_box = denver_ssam.boxplot(by=\"Year\", column=\"Unemployment Rate\").set_title(\"\")\n",
    "plt.ylabel(\"Denver Unemployment Rate\")\n",
    "plt.show()"
   ]
  },
  {
   "cell_type": "code",
   "execution_count": null,
   "metadata": {},
   "outputs": [],
   "source": []
  },
  {
   "cell_type": "code",
   "execution_count": null,
   "metadata": {},
   "outputs": [],
   "source": []
  },
  {
   "cell_type": "code",
   "execution_count": null,
   "metadata": {},
   "outputs": [],
   "source": []
  },
  {
   "cell_type": "markdown",
   "metadata": {},
   "source": [
    "## Master SSSM DataFrame"
   ]
  },
  {
   "cell_type": "code",
   "execution_count": null,
   "metadata": {},
   "outputs": [],
   "source": [
    "# Look at SSSM - SFR Only\n",
    "sssm_df = master_data_df[master_data_df[\"Indicator ID\"] == \"SSSM\"]\n",
    "sssm_df.head()"
   ]
  },
  {
   "cell_type": "code",
   "execution_count": null,
   "metadata": {
    "scrolled": false
   },
   "outputs": [],
   "source": [
    "sssm_all = master_data_df[(master_data_df[\"Indicator ID\"] ==\"SSSM\")]\n",
    "sssm_all = sssm_all.sort_values(\"Year-Month\")\n",
    "sssm_all = sssm_all.groupby(\"Year-Month\").first()\n",
    "sssm_all.head()"
   ]
  },
  {
   "cell_type": "code",
   "execution_count": null,
   "metadata": {},
   "outputs": [],
   "source": [
    "all_sssm_unemp_x = sssm_all[\"Unemployment Rate\"]\n",
    "all_sssm_value_y = sssm_all[\"Value\"]\n",
    "\n",
    "correlation = st.pearsonr(all_sssm_unemp_x,all_sssm_value_y)\n",
    "print(f\"The correlation between the unemployment rate and median sale price is: {correlation[0]}.\")\n",
    "print(f\"P-Value is: {correlation[1]}.\")"
   ]
  },
  {
   "cell_type": "code",
   "execution_count": null,
   "metadata": {},
   "outputs": [],
   "source": [
    "plt.scatter(all_sssm_unemp_x, all_sssm_value_y)\n",
    "plt.title(\"CO Spring, Greeley, Denver \\n % Unemployed vs. Median Sale Price ($)\")\n",
    "plt.xlabel(\"Colorado Unemployment %\")\n",
    "plt.ylabel(\"Median Sale Price $\")\n",
    "plt.show()"
   ]
  },
  {
   "cell_type": "code",
   "execution_count": null,
   "metadata": {},
   "outputs": [],
   "source": []
  },
  {
   "cell_type": "code",
   "execution_count": null,
   "metadata": {},
   "outputs": [],
   "source": []
  },
  {
   "cell_type": "code",
   "execution_count": null,
   "metadata": {},
   "outputs": [],
   "source": [
    "sssm_all.boxplot(by=\"Region Name\", column=\"Value\").set_title(\"\")"
   ]
  },
  {
   "cell_type": "code",
   "execution_count": null,
   "metadata": {},
   "outputs": [],
   "source": []
  },
  {
   "cell_type": "code",
   "execution_count": null,
   "metadata": {},
   "outputs": [],
   "source": []
  },
  {
   "cell_type": "markdown",
   "metadata": {},
   "source": [
    "### Fredie Mac & Unemployment Correlation"
   ]
  },
  {
   "cell_type": "code",
   "execution_count": null,
   "metadata": {},
   "outputs": [],
   "source": [
    "all_sssm_unemp_x = sssm_all[\"Unemployment Rate\"]\n",
    "all_sssm_fmr_y = sssm_all[\"Freddie Mac Rate\"]\n",
    "\n",
    "correlation = st.pearsonr(all_sssm_unemp_x,all_sssm_fmr_y)\n",
    "print(f\"The correlation between the unemployment rate and Freddit Mac Rate is: {correlation[0]}.\")\n",
    "print(f\"P-Value is: {correlation[1]}.\")"
   ]
  },
  {
   "cell_type": "markdown",
   "metadata": {},
   "source": [
    "### Wells Fargo & Unemployment Correlation"
   ]
  },
  {
   "cell_type": "code",
   "execution_count": null,
   "metadata": {},
   "outputs": [],
   "source": [
    "all_sssm_unemp_x = sssm_all[\"Unemployment Rate\"]\n",
    "all_sssm_wf_y = sssm_all[\"Wells Fargo Rate\"]\n",
    "\n",
    "correlation = st.pearsonr(all_sssm_unemp_x,all_sssm_wf_y)\n",
    "print(f\"The correlation between the unemployment rate and median sale price is: {correlation[0]}.\")\n",
    "print(f\"P-Value is: {correlation[1]}.\")"
   ]
  },
  {
   "cell_type": "code",
   "execution_count": null,
   "metadata": {},
   "outputs": [],
   "source": [
    "# Formula\n",
    "(slope, intercept, rvalue, pvalue, stderr) = linregress(all_sssm_unemp_x, all_sssm_wf_y)\n",
    "wf_regress_values = all_sssm_unemp_x * slope + intercept\n",
    "\n",
    "# Line Equation\n",
    "wf_line_eq = \"y = \" + str(round(slope,2)) + \"x + \" + str(round(intercept,2))\n",
    "\n",
    "# Plot\n",
    "plt.scatter(greeley_unem_x,greeley_value_y)"
   ]
  },
  {
   "cell_type": "code",
   "execution_count": null,
   "metadata": {
    "scrolled": false
   },
   "outputs": [],
   "source": []
  },
  {
   "cell_type": "code",
   "execution_count": null,
   "metadata": {},
   "outputs": [],
   "source": []
  },
  {
   "cell_type": "markdown",
   "metadata": {},
   "source": [
    "### Correlation: All Unemployed, Median Sale Price"
   ]
  },
  {
   "cell_type": "code",
   "execution_count": null,
   "metadata": {},
   "outputs": [],
   "source": [
    "all_sssm_unemp_x = sssm_df[\"Unemployment Rate\"]\n",
    "all_sssm_value_y = sssm_df[\"Value\"]\n",
    "\n",
    "correlation = st.pearsonr(all_sssm_unemp_x,all_sssm_value_y)\n",
    "print(f\"The correlation between the unemployment rate and median sale price is: {correlation[0]}.\")\n",
    "print(f\"P-Value is: {correlation[1]}.\")"
   ]
  },
  {
   "cell_type": "markdown",
   "metadata": {},
   "source": [
    "### Correlation: Greeley - Unemployed, Median Sale Price"
   ]
  },
  {
   "cell_type": "code",
   "execution_count": null,
   "metadata": {},
   "outputs": [],
   "source": [
    "sssm_df_greely = sssm_df[sssm_df[\"Region Name\"].str.contains(\"Greeley\")]"
   ]
  },
  {
   "cell_type": "code",
   "execution_count": null,
   "metadata": {},
   "outputs": [],
   "source": [
    "greeley_sssm_unemp_x = sssm_df_greely[\"Unemployment Rate\"]\n",
    "greeley_sssm_value_y = sssm_df_greely[\"Value\"]\n",
    "\n",
    "correlation = st.pearsonr(greeley_sssm_unemp_x,greeley_sssm_value_y)\n",
    "print(f\"The correlation between the unemployment rate and median sale price is: {correlation[0]}.\")\n",
    "print(f\"P-Value is: {correlation[1]}.\")"
   ]
  },
  {
   "cell_type": "code",
   "execution_count": null,
   "metadata": {},
   "outputs": [],
   "source": [
    "# Formula\n",
    "(slope, intercept, rvalue, pvalue, stderr) = linregress(greeley_sssm_unemp_x, greeley_sssm_value_y)\n",
    "greeley_regress_values = greeley_sssm_unemp_x * slope + intercept\n",
    "\n",
    "# Line Equation\n",
    "greeley_line_eq = \"y = \" + str(round(slope,2)) + \"x + \" + str(round(intercept,2))\n",
    "\n",
    "# Plot\n",
    "plt.scatter(greeley_sssm_unemp_x,greeley_sssm_value_y)\n",
    "plt.plot(greeley_sssm_unemp_x,greeley_regress_values,\"r-\")\n",
    "\n",
    "# Design Plot\n",
    "plt.annotate(greeley_line_eq,(6, 280000),fontsize=15,color=\"red\")\n",
    "plt.title(\"Greeley, CO \\n Unemploment % vs. Median Sale Price\")\n",
    "plt.xlabel(\"Unemployment %\")\n",
    "plt.ylabel('Median Sale Price')\n",
    "\n",
    "# Show\n",
    "plt.show()"
   ]
  },
  {
   "cell_type": "markdown",
   "metadata": {},
   "source": [
    "### Correlation: Colorado Springs - Unemployed, Median Sale Price"
   ]
  },
  {
   "cell_type": "code",
   "execution_count": null,
   "metadata": {},
   "outputs": [],
   "source": [
    "sssm_df_cosprings = master_data_df[(master_data_df[\"Indicator ID\"] ==\"SSSM\") & master_data_df[\"Region Name\"].str.contains(\"Colorado Springs\")]\n",
    "sssm_df_cosprings = sssm_df_cosprings.groupby(\"Year-Month\").first()"
   ]
  },
  {
   "cell_type": "code",
   "execution_count": null,
   "metadata": {},
   "outputs": [],
   "source": [
    "cosprings_sssm_unemp_x = sssm_df_cosprings[\"Unemployment Rate\"]\n",
    "cosprings_sssm_value_y = sssm_df_cosprings[\"Value\"]\n",
    "\n",
    "correlation = st.pearsonr(cosprings_sssm_unemp_x,cosprings_sssm_value_y)\n",
    "print(f\"The correlation between the unemployment rate and median sale price is: {correlation[0]}.\")\n",
    "print(f\"P-Value is: {correlation[1]}.\")"
   ]
  },
  {
   "cell_type": "markdown",
   "metadata": {},
   "source": [
    "### Correlation: Denver - Unemployed, Median Sale Price"
   ]
  },
  {
   "cell_type": "code",
   "execution_count": null,
   "metadata": {},
   "outputs": [],
   "source": [
    "sssm_denver_df = master_data_df[(master_data_df[\"Indicator ID\"] ==\"SSSM\") & master_data_df[\"Region Name\"].str.contains(\"Denver\") ]\n",
    "sssm_denver_df = sssm_denver_df.groupby(\"Year-Month\").first()"
   ]
  },
  {
   "cell_type": "code",
   "execution_count": null,
   "metadata": {},
   "outputs": [],
   "source": [
    "denver_sssm_unemp_x = sssm_denver_df[\"Unemployment Rate\"]\n",
    "denver_sssm_value_y = sssm_denver_df[\"Value\"]\n",
    "\n",
    "correlation = st.pearsonr(denver_sssm_unemp_x,denver_sssm_value_y)\n",
    "print(f\"The correlation between the unemployment rate and median sale price is: {correlation[0]}.\")\n",
    "print(f\"P-Value is: {correlation[1]}.\")"
   ]
  },
  {
   "cell_type": "code",
   "execution_count": null,
   "metadata": {},
   "outputs": [],
   "source": []
  },
  {
   "cell_type": "code",
   "execution_count": null,
   "metadata": {},
   "outputs": [],
   "source": []
  },
  {
   "cell_type": "code",
   "execution_count": null,
   "metadata": {},
   "outputs": [],
   "source": [
    "# No Data on SSSM for Breckenridge, CO\n",
    "# sssm_df_breck = sssm_df[sssm_df[\"Region Name\"].str.contains(\"Breckenridge\")]\n",
    "# sssm_df_breck\n",
    "# sssm_df[\"Region Name\"].unique()"
   ]
  },
  {
   "cell_type": "code",
   "execution_count": null,
   "metadata": {},
   "outputs": [],
   "source": []
  },
  {
   "cell_type": "code",
   "execution_count": null,
   "metadata": {},
   "outputs": [],
   "source": [
    "# sssm_greeley_scatter = sssm_df_greely.plot(\"Unemployment Rate\", \"Value\", kind=\"scatter\")\n",
    "\n",
    "# # Find Correlation\n",
    "# correlation = st.pearsonr(greeley_unem_x,greeley_value_y)\n",
    "# print(f\"The correlation between the unemployment rate and median sale price value in Greeley, CO is: {correlation[0]}.\")\n",
    "# print(f\"P-Value is: {correlation[1]}.\")\n",
    "\n",
    "# # FIND LINEAR REGRESSION\n",
    "# greeley_unem_x = sssm_df_greely[\"Unemployment Rate\"]\n",
    "# greeley_value_y = sssm_df_greely[\"Value\"]\n",
    "\n",
    "# # Formula\n",
    "# (slope, intercept, rvalue, pvalue, stderr) = linregress(greeley_unem_x, greeley_value_y)\n",
    "# greeley_regress_values = greeley_unem_x * slope + intercept\n",
    "\n",
    "# # Line Equation\n",
    "# greeley_line_eq = \"y = \" + str(round(slope,2)) + \"x + \" + str(round(intercept,2))\n",
    "\n",
    "# # Plot\n",
    "# plt.scatter(greeley_unem_x,greeley_value_y)\n",
    "# plt.plot(greeley_unem_x,greeley_regress_values,\"r-\")\n",
    "\n",
    "# # Design Plot\n",
    "# plt.annotate(greeley_line_eq,(6, 280000),fontsize=15,color=\"red\")\n",
    "# plt.xlabel(\"Unemployment %\")\n",
    "# plt.ylabel('Median Sale Price')\n",
    "\n",
    "# # Show\n",
    "# plt.show()"
   ]
  },
  {
   "cell_type": "code",
   "execution_count": null,
   "metadata": {},
   "outputs": [],
   "source": []
  },
  {
   "cell_type": "code",
   "execution_count": null,
   "metadata": {},
   "outputs": [],
   "source": []
  }
 ],
 "metadata": {
  "kernelspec": {
   "display_name": "Python [conda env:PythonData] *",
   "language": "python",
   "name": "conda-env-PythonData-py"
  },
  "language_info": {
   "codemirror_mode": {
    "name": "ipython",
    "version": 3
   },
   "file_extension": ".py",
   "mimetype": "text/x-python",
   "name": "python",
   "nbconvert_exporter": "python",
   "pygments_lexer": "ipython3",
   "version": "3.7.1"
  }
 },
 "nbformat": 4,
 "nbformat_minor": 4
}
