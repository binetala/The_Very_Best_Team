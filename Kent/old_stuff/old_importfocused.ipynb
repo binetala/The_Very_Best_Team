{
 "cells": [
  {
   "cell_type": "code",
   "execution_count": 1,
   "metadata": {},
   "outputs": [
    {
     "name": "stdout",
     "output_type": "stream",
     "text": [
      "QRZ1MsTzV3CLxofzqPb8\n"
     ]
    }
   ],
   "source": [
    "# Dependencies and Setup\n",
    "import pandas as pd\n",
    "import numpy as np\n",
    "import requests\n",
    "import time\n",
    "import scipy.stats as st\n",
    "from scipy.stats import linregress\n",
    "import json\n",
    "import quandl\n",
    "\n",
    "from config import api_key\n",
    "print(api_key)"
   ]
  },
  {
   "cell_type": "code",
   "execution_count": 2,
   "metadata": {},
   "outputs": [],
   "source": [
    "# Check stuff out - indicators table\n",
    "# indicators_url = \"https://www.quandl.com/api/v3/datatables/ZILLOW/INDICATORS.json?&api_key=\"\n",
    "# query_url = indicators_url + api_key\n",
    "# response = requests.get(query_url).json()\n",
    "# print(json.dumps(response, indent=4, sort_keys=True))\n",
    "#print(response)\n",
    "#indicator_json = weather_response[0]\n",
    "#print(f\"Zillow responded with: {indicator_json}.\")"
   ]
  },
  {
   "cell_type": "code",
   "execution_count": 3,
   "metadata": {},
   "outputs": [],
   "source": [
    "# Check stuff out - regions table\n",
    "# regions_url = \"https://www.quandl.com/api/v3/datatables/ZILLOW/REGIONS.json?&api_key=\"\n",
    "# rquery_url = regions_url + api_key\n",
    "# r_response = requests.get(rquery_url).json()\n",
    "# print(json.dumps(r_response, indent=4, sort_keys=True))\n",
    "#lowry_json = r_response['datatable']['data'][\"80230\"]\n",
    "#print(f\"Zillow responded with: {lowry_json}.\")"
   ]
  },
  {
   "cell_type": "code",
   "execution_count": null,
   "metadata": {},
   "outputs": [],
   "source": []
  }
 ],
 "metadata": {
  "kernelspec": {
   "display_name": "Python 3",
   "language": "python",
   "name": "python3"
  },
  "language_info": {
   "codemirror_mode": {
    "name": "ipython",
    "version": 3
   },
   "file_extension": ".py",
   "mimetype": "text/x-python",
   "name": "python",
   "nbconvert_exporter": "python",
   "pygments_lexer": "ipython3",
   "version": "3.7.1"
  }
 },
 "nbformat": 4,
 "nbformat_minor": 4
}
